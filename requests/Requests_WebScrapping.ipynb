{
  "nbformat": 4,
  "nbformat_minor": 0,
  "metadata": {
    "colab": {
      "provenance": []
    },
    "kernelspec": {
      "name": "python3",
      "display_name": "Python 3"
    },
    "language_info": {
      "name": "python"
    }
  },
  "cells": [
    {
      "cell_type": "markdown",
      "source": [
        "# **Web Scrapping (Requests)**\n",
        "\n",
        "**Group 7**: No Name\n",
        "\n",
        "**Group Members**:\n",
        "1. Madina Suraya binti Zharin A20EC0203\n",
        "2. Nur Izzah Mardhiah binti Rashidi A20EC0116\n",
        "3. Tan Yong Sheng A20EC0157\n",
        "4. Chloe Racquelmae Kennedy A20EC0026\n",
        "\n",
        "Using requests library, we can fetch the content from the URL given and beautiful soup library helps to parse it and fetch the details the way we want. Requests library is the best choice if you just start with web scraping and have access to an API. It is easy to understand and does not require much practice to master. Requests also minimizes the need to include query strings in your URLs manually. It also supports authentication modules and handles cookies and sessions with excellent stability."
      ],
      "metadata": {
        "id": "F7eQeXNu45gm"
      }
    },
    {
      "cell_type": "code",
      "source": [
        "! pip install requests"
      ],
      "metadata": {
        "colab": {
          "base_uri": "https://localhost:8080/"
        },
        "id": "MjTzYFkoS2nL",
        "outputId": "f4436dc5-fdce-4f3a-91e2-13ccb1f1f674"
      },
      "execution_count": 1,
      "outputs": [
        {
          "output_type": "stream",
          "name": "stdout",
          "text": [
            "Looking in indexes: https://pypi.org/simple, https://us-python.pkg.dev/colab-wheels/public/simple/\n",
            "Requirement already satisfied: requests in /usr/local/lib/python3.8/dist-packages (2.25.1)\n",
            "Requirement already satisfied: idna<3,>=2.5 in /usr/local/lib/python3.8/dist-packages (from requests) (2.10)\n",
            "Requirement already satisfied: urllib3<1.27,>=1.21.1 in /usr/local/lib/python3.8/dist-packages (from requests) (1.24.3)\n",
            "Requirement already satisfied: certifi>=2017.4.17 in /usr/local/lib/python3.8/dist-packages (from requests) (2022.12.7)\n",
            "Requirement already satisfied: chardet<5,>=3.0.2 in /usr/local/lib/python3.8/dist-packages (from requests) (4.0.0)\n"
          ]
        }
      ]
    },
    {
      "cell_type": "code",
      "source": [
        "! pip install beautifulsoup4"
      ],
      "metadata": {
        "colab": {
          "base_uri": "https://localhost:8080/"
        },
        "id": "EgccJaaRadiI",
        "outputId": "e01203ef-7182-4449-c34d-12b1bc5f5233"
      },
      "execution_count": 2,
      "outputs": [
        {
          "output_type": "stream",
          "name": "stdout",
          "text": [
            "Looking in indexes: https://pypi.org/simple, https://us-python.pkg.dev/colab-wheels/public/simple/\n",
            "Requirement already satisfied: beautifulsoup4 in /usr/local/lib/python3.8/dist-packages (4.6.3)\n"
          ]
        }
      ]
    },
    {
      "cell_type": "code",
      "execution_count": 3,
      "metadata": {
        "id": "luY4fqhgPjww"
      },
      "outputs": [],
      "source": [
        "from bs4 import BeautifulSoup\n",
        "import requests\n",
        "import pandas as pd"
      ]
    },
    {
      "cell_type": "code",
      "source": [
        "url = 'https://www.semrush.com/website/top/malaysia/all/'\n",
        "page = requests.get(url)"
      ],
      "metadata": {
        "id": "i8J6fpq1Pn6V"
      },
      "execution_count": 4,
      "outputs": []
    },
    {
      "cell_type": "code",
      "source": [
        "response=requests.get(url)\n",
        "response"
      ],
      "metadata": {
        "colab": {
          "base_uri": "https://localhost:8080/"
        },
        "id": "vYKzDP4VQO5L",
        "outputId": "f1124071-4c45-4834-977a-99fcc57ec077"
      },
      "execution_count": 5,
      "outputs": [
        {
          "output_type": "execute_result",
          "data": {
            "text/plain": [
              "<Response [200]>"
            ]
          },
          "metadata": {},
          "execution_count": 5
        }
      ]
    },
    {
      "cell_type": "code",
      "source": [
        "# parser-lxml = Change html to Python friendly format\n",
        "# Obtain page's information\n",
        "soup = BeautifulSoup(page.text, 'lxml')\n",
        "soup"
      ],
      "metadata": {
        "id": "E7O8ai8W0H0e"
      },
      "execution_count": null,
      "outputs": []
    },
    {
      "cell_type": "code",
      "source": [
        "table1 = soup.find('table', class_='___STable_1j78b_gg_')\n",
        "table1"
      ],
      "metadata": {
        "id": "jVGBZUrXn7pL"
      },
      "execution_count": null,
      "outputs": []
    },
    {
      "cell_type": "code",
      "source": [
        "# Obtain every title of columns with tag <th>\n",
        "headers=[]\n",
        "for i in table1.find_all('th'):\n",
        "  title = i.text\n",
        "  headers.append(title)"
      ],
      "metadata": {
        "id": "od-A23pMyMqU"
      },
      "execution_count": 8,
      "outputs": []
    },
    {
      "cell_type": "code",
      "source": [
        "headers"
      ],
      "metadata": {
        "colab": {
          "base_uri": "https://localhost:8080/"
        },
        "id": "Mb_JkumW19oq",
        "outputId": "a1db2452-bd98-4ad4-ee04-94d0ef026e3f"
      },
      "execution_count": 9,
      "outputs": [
        {
          "output_type": "execute_result",
          "data": {
            "text/plain": [
              "['Position', 'Website', 'Change', 'Visits', 'Pages / Visit', 'Bounce rate']"
            ]
          },
          "metadata": {},
          "execution_count": 9
        }
      ]
    },
    {
      "cell_type": "code",
      "source": [
        "# Create a dataframe\n",
        "mydata = pd.DataFrame(columns = headers)"
      ],
      "metadata": {
        "id": "J8cQx2391srn"
      },
      "execution_count": 10,
      "outputs": []
    },
    {
      "cell_type": "code",
      "source": [
        "# Create a for loop to fill mydata\n",
        "for j in table1.find_all('tr')[1:]:\n",
        "  row_data = j.find_all('td')\n",
        "  row = [i.text for i in row_data]\n",
        "  length = len(mydata)\n",
        "  mydata.loc[length] = row"
      ],
      "metadata": {
        "id": "z_NUp-Ev1z5L"
      },
      "execution_count": 11,
      "outputs": []
    },
    {
      "cell_type": "code",
      "source": [
        "mydata"
      ],
      "metadata": {
        "colab": {
          "base_uri": "https://localhost:8080/",
          "height": 676
        },
        "id": "v_MWnFSq2gFs",
        "outputId": "82032c56-2419-4987-e6e0-2c528a6cef2f"
      },
      "execution_count": 12,
      "outputs": [
        {
          "output_type": "execute_result",
          "data": {
            "text/plain": [
              "   Position           Website Change       Visits Pages / Visit Bounce rate\n",
              "0         1        google.com      –  738,786,684          3.56      40.59%\n",
              "1         2       youtube.com      –  443,454,841          5.55      33.00%\n",
              "2         3      facebook.com      –   76,902,532          2.53      57.80%\n",
              "3         4     lazada.com.my      –   69,002,535          1.53      86.22%\n",
              "4         5       twitter.com      1   53,746,147          2.01      67.67%\n",
              "5         6     manganato.com      1   49,931,022          2.77      38.44%\n",
              "6         7     shopee.com.my      –   46,860,066          2.22      71.37%\n",
              "7         8    tsyndicate.com      –   42,341,517          1.12      88.98%\n",
              "8         9      exdynsrv.com      2   38,176,796          2.58       4.08%\n",
              "9        10    asurascans.com      5   35,919,036          3.82      59.77%\n",
              "10       11        reddit.com      1   35,573,773          2.23      59.85%\n",
              "11       12     wikipedia.org      3   35,467,196          1.97      62.95%\n",
              "12       13  mangakakalot.com      1   33,987,730          4.97      39.45%\n",
              "13       14     instagram.com      –   25,395,426          1.80      70.88%\n",
              "14       15        fandom.com      1   25,331,482          3.12      51.04%\n",
              "15       16      zinmanga.com      1   22,676,272          7.76      31.36%\n",
              "16       17       toonily.com      3   22,581,387          8.50      28.35%\n",
              "17       18      blogspot.com      5   21,846,033          2.87      58.39%\n",
              "18       19        tiktok.com      –   21,516,405          1.78      68.52%\n",
              "19       20     manganelo.com      2   19,905,317          2.79      46.51%"
            ],
            "text/html": [
              "\n",
              "  <div id=\"df-b92d41b9-769f-494f-9d48-0a3dacb32913\">\n",
              "    <div class=\"colab-df-container\">\n",
              "      <div>\n",
              "<style scoped>\n",
              "    .dataframe tbody tr th:only-of-type {\n",
              "        vertical-align: middle;\n",
              "    }\n",
              "\n",
              "    .dataframe tbody tr th {\n",
              "        vertical-align: top;\n",
              "    }\n",
              "\n",
              "    .dataframe thead th {\n",
              "        text-align: right;\n",
              "    }\n",
              "</style>\n",
              "<table border=\"1\" class=\"dataframe\">\n",
              "  <thead>\n",
              "    <tr style=\"text-align: right;\">\n",
              "      <th></th>\n",
              "      <th>Position</th>\n",
              "      <th>Website</th>\n",
              "      <th>Change</th>\n",
              "      <th>Visits</th>\n",
              "      <th>Pages / Visit</th>\n",
              "      <th>Bounce rate</th>\n",
              "    </tr>\n",
              "  </thead>\n",
              "  <tbody>\n",
              "    <tr>\n",
              "      <th>0</th>\n",
              "      <td>1</td>\n",
              "      <td>google.com</td>\n",
              "      <td>–</td>\n",
              "      <td>738,786,684</td>\n",
              "      <td>3.56</td>\n",
              "      <td>40.59%</td>\n",
              "    </tr>\n",
              "    <tr>\n",
              "      <th>1</th>\n",
              "      <td>2</td>\n",
              "      <td>youtube.com</td>\n",
              "      <td>–</td>\n",
              "      <td>443,454,841</td>\n",
              "      <td>5.55</td>\n",
              "      <td>33.00%</td>\n",
              "    </tr>\n",
              "    <tr>\n",
              "      <th>2</th>\n",
              "      <td>3</td>\n",
              "      <td>facebook.com</td>\n",
              "      <td>–</td>\n",
              "      <td>76,902,532</td>\n",
              "      <td>2.53</td>\n",
              "      <td>57.80%</td>\n",
              "    </tr>\n",
              "    <tr>\n",
              "      <th>3</th>\n",
              "      <td>4</td>\n",
              "      <td>lazada.com.my</td>\n",
              "      <td>–</td>\n",
              "      <td>69,002,535</td>\n",
              "      <td>1.53</td>\n",
              "      <td>86.22%</td>\n",
              "    </tr>\n",
              "    <tr>\n",
              "      <th>4</th>\n",
              "      <td>5</td>\n",
              "      <td>twitter.com</td>\n",
              "      <td>1</td>\n",
              "      <td>53,746,147</td>\n",
              "      <td>2.01</td>\n",
              "      <td>67.67%</td>\n",
              "    </tr>\n",
              "    <tr>\n",
              "      <th>5</th>\n",
              "      <td>6</td>\n",
              "      <td>manganato.com</td>\n",
              "      <td>1</td>\n",
              "      <td>49,931,022</td>\n",
              "      <td>2.77</td>\n",
              "      <td>38.44%</td>\n",
              "    </tr>\n",
              "    <tr>\n",
              "      <th>6</th>\n",
              "      <td>7</td>\n",
              "      <td>shopee.com.my</td>\n",
              "      <td>–</td>\n",
              "      <td>46,860,066</td>\n",
              "      <td>2.22</td>\n",
              "      <td>71.37%</td>\n",
              "    </tr>\n",
              "    <tr>\n",
              "      <th>7</th>\n",
              "      <td>8</td>\n",
              "      <td>tsyndicate.com</td>\n",
              "      <td>–</td>\n",
              "      <td>42,341,517</td>\n",
              "      <td>1.12</td>\n",
              "      <td>88.98%</td>\n",
              "    </tr>\n",
              "    <tr>\n",
              "      <th>8</th>\n",
              "      <td>9</td>\n",
              "      <td>exdynsrv.com</td>\n",
              "      <td>2</td>\n",
              "      <td>38,176,796</td>\n",
              "      <td>2.58</td>\n",
              "      <td>4.08%</td>\n",
              "    </tr>\n",
              "    <tr>\n",
              "      <th>9</th>\n",
              "      <td>10</td>\n",
              "      <td>asurascans.com</td>\n",
              "      <td>5</td>\n",
              "      <td>35,919,036</td>\n",
              "      <td>3.82</td>\n",
              "      <td>59.77%</td>\n",
              "    </tr>\n",
              "    <tr>\n",
              "      <th>10</th>\n",
              "      <td>11</td>\n",
              "      <td>reddit.com</td>\n",
              "      <td>1</td>\n",
              "      <td>35,573,773</td>\n",
              "      <td>2.23</td>\n",
              "      <td>59.85%</td>\n",
              "    </tr>\n",
              "    <tr>\n",
              "      <th>11</th>\n",
              "      <td>12</td>\n",
              "      <td>wikipedia.org</td>\n",
              "      <td>3</td>\n",
              "      <td>35,467,196</td>\n",
              "      <td>1.97</td>\n",
              "      <td>62.95%</td>\n",
              "    </tr>\n",
              "    <tr>\n",
              "      <th>12</th>\n",
              "      <td>13</td>\n",
              "      <td>mangakakalot.com</td>\n",
              "      <td>1</td>\n",
              "      <td>33,987,730</td>\n",
              "      <td>4.97</td>\n",
              "      <td>39.45%</td>\n",
              "    </tr>\n",
              "    <tr>\n",
              "      <th>13</th>\n",
              "      <td>14</td>\n",
              "      <td>instagram.com</td>\n",
              "      <td>–</td>\n",
              "      <td>25,395,426</td>\n",
              "      <td>1.80</td>\n",
              "      <td>70.88%</td>\n",
              "    </tr>\n",
              "    <tr>\n",
              "      <th>14</th>\n",
              "      <td>15</td>\n",
              "      <td>fandom.com</td>\n",
              "      <td>1</td>\n",
              "      <td>25,331,482</td>\n",
              "      <td>3.12</td>\n",
              "      <td>51.04%</td>\n",
              "    </tr>\n",
              "    <tr>\n",
              "      <th>15</th>\n",
              "      <td>16</td>\n",
              "      <td>zinmanga.com</td>\n",
              "      <td>1</td>\n",
              "      <td>22,676,272</td>\n",
              "      <td>7.76</td>\n",
              "      <td>31.36%</td>\n",
              "    </tr>\n",
              "    <tr>\n",
              "      <th>16</th>\n",
              "      <td>17</td>\n",
              "      <td>toonily.com</td>\n",
              "      <td>3</td>\n",
              "      <td>22,581,387</td>\n",
              "      <td>8.50</td>\n",
              "      <td>28.35%</td>\n",
              "    </tr>\n",
              "    <tr>\n",
              "      <th>17</th>\n",
              "      <td>18</td>\n",
              "      <td>blogspot.com</td>\n",
              "      <td>5</td>\n",
              "      <td>21,846,033</td>\n",
              "      <td>2.87</td>\n",
              "      <td>58.39%</td>\n",
              "    </tr>\n",
              "    <tr>\n",
              "      <th>18</th>\n",
              "      <td>19</td>\n",
              "      <td>tiktok.com</td>\n",
              "      <td>–</td>\n",
              "      <td>21,516,405</td>\n",
              "      <td>1.78</td>\n",
              "      <td>68.52%</td>\n",
              "    </tr>\n",
              "    <tr>\n",
              "      <th>19</th>\n",
              "      <td>20</td>\n",
              "      <td>manganelo.com</td>\n",
              "      <td>2</td>\n",
              "      <td>19,905,317</td>\n",
              "      <td>2.79</td>\n",
              "      <td>46.51%</td>\n",
              "    </tr>\n",
              "  </tbody>\n",
              "</table>\n",
              "</div>\n",
              "      <button class=\"colab-df-convert\" onclick=\"convertToInteractive('df-b92d41b9-769f-494f-9d48-0a3dacb32913')\"\n",
              "              title=\"Convert this dataframe to an interactive table.\"\n",
              "              style=\"display:none;\">\n",
              "        \n",
              "  <svg xmlns=\"http://www.w3.org/2000/svg\" height=\"24px\"viewBox=\"0 0 24 24\"\n",
              "       width=\"24px\">\n",
              "    <path d=\"M0 0h24v24H0V0z\" fill=\"none\"/>\n",
              "    <path d=\"M18.56 5.44l.94 2.06.94-2.06 2.06-.94-2.06-.94-.94-2.06-.94 2.06-2.06.94zm-11 1L8.5 8.5l.94-2.06 2.06-.94-2.06-.94L8.5 2.5l-.94 2.06-2.06.94zm10 10l.94 2.06.94-2.06 2.06-.94-2.06-.94-.94-2.06-.94 2.06-2.06.94z\"/><path d=\"M17.41 7.96l-1.37-1.37c-.4-.4-.92-.59-1.43-.59-.52 0-1.04.2-1.43.59L10.3 9.45l-7.72 7.72c-.78.78-.78 2.05 0 2.83L4 21.41c.39.39.9.59 1.41.59.51 0 1.02-.2 1.41-.59l7.78-7.78 2.81-2.81c.8-.78.8-2.07 0-2.86zM5.41 20L4 18.59l7.72-7.72 1.47 1.35L5.41 20z\"/>\n",
              "  </svg>\n",
              "      </button>\n",
              "      \n",
              "  <style>\n",
              "    .colab-df-container {\n",
              "      display:flex;\n",
              "      flex-wrap:wrap;\n",
              "      gap: 12px;\n",
              "    }\n",
              "\n",
              "    .colab-df-convert {\n",
              "      background-color: #E8F0FE;\n",
              "      border: none;\n",
              "      border-radius: 50%;\n",
              "      cursor: pointer;\n",
              "      display: none;\n",
              "      fill: #1967D2;\n",
              "      height: 32px;\n",
              "      padding: 0 0 0 0;\n",
              "      width: 32px;\n",
              "    }\n",
              "\n",
              "    .colab-df-convert:hover {\n",
              "      background-color: #E2EBFA;\n",
              "      box-shadow: 0px 1px 2px rgba(60, 64, 67, 0.3), 0px 1px 3px 1px rgba(60, 64, 67, 0.15);\n",
              "      fill: #174EA6;\n",
              "    }\n",
              "\n",
              "    [theme=dark] .colab-df-convert {\n",
              "      background-color: #3B4455;\n",
              "      fill: #D2E3FC;\n",
              "    }\n",
              "\n",
              "    [theme=dark] .colab-df-convert:hover {\n",
              "      background-color: #434B5C;\n",
              "      box-shadow: 0px 1px 3px 1px rgba(0, 0, 0, 0.15);\n",
              "      filter: drop-shadow(0px 1px 2px rgba(0, 0, 0, 0.3));\n",
              "      fill: #FFFFFF;\n",
              "    }\n",
              "  </style>\n",
              "\n",
              "      <script>\n",
              "        const buttonEl =\n",
              "          document.querySelector('#df-b92d41b9-769f-494f-9d48-0a3dacb32913 button.colab-df-convert');\n",
              "        buttonEl.style.display =\n",
              "          google.colab.kernel.accessAllowed ? 'block' : 'none';\n",
              "\n",
              "        async function convertToInteractive(key) {\n",
              "          const element = document.querySelector('#df-b92d41b9-769f-494f-9d48-0a3dacb32913');\n",
              "          const dataTable =\n",
              "            await google.colab.kernel.invokeFunction('convertToInteractive',\n",
              "                                                     [key], {});\n",
              "          if (!dataTable) return;\n",
              "\n",
              "          const docLinkHtml = 'Like what you see? Visit the ' +\n",
              "            '<a target=\"_blank\" href=https://colab.research.google.com/notebooks/data_table.ipynb>data table notebook</a>'\n",
              "            + ' to learn more about interactive tables.';\n",
              "          element.innerHTML = '';\n",
              "          dataTable['output_type'] = 'display_data';\n",
              "          await google.colab.output.renderOutput(dataTable, element);\n",
              "          const docLink = document.createElement('div');\n",
              "          docLink.innerHTML = docLinkHtml;\n",
              "          element.appendChild(docLink);\n",
              "        }\n",
              "      </script>\n",
              "    </div>\n",
              "  </div>\n",
              "  "
            ]
          },
          "metadata": {},
          "execution_count": 12
        }
      ]
    },
    {
      "cell_type": "code",
      "source": [
        "# Export to csv\n",
        "mydata.to_csv('Most Visited Websites by Traffic in Malaysia for all categories, December 2022.csv', index=False)\n",
        "# Try to read csv\n",
        "mydata2 = pd.read_csv('Most Visited Websites by Traffic in Malaysia for all categories, December 2022.csv')"
      ],
      "metadata": {
        "id": "uv7n2ppw2id7"
      },
      "execution_count": 13,
      "outputs": []
    }
  ]
}