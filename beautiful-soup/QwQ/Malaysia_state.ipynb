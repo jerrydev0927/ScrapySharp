{
  "nbformat": 4,
  "nbformat_minor": 0,
  "metadata": {
    "colab": {
      "provenance": [],
      "include_colab_link": true
    },
    "kernelspec": {
      "name": "python3",
      "display_name": "Python 3"
    },
    "language_info": {
      "name": "python"
    }
  },
  "cells": [
    {
      "cell_type": "markdown",
      "metadata": {
        "id": "view-in-github",
        "colab_type": "text"
      },
      "source": [
        "<a href=\"https://colab.research.google.com/github/drshahizan/python-web/blob/main/Malaysia_state.ipynb\" target=\"_parent\"><img src=\"https://colab.research.google.com/assets/colab-badge.svg\" alt=\"Open In Colab\"/></a>"
      ]
    },
    {
      "cell_type": "markdown",
      "source": [
        "# Web Scraping - Beautiful Soup"
      ],
      "metadata": {
        "id": "TUNyFh4-duCr"
      }
    },
    {
      "cell_type": "markdown",
      "source": [
        "In this file, we are going to do some web scraping by using beautifulsoup library. Website that we choose is [States and federal territories of Malaysia](https://en.wikipedia.org/wiki/States_and_federal_territories_of_Malaysia). We are going to take all the data from States table which include flag, emblem, state, capital, population and etc."
      ],
      "metadata": {
        "id": "QjU7jbthd4Tz"
      }
    },
    {
      "cell_type": "markdown",
      "source": [
        "**Team Members:**\n",
        "\n",
        "1.   MUHAMMAD DINIE HAZIM BIN AZALI\n",
        "2.   RADIN DAFINA BINTI RADIN ZULKAR NAIN\n",
        "3.   ADRINA ASYIQIN BINTI MD ADHA\n",
        "4.   KELVIN EE"
      ],
      "metadata": {
        "id": "4_mp7t-ihdtz"
      }
    },
    {
      "cell_type": "markdown",
      "source": [
        "First, we need to install all the required library to make it available in our colab."
      ],
      "metadata": {
        "id": "V-xk7Av4dkST"
      }
    },
    {
      "cell_type": "code",
      "execution_count": 9,
      "metadata": {
        "colab": {
          "base_uri": "https://localhost:8080/"
        },
        "id": "aa17B4jnDMLn",
        "outputId": "2a1f2500-670d-4504-988b-051617b75c59"
      },
      "outputs": [
        {
          "output_type": "stream",
          "name": "stdout",
          "text": [
            "Looking in indexes: https://pypi.org/simple, https://us-python.pkg.dev/colab-wheels/public/simple/\n",
            "Requirement already satisfied: beautifulsoup4 in /usr/local/lib/python3.8/dist-packages (4.6.3)\n",
            "Looking in indexes: https://pypi.org/simple, https://us-python.pkg.dev/colab-wheels/public/simple/\n",
            "Requirement already satisfied: requests in /usr/local/lib/python3.8/dist-packages (2.25.1)\n",
            "Requirement already satisfied: idna<3,>=2.5 in /usr/local/lib/python3.8/dist-packages (from requests) (2.10)\n",
            "Requirement already satisfied: certifi>=2017.4.17 in /usr/local/lib/python3.8/dist-packages (from requests) (2022.12.7)\n",
            "Requirement already satisfied: chardet<5,>=3.0.2 in /usr/local/lib/python3.8/dist-packages (from requests) (4.0.0)\n",
            "Requirement already satisfied: urllib3<1.27,>=1.21.1 in /usr/local/lib/python3.8/dist-packages (from requests) (1.24.3)\n"
          ]
        }
      ],
      "source": [
        "!pip install beautifulsoup4\n",
        "!pip install requests"
      ]
    },
    {
      "cell_type": "markdown",
      "source": [
        "All the necessary libraries need to be imported first."
      ],
      "metadata": {
        "id": "s4FFSi6_e-5k"
      }
    },
    {
      "cell_type": "code",
      "source": [
        "# Importing the required libraries\n",
        "import requests\n",
        "import pandas as pd\n",
        "from bs4 import BeautifulSoup"
      ],
      "metadata": {
        "id": "yA3D2MFCDn65"
      },
      "execution_count": 10,
      "outputs": []
    },
    {
      "cell_type": "markdown",
      "source": [
        "We have to download the actual HTML of the site that we choose into our colab."
      ],
      "metadata": {
        "id": "MLJJYrdXfOzq"
      }
    },
    {
      "cell_type": "code",
      "source": [
        "# Downloading contents of the web page\n",
        "url = 'https://en.wikipedia.org/wiki/States_and_federal_territories_of_Malaysia'\n",
        "data = requests.get(url).text"
      ],
      "metadata": {
        "id": "O-ZGqwPzF-TL"
      },
      "execution_count": 11,
      "outputs": []
    },
    {
      "cell_type": "markdown",
      "source": [
        "Next, we create a BeautifulSoup object and print it so that we can inspect the HTML file for us to find the table that we want."
      ],
      "metadata": {
        "id": "ZdWJzHDWfgIK"
      }
    },
    {
      "cell_type": "code",
      "source": [
        "soup = BeautifulSoup(data, 'html.parser')"
      ],
      "metadata": {
        "id": "hR0VnMXL2nKX"
      },
      "execution_count": 12,
      "outputs": []
    },
    {
      "cell_type": "markdown",
      "source": [
        "In the website that we choose, there is more than one table. We need to verify what our table class attribute so we can use the information to pick the correct table."
      ],
      "metadata": {
        "id": "ArZZ9CpBf7dD"
      }
    },
    {
      "cell_type": "code",
      "source": [
        "# Verifying tables and their classes\n",
        "print('Classes of each table:')\n",
        "for table in soup.find_all('table'):\n",
        "    print(table.get('class'))"
      ],
      "metadata": {
        "id": "j1CXZxnzGWjw",
        "colab": {
          "base_uri": "https://localhost:8080/"
        },
        "outputId": "120f1161-5dee-401a-8549-a3af34579de6"
      },
      "execution_count": 13,
      "outputs": [
        {
          "output_type": "stream",
          "name": "stdout",
          "text": [
            "Classes of each table:\n",
            "['box-More_citations_needed', 'plainlinks', 'metadata', 'ambox', 'ambox-content', 'ambox-Refimprove']\n",
            "['sidebar', 'sidebar-collapse', 'nomobile', 'nowraplinks', 'vcard', 'hlist']\n",
            "['wikitable']\n",
            "['nowraplinks', 'mw-collapsible', 'mw-collapsed', 'navbox-inner']\n",
            "['navbox-columns-table']\n",
            "None\n",
            "None\n",
            "None\n",
            "['wikitable', 'noresize', 'sortable']\n",
            "['wikitable', 'noresize', 'sortable']\n",
            "['nowraplinks', 'mw-collapsible', 'autocollapse', 'navbox-inner']\n",
            "['nowraplinks', 'hlist', 'mw-collapsible', 'autocollapse', 'navbox-inner']\n",
            "['nowraplinks', 'navbox-subgroup']\n",
            "['nowraplinks', 'navbox-subgroup']\n",
            "['nowraplinks', 'navbox-subgroup']\n",
            "['nowraplinks', 'navbox-subgroup']\n",
            "['nowraplinks', 'mw-collapsible', 'autocollapse', 'navbox-inner']\n"
          ]
        }
      ]
    },
    {
      "cell_type": "markdown",
      "source": [
        "We want to use the 6 table with class attribute wikitable, noresize and sortable."
      ],
      "metadata": {
        "id": "9jmQkoewgjCs"
      }
    },
    {
      "cell_type": "code",
      "source": [
        "# Creating list with all tables\n",
        "tables = soup.find_all('table')\n",
        "\n",
        "#  Looking for the table with the classes 'wikitable' and 'sortable'\n",
        "table = soup.find('table', {'class':\"wikitable noresize sortable\"})"
      ],
      "metadata": {
        "id": "UMj_1Da_vKjJ"
      },
      "execution_count": 14,
      "outputs": []
    },
    {
      "cell_type": "markdown",
      "source": [
        "Once we have the correct table, we can extract its data to create our own dataframe."
      ],
      "metadata": {
        "id": "oVTGwHBchATJ"
      }
    },
    {
      "cell_type": "code",
      "source": [
        "# Defining of the dataframe\n",
        "df = pd.DataFrame(columns=['Flag', 'Emblem', 'State',\t'Capital',\t'Royal_capital',\t'Population',\t'Area_km2',\t'Licence_plate',\t'Area_code',\t'Abbr',\t'ISO',\t'HDI',\t'Region',\t'Head_of_state',\t'Head_of_government'])\n",
        "\n",
        "# Collecting Ddata\n",
        "for row in table.tbody.find_all('tr'):    \n",
        "    # Find all data for each column\n",
        "    columns = row.find_all('td')\n",
        "\n",
        "    if(columns != []):\n",
        "        flag = columns[0].find('img')['src']\n",
        "        emblem = columns[1].find('img')['src']\n",
        "        state = columns[2].text.strip()\n",
        "        capital = columns[3].text.strip()\n",
        "        royal_capital = columns[4].text.strip()\n",
        "        population = columns[5].text.strip()\n",
        "        area_km2 = columns[6].text.strip()\n",
        "        licence_plate = columns[7].text.strip()\n",
        "        area_code = columns[8].text.strip()\n",
        "        abbr = columns[9].text.strip()\n",
        "        iso = columns[10].text.strip()\n",
        "        hdi = columns[11].text.strip()\n",
        "        region = columns[12].text.strip()\n",
        "        head_of_state = columns[13].text.strip()\n",
        "        head_of_government = columns[14].text.strip()\n",
        "\n",
        "        df = df.append({'Flag': flag, 'Emblem': emblem, 'State': state,\t'Capital': capital,\t'Royal_capital': royal_capital,\t'Population': population,\t'Area_km2': area_km2,\t'Licence_plate': licence_plate,\t'Area_code': area_code,\t'Abbr': abbr,\t'ISO': iso,\t'HDI': hdi,\t'Region': region,\t'Head_of_state': head_of_state,\t'Head_of_government': head_of_government}, ignore_index=True)"
      ],
      "metadata": {
        "id": "uAdGgLvvIvIY"
      },
      "execution_count": 15,
      "outputs": []
    },
    {
      "cell_type": "code",
      "source": [
        "df"
      ],
      "metadata": {
        "id": "at7CAZopPCyC",
        "colab": {
          "base_uri": "https://localhost:8080/",
          "height": 920
        },
        "outputId": "8455f6fd-b869-4fc9-9186-eb38754c2b29"
      },
      "execution_count": 16,
      "outputs": [
        {
          "output_type": "execute_result",
          "data": {
            "text/plain": [
              "                                                 Flag  \\\n",
              "0   //upload.wikimedia.org/wikipedia/commons/thumb...   \n",
              "1   //upload.wikimedia.org/wikipedia/commons/thumb...   \n",
              "2   //upload.wikimedia.org/wikipedia/commons/thumb...   \n",
              "3   //upload.wikimedia.org/wikipedia/commons/thumb...   \n",
              "4   //upload.wikimedia.org/wikipedia/commons/thumb...   \n",
              "5   //upload.wikimedia.org/wikipedia/commons/thumb...   \n",
              "6   //upload.wikimedia.org/wikipedia/commons/thumb...   \n",
              "7   //upload.wikimedia.org/wikipedia/commons/thumb...   \n",
              "8   //upload.wikimedia.org/wikipedia/commons/thumb...   \n",
              "9   //upload.wikimedia.org/wikipedia/commons/thumb...   \n",
              "10  //upload.wikimedia.org/wikipedia/commons/thumb...   \n",
              "11  //upload.wikimedia.org/wikipedia/commons/thumb...   \n",
              "12  //upload.wikimedia.org/wikipedia/commons/thumb...   \n",
              "\n",
              "                                               Emblem            State  \\\n",
              "0   //upload.wikimedia.org/wikipedia/commons/thumb...            Johor   \n",
              "1   //upload.wikimedia.org/wikipedia/commons/thumb...            Kedah   \n",
              "2   //upload.wikimedia.org/wikipedia/commons/thumb...         Kelantan   \n",
              "3   //upload.wikimedia.org/wikipedia/commons/thumb...          Malacca   \n",
              "4   //upload.wikimedia.org/wikipedia/commons/thumb...  Negeri Sembilan   \n",
              "5   //upload.wikimedia.org/wikipedia/commons/thumb...           Pahang   \n",
              "6   //upload.wikimedia.org/wikipedia/commons/thumb...           Penang   \n",
              "7   //upload.wikimedia.org/wikipedia/commons/thumb...            Perak   \n",
              "8   //upload.wikimedia.org/wikipedia/commons/thumb...           Perlis   \n",
              "9   //upload.wikimedia.org/wikipedia/commons/thumb...            Sabah   \n",
              "10  //upload.wikimedia.org/wikipedia/commons/thumb...          Sarawak   \n",
              "11  //upload.wikimedia.org/wikipedia/commons/thumb...         Selangor   \n",
              "12  //upload.wikimedia.org/wikipedia/commons/thumb...       Terengganu   \n",
              "\n",
              "             Capital     Royal_capital Population Area_km2 Licence_plate  \\\n",
              "0        Johor Bahru              Muar  3,794,000   19,166             J   \n",
              "1         Alor Setar        Anak Bukit  2,194,100    9,492             K   \n",
              "2         Kota Bharu     Kubang Kerian  1,928,800   15,040             D   \n",
              "3       Malacca City                 —    937,500    1,712             M   \n",
              "4           Seremban      Seri Menanti  1,129,100    6,658             N   \n",
              "5            Kuantan             Pekan  1,684,600   35,965             C   \n",
              "6        George Town                 —  1,774,400    1,049             P   \n",
              "7               Ipoh     Kuala Kangsar  2,508,900   21,146             A   \n",
              "8             Kangar              Arau    255,400      819             R   \n",
              "9      Kota Kinabalu                 —  3,833,000   73,621             S   \n",
              "10           Kuching                 —  2,822,200  124,450             Q   \n",
              "11         Shah Alam             Klang  6,555,400    7,951             B   \n",
              "12  Kuala Terengganu  Kuala Terengganu  1,275,100   12,958             T   \n",
              "\n",
              "                                   Area_code Abbr    ISO    HDI  \\\n",
              "0                    07, 06 (Muar & Tangkak)  JHR  MY-01  0.825   \n",
              "1                                         04  KDH  MY-02  0.808   \n",
              "2                                         09  KTN  MY-03  0.779   \n",
              "3                                         06  MLK  MY-04  0.835   \n",
              "4                                         06  NSN  MY-05  0.829   \n",
              "5   09, 03 (Genting Highlands), 05 (Cameron)  PHG  MY-06  0.804   \n",
              "6                                         04  PNG  MY-07  0.845   \n",
              "7                                         05  PRK  MY-08  0.816   \n",
              "8                                         04  PLS  MY-09  0.805   \n",
              "9                                    087–089  SBH  MY-12  0.710   \n",
              "10                                   081–086  SWK  MY-13  0.745   \n",
              "11                                        03  SGR  MY-10  0.863   \n",
              "12                                        09  TRG  MY-11  0.800   \n",
              "\n",
              "                 Region                       Head_of_state Head_of_government  \n",
              "0   Peninsular Malaysia                              Sultan      Menteri Besar  \n",
              "1   Peninsular Malaysia                              Sultan      Menteri Besar  \n",
              "2   Peninsular Malaysia                              Sultan      Menteri Besar  \n",
              "3   Peninsular Malaysia    Yang di-Pertua Negeri (Governor)     Chief Minister  \n",
              "4   Peninsular Malaysia  Yang di-Pertuan Besar(Grand Ruler)      Menteri Besar  \n",
              "5   Peninsular Malaysia                              Sultan      Menteri Besar  \n",
              "6   Peninsular Malaysia    Yang di-Pertua Negeri (Governor)     Chief Minister  \n",
              "7   Peninsular Malaysia                              Sultan      Menteri Besar  \n",
              "8   Peninsular Malaysia                                Raja      Menteri Besar  \n",
              "9         East Malaysia    Yang di-Pertua Negeri (Governor)     Chief Minister  \n",
              "10        East Malaysia    Yang di-Pertua Negeri (Governor)            Premier  \n",
              "11  Peninsular Malaysia                              Sultan      Menteri Besar  \n",
              "12  Peninsular Malaysia                              Sultan      Menteri Besar  "
            ],
            "text/html": [
              "\n",
              "  <div id=\"df-1b248452-7027-4085-80c8-bfc4a9121914\">\n",
              "    <div class=\"colab-df-container\">\n",
              "      <div>\n",
              "<style scoped>\n",
              "    .dataframe tbody tr th:only-of-type {\n",
              "        vertical-align: middle;\n",
              "    }\n",
              "\n",
              "    .dataframe tbody tr th {\n",
              "        vertical-align: top;\n",
              "    }\n",
              "\n",
              "    .dataframe thead th {\n", 
              "        text-align: right;\n",
              "    }\n",
              "</style>\n",
              "<table border=\"1\" class=\"dataframe\">\n",
              "  <thead>\n",
              "    <tr style=\"text-align: right;\">\n",
              "      <th></th>\n",
              "      <th>Flag</th>\n",
              "      <th>Emblem</th>\n",
              "      <th>State</th>\n",
              "      <th>Capital</th>\n",
              "      <th>Royal_capital</th>\n",
              "      <th>Population</th>\n",
              "      <th>Area_km2</th>\n",
              "      <th>Licence_plate</th>\n",
              "      <th>Area_code</th>\n",
              "      <th>Abbr</th>\n",
              "      <th>ISO</th>\n",
              "      <th>HDI</th>\n",
              "      <th>Region</th>\n",
              "      <th>Head_of_state</th>\n",
              "      <th>Head_of_government</th>\n",
              "    </tr>\n",
              "  </thead>\n",
              "  <tbody>\n",
              "    <tr>\n",
              "      <th>0</th>\n",
              "      <td>//upload.wikimedia.org/wikipedia/commons/thumb...</td>\n",
              "      <td>//upload.wikimedia.org/wikipedia/commons/thumb...</td>\n",
              "      <td>Johor</td>\n",
              "      <td>Johor Bahru</td>\n",
              "      <td>Muar</td>\n",
              "      <td>3,794,000</td>\n",
              "      <td>19,166</td>\n",
              "      <td>J</td>\n",
              "      <td>07, 06 (Muar &amp; Tangkak)</td>\n",
              "      <td>JHR</td>\n",
              "      <td>MY-01</td>\n",
              "      <td>0.825</td>\n",
              "      <td>Peninsular Malaysia</td>\n",
              "      <td>Sultan</td>\n",
              "      <td>Menteri Besar</td>\n",
              "    </tr>\n",
              "    <tr>\n",
              "      <th>1</th>\n",
              "      <td>//upload.wikimedia.org/wikipedia/commons/thumb...</td>\n",
              "      <td>//upload.wikimedia.org/wikipedia/commons/thumb...</td>\n",
              "      <td>Kedah</td>\n",
              "      <td>Alor Setar</td>\n",
              "      <td>Anak Bukit</td>\n",
              "      <td>2,194,100</td>\n",
              "      <td>9,492</td>\n",
              "      <td>K</td>\n",
              "      <td>04</td>\n",
              "      <td>KDH</td>\n",
              "      <td>MY-02</td>\n",
              "      <td>0.808</td>\n",
              "      <td>Peninsular Malaysia</td>\n",
              "      <td>Sultan</td>\n",
              "      <td>Menteri Besar</td>\n",
              "    </tr>\n",
              "    <tr>\n",
              "      <th>2</th>\n",
              "      <td>//upload.wikimedia.org/wikipedia/commons/thumb...</td>\n",
              "      <td>//upload.wikimedia.org/wikipedia/commons/thumb...</td>\n",
              "      <td>Kelantan</td>\n",
              "      <td>Kota Bharu</td>\n",
              "      <td>Kubang Kerian</td>\n",
              "      <td>1,928,800</td>\n",
              "      <td>15,040</td>\n",
              "      <td>D</td>\n",
              "      <td>09</td>\n",
              "      <td>KTN</td>\n",
              "      <td>MY-03</td>\n",
              "      <td>0.779</td>\n",
              "      <td>Peninsular Malaysia</td>\n",
              "      <td>Sultan</td>\n",
              "      <td>Menteri Besar</td>\n",
              "    </tr>\n",
              "    <tr>\n",
              "      <th>3</th>\n",
              "      <td>//upload.wikimedia.org/wikipedia/commons/thumb...</td>\n",
              "      <td>//upload.wikimedia.org/wikipedia/commons/thumb...</td>\n",
              "      <td>Malacca</td>\n",
              "      <td>Malacca City</td>\n",
              "      <td>—</td>\n",
              "      <td>937,500</td>\n",
              "      <td>1,712</td>\n",
              "      <td>M</td>\n",
              "      <td>06</td>\n",
              "      <td>MLK</td>\n",
              "      <td>MY-04</td>\n",
              "      <td>0.835</td>\n",
              "      <td>Peninsular Malaysia</td>\n",
              "      <td>Yang di-Pertua Negeri (Governor)</td>\n",
              "      <td>Chief Minister</td>\n",
              "    </tr>\n",
              "    <tr>\n",
              "      <th>4</th>\n",
              "      <td>//upload.wikimedia.org/wikipedia/commons/thumb...</td>\n",
              "      <td>//upload.wikimedia.org/wikipedia/commons/thumb...</td>\n",
              "      <td>Negeri Sembilan</td>\n",
              "      <td>Seremban</td>\n",
              "      <td>Seri Menanti</td>\n",
              "      <td>1,129,100</td>\n",
              "      <td>6,658</td>\n",
              "      <td>N</td>\n",
              "      <td>06</td>\n",
              "      <td>NSN</td>\n",
              "      <td>MY-05</td>\n",
              "      <td>0.829</td>\n",
              "      <td>Peninsular Malaysia</td>\n",
              "      <td>Yang di-Pertuan Besar(Grand Ruler)</td>\n",
              "      <td>Menteri Besar</td>\n",
              "    </tr>\n",
              "    <tr>\n",
              "      <th>5</th>\n",
              "      <td>//upload.wikimedia.org/wikipedia/commons/thumb...</td>\n",
              "      <td>//upload.wikimedia.org/wikipedia/commons/thumb...</td>\n",
              "      <td>Pahang</td>\n",
              "      <td>Kuantan</td>\n",
              "      <td>Pekan</td>\n",
              "      <td>1,684,600</td>\n",
              "      <td>35,965</td>\n",
              "      <td>C</td>\n",
              "      <td>09, 03 (Genting Highlands), 05 (Cameron)</td>\n",
              "      <td>PHG</td>\n",
              "      <td>MY-06</td>\n",
              "      <td>0.804</td>\n",
              "      <td>Peninsular Malaysia</td>\n",
              "      <td>Sultan</td>\n",
              "      <td>Menteri Besar</td>\n",
              "    </tr>\n",
              "    <tr>\n",
              "      <th>6</th>\n",
              "      <td>//upload.wikimedia.org/wikipedia/commons/thumb...</td>\n",
              "      <td>//upload.wikimedia.org/wikipedia/commons/thumb...</td>\n",
              "      <td>Penang</td>\n",
              "      <td>George Town</td>\n",
              "      <td>—</td>\n",
              "      <td>1,774,400</td>\n",
              "      <td>1,049</td>\n",
              "      <td>P</td>\n",
              "      <td>04</td>\n",
              "      <td>PNG</td>\n",
              "      <td>MY-07</td>\n",
              "      <td>0.845</td>\n",
              "      <td>Peninsular Malaysia</td>\n",
              "      <td>Yang di-Pertua Negeri (Governor)</td>\n",
              "      <td>Chief Minister</td>\n",
              "    </tr>\n",
              "    <tr>\n",
              "      <th>7</th>\n",
              "      <td>//upload.wikimedia.org/wikipedia/commons/thumb...</td>\n",
              "      <td>//upload.wikimedia.org/wikipedia/commons/thumb...</td>\n",
              "      <td>Perak</td>\n",
              "      <td>Ipoh</td>\n",
              "      <td>Kuala Kangsar</td>\n",
              "      <td>2,508,900</td>\n",
              "      <td>21,146</td>\n",
              "      <td>A</td>\n",
              "      <td>05</td>\n",
              "      <td>PRK</td>\n",
              "      <td>MY-08</td>\n",
              "      <td>0.816</td>\n",
              "      <td>Peninsular Malaysia</td>\n",
              "      <td>Sultan</td>\n",
              "      <td>Menteri Besar</td>\n",
              "    </tr>\n",
              "    <tr>\n",
              "      <th>8</th>\n",
              "      <td>//upload.wikimedia.org/wikipedia/commons/thumb...</td>\n",
              "      <td>//upload.wikimedia.org/wikipedia/commons/thumb...</td>\n",
              "      <td>Perlis</td>\n",
              "      <td>Kangar</td>\n",
              "      <td>Arau</td>\n",
              "      <td>255,400</td>\n",
              "      <td>819</td>\n",
              "      <td>R</td>\n",
              "      <td>04</td>\n",
              "      <td>PLS</td>\n",
              "      <td>MY-09</td>\n",
              "      <td>0.805</td>\n",
              "      <td>Peninsular Malaysia</td>\n",
              "      <td>Raja</td>\n",
              "      <td>Menteri Besar</td>\n",
              "    </tr>\n",
              "    <tr>\n",
              "      <th>9</th>\n",
              "      <td>//upload.wikimedia.org/wikipedia/commons/thumb...</td>\n",
              "      <td>//upload.wikimedia.org/wikipedia/commons/thumb...</td>\n",
              "      <td>Sabah</td>\n",
              "      <td>Kota Kinabalu</td>\n",
              "      <td>—</td>\n",
              "      <td>3,833,000</td>\n",
              "      <td>73,621</td>\n",
              "      <td>S</td>\n",
              "      <td>087–089</td>\n",
              "      <td>SBH</td>\n",
              "      <td>MY-12</td>\n",
              "      <td>0.710</td>\n",
              "      <td>East Malaysia</td>\n",
              "      <td>Yang di-Pertua Negeri (Governor)</td>\n",
              "      <td>Chief Minister</td>\n",
              "    </tr>\n",
              "    <tr>\n",
              "      <th>10</th>\n",
              "      <td>//upload.wikimedia.org/wikipedia/commons/thumb...</td>\n",
              "      <td>//upload.wikimedia.org/wikipedia/commons/thumb...</td>\n",
              "      <td>Sarawak</td>\n",
              "      <td>Kuching</td>\n",
              "      <td>—</td>\n",
              "      <td>2,822,200</td>\n",
              "      <td>124,450</td>\n",
              "      <td>Q</td>\n",
              "      <td>081–086</td>\n",
              "      <td>SWK</td>\n",
              "      <td>MY-13</td>\n",
              "      <td>0.745</td>\n",
              "      <td>East Malaysia</td>\n",
              "      <td>Yang di-Pertua Negeri (Governor)</td>\n",
              "      <td>Premier</td>\n",
              "    </tr>\n",
              "    <tr>\n",
              "      <th>11</th>\n",
              "      <td>//upload.wikimedia.org/wikipedia/commons/thumb...</td>\n",
              "      <td>//upload.wikimedia.org/wikipedia/commons/thumb...</td>\n",
              "      <td>Selangor</td>\n",
              "      <td>Shah Alam</td>\n",
              "      <td>Klang</td>\n",
              "      <td>6,555,400</td>\n",
              "      <td>7,951</td>\n", 
              "      <td>B</td>\n",
              "      <td>03</td>\n",
              "      <td>SGR</td>\n",
              "      <td>MY-10</td>\n",
              "      <td>0.863</td>\n",
              "      <td>Peninsular Malaysia</td>\n",
              "      <td>Sultan</td>\n",
              "      <td>Menteri Besar</td>\n",
              "    </tr>\n",
              "    <tr>\n",
              "      <th>12</th>\n",
              "      <td>//upload.wikimedia.org/wikipedia/commons/thumb...</td>\n",
              "      <td>//upload.wikimedia.org/wikipedia/commons/thumb...</td>\n",
              "      <td>Terengganu</td>\n",
              "      <td>Kuala Terengganu</td>\n",
              "      <td>Kuala Terengganu</td>\n",
              "      <td>1,275,100</td>\n",
              "      <td>12,958</td>\n",
              "      <td>T</td>\n",
              "      <td>09</td>\n",
              "      <td>TRG</td>\n",
              "      <td>MY-11</td>\n",
              "      <td>0.800</td>\n",
              "      <td>Peninsular Malaysia</td>\n",
              "      <td>Sultan</td>\n",
              "      <td>Menteri Besar</td>\n",
              "    </tr>\n",
              "  </tbody>\n",
              "</table>\n",
              "</div>\n",
              "      <button class=\"colab-df-convert\" onclick=\"convertToInteractive('df-1b248452-7027-4085-80c8-bfc4a9121914')\"\n",
              "              title=\"Convert this dataframe to an interactive table.\"\n",
              "              style=\"display:none;\">\n",
              "        \n",
              "  <svg xmlns=\"http://www.w3.org/2000/svg\" height=\"24px\"viewBox=\"0 0 24 24\"\n",
              "       width=\"24px\">\n",
              "    <path d=\"M0 0h24v24H0V0z\" fill=\"none\"/>\n",
              "    <path d=\"M18.56 5.44l.94 2.06.94-2.06 2.06-.94-2.06-.94-.94-2.06-.94 2.06-2.06.94zm-11 1L8.5 8.5l.94-2.06 2.06-.94-2.06-.94L8.5 2.5l-.94 2.06-2.06.94zm10 10l.94 2.06.94-2.06 2.06-.94-2.06-.94-.94-2.06-.94 2.06-2.06.94z\"/><path d=\"M17.41 7.96l-1.37-1.37c-.4-.4-.92-.59-1.43-.59-.52 0-1.04.2-1.43.59L10.3 9.45l-7.72 7.72c-.78.78-.78 2.05 0 2.83L4 21.41c.39.39.9.59 1.41.59.51 0 1.02-.2 1.41-.59l7.78-7.78 2.81-2.81c.8-.78.8-2.07 0-2.86zM5.41 20L4 18.59l7.72-7.72 1.47 1.35L5.41 20z\"/>\n",
              "  </svg>\n",
              "      </button>\n",
              "      \n",
              "  <style>\n",
              "    .colab-df-container {\n",
              "      display:flex;\n",
              "      flex-wrap:wrap;\n",
              "      gap: 12px;\n",
              "    }\n",
              "\n",
              "    .colab-df-convert {\n",
              "      background-color: #E8F0FE;\n",
              "      border: none;\n",
              "      border-radius: 50%;\n",
              "      cursor: pointer;\n",
              "      display: none;\n",
              "      fill: #1967D2;\n",
              "      height: 32px;\n",
              "      padding: 0 0 0 0;\n",
              "      width: 32px;\n",
              "    }\n",
              "\n",
              "    .colab-df-convert:hover {\n",
              "      background-color: #E2EBFA;\n",
              "      box-shadow: 0px 1px 2px rgba(60, 64, 67, 0.3), 0px 1px 3px 1px rgba(60, 64, 67, 0.15);\n",
              "      fill: #174EA6;\n",
              "    }\n",
              "\n",
              "    [theme=dark] .colab-df-convert {\n",
              "      background-color: #3B4455;\n",
              "      fill: #D2E3FC;\n",
              "    }\n",
              "\n",
              "    [theme=dark] .colab-df-convert:hover {\n",
              "      background-color: #434B5C;\n",
              "      box-shadow: 0px 1px 3px 1px rgba(0, 0, 0, 0.15);\n",
              "      filter: drop-shadow(0px 1px 2px rgba(0, 0, 0, 0.3));\n",
              "      fill: #FFFFFF;\n",
              "    }\n",
              "  </style>\n",
              "\n",
              "      <script>\n",
              "        const buttonEl =\n",
              "          document.querySelector('#df-1b248452-7027-4085-80c8-bfc4a9121914 button.colab-df-convert');\n",
              "        buttonEl.style.display =\n",
              "          google.colab.kernel.accessAllowed ? 'block' : 'none';\n",
              "\n",
              "        async function convertToInteractive(key) {\n",
              "          const element = document.querySelector('#df-1b248452-7027-4085-80c8-bfc4a9121914');\n",
              "          const dataTable =\n",
              "            await google.colab.kernel.invokeFunction('convertToInteractive',\n",
              "                                                     [key], {});\n",
              "          if (!dataTable) return;\n",
              "\n",
              "          const docLinkHtml = 'Like what you see? Visit the ' +\n",
              "            '<a target=\"_blank\" href=https://colab.research.google.com/notebooks/data_table.ipynb>data table notebook</a>'\n",
              "            + ' to learn more about interactive tables.';\n",
              "          element.innerHTML = '';\n",
              "          dataTable['output_type'] = 'display_data';\n",
              "          await google.colab.output.renderOutput(dataTable, element);\n",
              "          const docLink = document.createElement('div');\n",
              "          docLink.innerHTML = docLinkHtml;\n",
              "          element.appendChild(docLink);\n",
              "        }\n",
              "      </script>\n",
              "    </div>\n",
              "  </div>\n",
              "  "
            ]
          },
          "metadata": {},
          "execution_count": 16
        }
      ]
    },
    {
      "cell_type": "code",
      "source": [
        "df.to_csv('Malaysia_states.csv', index=False)"
      ],
      "metadata": {
        "id": "hSXsUl93_OSk"
      },
      "execution_count": 28,
      "outputs": []
    }
  ]
}
