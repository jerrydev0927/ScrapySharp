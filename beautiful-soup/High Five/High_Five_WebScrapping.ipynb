{
  "nbformat": 4,
  "nbformat_minor": 0,
  "metadata": {
    "colab": {
      "provenance": [],
      "include_colab_link": true
    },
    "kernelspec": {
      "name": "python3",
      "display_name": "Python 3"
    },
    "language_info": {
      "name": "python"
    }
  },
  "cells": [
    {
      "cell_type": "markdown",
      "metadata": {
        "id": "view-in-github",
        "colab_type": "text"
      },
      "source": [
        "<a href=\"https://colab.research.google.com/github/drshahizan/python-web/blob/main/beautiful-soup/High%20Five/High_Five_WebScrapping.ipynb\" target=\"_parent\"><img src=\"https://colab.research.google.com/assets/colab-badge.svg\" alt=\"Open In Colab\"/></a>"
      ]
    },
    {
      "cell_type": "markdown",
      "source": [
        "**<h1>WEB SCRAPING (BEAUTIFUL SOUP) 🍲<h1>**\n",
        "\n",
        "<h5>Web scraping is the process of automatically extracting data from websites using a computer program. In this case, we used Python and the BeautifulSoup library to scrape the \"books to scrape\" website https://eduspiral.com/about-us-eduspiral-consultant-services/advise-best-course-study-top-private-universities-malaysia/top-guides-choosing-the-best-course/best-courses-study-in-malaysia/top-10-degree-courses-in-malaysia-with-highest-starting-salaries/choosing-a-degree-malaysia-top-most-popular-courses/top-ten-best-degree-diploma-foundtion-pre-university-courses-to-study-in-malaysia-after-spm-uec-olevels-stpm-alevels-cpu-sam-ausmat-mufy/. The script starts by sending a GET request to the website using the requests.get() function and parse the HTML content of the page using BeautifulSoup. We then used the find_all() method to locate all the \"article\" tags on the page, which contain information about each book. Then, we used the select() method to select elements with a specific CSS class, in this case the price, availability, rating, and link of the book. <h5>\n",
        "\n",
        "<br>\n",
        "\n",
        "**Group Members:**\n",
        "\n",
        "<br>\n",
        "<table width = 700>\n",
        "  <tr>\n",
        "    <th>Name</th>\n",
        "    <th>Matric</th>\n",
        "  </tr>\n",
        "  <tr>\n",
        "    <th>AHMAD MUHAIMIN BIN AHMAD HAMBALI</th>\n",
        "    <th>A20EC0006</th>\n",
        "  </tr>\n",
        "  <tr>\n",
        "    <th>NAYLI NABIHAH BINTI JASNI</th>\n",
        "    <th>A20EC0105</th>\n",
        "  </tr>\n",
        "    <tr>\n",
        "    <th>SAKINAH AL’IZZAH BINTI MOHD ASRI</th>\n",
        "    <th>A20EC0142</th>\n",
        "  </tr>\n",
        "    <tr>\n",
        "    <th>LEE JIA XIAN</th>\n",
        "    <th>A20EC0200</th>\n",
        "  </tr>\n",
        "</table> \n"
      ],
      "metadata": {
        "id": "3lUq01bYfOYe"
      }
    },
    {
      "cell_type": "markdown",
      "source": [
        "**Install all the necessary library**"
      ],
      "metadata": {
        "id": "T14j18iMfUPi"
      }
    },
    {
      "cell_type": "code",
      "source": [
        "!pip install requests\n",
        "!pip install html5lib\n",
        "!pip install bs4"
      ],
      "metadata": {
        "colab": {
          "base_uri": "https://localhost:8080/"
        },
        "id": "XJHX65S8KyWE",
        "outputId": "4aef341b-b98c-4dc0-8435-d44ebab7b2c8"
      },
      "execution_count": 2,
      "outputs": [
        {
          "output_type": "stream",
          "name": "stdout",
          "text": [
            "Looking in indexes: https://pypi.org/simple, https://us-python.pkg.dev/colab-wheels/public/simple/\n",
            "Requirement already satisfied: requests in /usr/local/lib/python3.8/dist-packages (2.25.1)\n",
            "Requirement already satisfied: certifi>=2017.4.17 in /usr/local/lib/python3.8/dist-packages (from requests) (2022.12.7)\n",
            "Requirement already satisfied: urllib3<1.27,>=1.21.1 in /usr/local/lib/python3.8/dist-packages (from requests) (1.24.3)\n",
            "Requirement already satisfied: idna<3,>=2.5 in /usr/local/lib/python3.8/dist-packages (from requests) (2.10)\n",
            "Requirement already satisfied: chardet<5,>=3.0.2 in /usr/local/lib/python3.8/dist-packages (from requests) (4.0.0)\n",
            "Looking in indexes: https://pypi.org/simple, https://us-python.pkg.dev/colab-wheels/public/simple/\n",
            "Requirement already satisfied: html5lib in /usr/local/lib/python3.8/dist-packages (1.0.1)\n",
            "Requirement already satisfied: six>=1.9 in /usr/local/lib/python3.8/dist-packages (from html5lib) (1.15.0)\n",
            "Requirement already satisfied: webencodings in /usr/local/lib/python3.8/dist-packages (from html5lib) (0.5.1)\n",
            "Looking in indexes: https://pypi.org/simple, https://us-python.pkg.dev/colab-wheels/public/simple/\n",
            "Requirement already satisfied: bs4 in /usr/local/lib/python3.8/dist-packages (0.0.1)\n",
            "Requirement already satisfied: beautifulsoup4 in /usr/local/lib/python3.8/dist-packages (from bs4) (4.6.3)\n"
          ]
        }
      ]
    },
    {
      "cell_type": "markdown",
      "source": [
        "**Import libraries that we'll use**"
      ],
      "metadata": {
        "id": "cgo1jJ0vfXUY"
      }
    },
    {
      "cell_type": "code",
      "source": [
        "import requests\n",
        "import pandas as pd\n",
        "import numpy as np\n",
        "from bs4 import BeautifulSoup\n",
        "import re as re"
      ],
      "metadata": {
        "id": "A5sN5TrDfaf4"
      },
      "execution_count": 120,
      "outputs": []
    },
    {
      "cell_type": "markdown",
      "source": [
        "This code uses the requests library to send a GET request to the specified URL and stores the server's response in the 'response' variable."
      ],
      "metadata": {
        "id": "g2mpdZglfgvT"
      }
    },
    {
      "cell_type": "code",
      "source": [
        "url = 'https://eduspiral.com/about-us-eduspiral-consultant-services/advise-best-course-study-top-private-universities-malaysia/top-guides-choosing-the-best-course/best-courses-study-in-malaysia/top-10-degree-courses-in-malaysia-with-highest-starting-salaries/choosing-a-degree-malaysia-top-most-popular-courses/top-ten-best-degree-diploma-foundtion-pre-university-courses-to-study-in-malaysia-after-spm-uec-olevels-stpm-alevels-cpu-sam-ausmat-mufy/'\n",
        "response = requests.get(url)\n",
        "soup = BeautifulSoup(response.text, 'html.parser')"
      ],
      "metadata": {
        "id": "wIF5Nda_fftF"
      },
      "execution_count": 4,
      "outputs": []
    },
    {
      "cell_type": "markdown",
      "source": [
        "Extract the first ordered list 'ol' from the website, then it iterates through the list items 'li' of that ordered list, extracts the strong text and the text of the li, and the link of the 'a' tag inside the li, and stores them in a list of dictionaries, where each dictionary contains the category, name and link of a course."
      ],
      "metadata": {
        "id": "DTEEVwmcf98w"
      }
    },
    {
      "cell_type": "code",
      "source": [
        "#find the first list from the website\n",
        "first_list = soup.find_all('ol')[0]\n",
        "courses = []\n",
        "for course in first_list.find_all('li'):\n",
        "    category = course.find('strong')\n",
        "    name = course.get_text()\n",
        "    link = course.find('a')['href']\n",
        "    courses.append({'Category': category, 'Course Name': name, 'Link': link})\n",
        "\n",
        "print(courses)\n",
        "\n"
      ],
      "metadata": {
        "colab": {
          "base_uri": "https://localhost:8080/"
        },
        "id": "SHztLyGjKsVs",
        "outputId": "ece4b482-edda-4769-818a-881fbe203ab4"
      },
      "execution_count": 142,
      "outputs": [
        {
          "output_type": "stream",
          "name": "stdout",
          "text": [
            "[{'Category': <strong>Best Computer Science, Computing &amp; Information Technology (IT) </strong>, 'Course Name': 'Best Computer Science, Computing & Information Technology (IT)\\xa0Courses to Study in Malaysia\\nI was confused about what to study & at which university. Talking to EduSpiral helped clear my doubts.Zen Yi, Graduated from Software Engineering at Asia Pacific University (APU)\\n\\nComputing\\nComputer Science\\nSoftware Engineering or Computer Programming\\nInformation Technology (IT) or Information Communications Technology\\nArtificial Intelligence (Ai)\\nBlockchain\\nBusiness Information Systems (BIS)\\nCloud Computing\\nCyber Security\\nData Science or\\xa0Data Analytics or Big Data\\nForensic Computing\\nGame Design\\xa0or Computer Games Development\\nIntelligent Systems\\nInternet of Things (IoT)\\nMobile Computing\\nNetwork Computing\\nSystems Security\\n\\n', 'Link': 'https://eduspiral.com/best-university-top-colleges-ranking-in-malaysia-offering-foundation-pre-university-degree-diploma-courses/23456242_1246066915539040_2377339565484969943_o/'}, {'Category': None, 'Course Name': 'Computing', 'Link': 'https://eduspiral.com/about-us-eduspiral-consultant-services/advise-best-course-study-top-private-universities-malaysia/choosing-your-course/best-computing-courses-top-universities-malaysia/top-ten-information-technology-it-computer-science-courses-in-malaysia/top-3-computing-courses-in-malaysia-information-technology-it-computer-science-software-engineering/'}, {'Category': None, 'Course Name': 'Computer Science', 'Link': 'https://eduspiral.com/top-courses-in-malaysia-high-job-in-demand/best-universities-in-malaysia-top-computer-science-diploma-degree-courses-in-malaysia/'}, {'Category': None, 'Course Name': 'Software Engineering or Computer Programming', 'Link': 'https://eduspiral.com/best-university-top-colleges-ranking-in-malaysia-offering-foundation-pre-university-degree-diploma-courses/top-ranking-list-private-university-colleges-malaysia/top-ten-computer-engineering-software-programming-study-in-malaysia/'}, {'Category': None, 'Course Name': 'Information Technology (IT) or Information Communications Technology', 'Link': 'https://eduspiral.com/2019/03/30/top-10-private-universities-in-malaysia-information-technology-it/'}, {'Category': None, 'Course Name': 'Artificial Intelligence (Ai)', 'Link': 'https://eduspiral.com/best-university-top-colleges-ranking-in-malaysia-offering-foundation-pre-university-degree-diploma-courses/top-ranking-list-private-university-colleges-malaysia/best-computer-science-at-top-universities-in-malaysia/top-10-universities-for-best-computer-science-in-malaysia/best-artificial-intelligence-ai-intelligent-systems-courses-top-universities-malaysia/'}, {'Category': None, 'Course Name': 'Blockchain', 'Link': 'https://eduspiral.com/2019/12/12/top-university-malaysia-blockchain/'}, {'Category': None, 'Course Name': 'Business Information Systems (BIS)', 'Link': 'https://eduspiral.com/best-universities-malaysia-business-information-systems-bis/'}, {'Category': None, 'Course Name': 'Cloud Computing', 'Link': 'https://eduspiral.com/about-us-eduspiral-consultant-services/advise-best-course-study-top-private-universities-malaysia/choosing-your-course/best-computing-courses-top-universities-malaysia/best-cloud-computing-courses-top-universities-malaysia/top-degree-cloud-computing-university-malaysia/'}, {'Category': None, 'Course Name': 'Cyber Security', 'Link': 'https://eduspiral.com/top-universities-in-malaysia-best-cyber-security-computer-security-technology-degree-course/'}, {'Category': None, 'Course Name': 'Data Science or\\xa0Data Analytics or Big Data', 'Link': 'https://eduspiral.com/2017/12/02/top-universities-in-malaysia-best-for-data-science-data-analytics-course/'}, {'Category': None, 'Course Name': 'Forensic Computing', 'Link': 'https://eduspiral.com/2019/12/04/best-university-study-digital-forensics-course-malaysia/'}, {'Category': None, 'Course Name': 'Game Design\\xa0or Computer Games Development', 'Link': 'https://eduspiral.com/about-us-eduspiral-consultant-services/advise-best-course-study-top-private-universities-malaysia/choosing-your-course/best-computing-courses-top-universities-malaysia/best-computer-games-design-courses-top-universities-malaysia/malaysia-best-universities-for-top-computer-games-development-or-game-design-technology-degree/'}, {'Category': None, 'Course Name': 'Intelligent Systems', 'Link': 'https://eduspiral.com/about-us-eduspiral-consultant-services/advise-best-course-study-top-private-universities-malaysia/choosing-your-course/best-computing-courses-top-universities-malaysia/best-artificial-intelligence-ai-intelligent-systems-courses-top-universities-malaysia/top-private-universities-malaysia-artificial-intelligence-ai-degree-course/'}, {'Category': None, 'Course Name': 'Internet of Things (IoT)', 'Link': 'https://eduspiral.com/best-university-top-colleges-ranking-in-malaysia-offering-foundation-pre-university-degree-diploma-courses/top-ranking-list-private-university-colleges-malaysia/top-universities-malaysia-information-technology-it-course/best-internet-of-things-iot-course-at-top-university-in-malaysia-high-job-demand/'}, {'Category': None, 'Course Name': 'Mobile Computing', 'Link': 'http://eduspiral.com/mobile-computing-degree-best-computing-university-malaysia/'}, {'Category': None, 'Course Name': 'Network Computing', 'Link': 'https://eduspiral.com/best-university-top-colleges-ranking-in-malaysia-offering-foundation-pre-university-degree-diploma-courses/top-ranking-list-private-university-colleges-malaysia/top-universities-malaysia-information-technology-it-course/top-universities-in-malaysia-best-for-computer-network-computing/'}, {'Category': None, 'Course Name': 'Systems Security', 'Link': 'http://eduspiral.com/best-university-to-study-information-systems-security-in-malaysia/'}, {'Category': <strong>Best Accounting, Finance &amp; Quantitative Studies </strong>, 'Course Name': 'Best Accounting, Finance & Quantitative Studies\\xa0Courses to Study in Malaysia\\n\\nAccounting\\nAccounting & Finance\\nActuarial Science\\nFinance\\nFinance & Investment\\nFinancial Engineering\\nFinancial Technology (Fintech)\\nBanking & Finance\\nIslamic Banking & Finance\\nEconomics\\n\\n', 'Link': 'http://eduspiral.com/2015/12/07/best-pathway-be-professional-chartered-accountant-in-malaysia-accounting-degree-acca-exemptions-at-top-universities-after-spm-stpm-uec-olevels-alevels/'}, {'Category': None, 'Course Name': 'Accounting', 'Link': 'http://eduspiral.com/2015/12/07/best-pathway-be-professional-chartered-accountant-in-malaysia-accounting-degree-acca-exemptions-at-top-universities-after-spm-stpm-uec-olevels-alevels/'}, {'Category': None, 'Course Name': 'Accounting & Finance', 'Link': 'http://eduspiral.com/the-best-universities-in-malaysia-for-accounting-finance-degree-programs/'}, {'Category': None, 'Course Name': 'Actuarial Science', 'Link': 'http://eduspiral.com/2013/09/25/all-you-need-to-know-about-study-actuarial-science-in-malaysia-and-the-pathway-to-become-a-professional-actuaries/'}, {'Category': None, 'Course Name': 'Finance', 'Link': 'https://eduspiral.com/best-university-top-colleges-ranking-in-malaysia-offering-foundation-pre-university-degree-diploma-courses/top-ranking-list-private-university-colleges-malaysia/best-universities-in-malaysia-top-bachelor-of-business-administration-honours-degree/banking-and-finance-degree-malaysia-uk/malaysia-top-universities-best-banking-investment-finance-courses/'}, {'Category': None, 'Course Name': 'Finance & Investment', 'Link': 'https://eduspiral.com/best-university-top-colleges-ranking-in-malaysia-offering-foundation-pre-university-degree-diploma-courses/top-ranking-list-private-university-colleges-malaysia/best-universities-in-malaysia-top-bachelor-of-business-administration-honours-degree/banking-and-finance-degree-malaysia-uk/top-universities-in-malaysia-for-banking-finance-investment-degree-courses/'}, {'Category': None, 'Course Name': 'Financial Engineering', 'Link': 'https://eduspiral.com/best-financial-engineering-degree-in-malaysia-at-top-ranked-multimedia-university-mmu-cyberjaya/'}, {'Category': None, 'Course Name': 'Financial Technology (Fintech)', 'Link': 'https://eduspiral.com/about-us-eduspiral-consultant-services/advise-best-course-study-top-private-universities-malaysia/top-guides-choosing-the-best-course/top-job-demand-high-salary-reports-malaysia/job-demand-reports-and-salary-guides-in-malaysia-by-the-courses-that-you-want-to-study/top-list-best-information-technology-it-computing-computer-science-jobs-in-demand-in-malaysia/a-fantastic-career-opportunity-with-financial-technology-fintech-as-it-has-high-job-demand-salary-in-malaysia/'}, {'Category': None, 'Course Name': 'Banking & Finance', 'Link': 'https://eduspiral.com/top-courses-in-malaysia-high-job-in-demand/best-banking-finance-degree-programmes-at-top-private-universities-in-malaysia/'}, {'Category': None, 'Course Name': 'Islamic Banking & Finance', 'Link': 'http://eduspiral.com/best-universities-for-top-bachelor-of-arts-honours-islamic-banking-finance-degree-course-in-malaysia/'}, {'Category': None, 'Course Name': 'Economics', 'Link': 'http://eduspiral.com/best-top-universities-in-malaysia-to-study-bachelor-of-economics-hons-degree/'}, {'Category': <strong>Best Business Management </strong>, 'Course Name': 'Best Business Management\\xa0Courses to Study in Malaysia\\n\\nBusiness Studies\\nBusiness Management\\nBusiness Administration\\nBusiness\\nBusiness & Knowledge Management\\nDigital Marketing\\neBusiness or e-Commerce\\nEntrepreneurship\\nHuman Resource Management (HRM)\\nInternational Business Management (IBM)\\nLogistics Management\\nMarketing Management\\nSales & Marketing\\nSupply Chain Management\\n\\n', 'Link': 'https://eduspiral.com/top-best-business-administration-degree-course-in-malaysia-at-the-best-university-college-in-malaysia/'}, {'Category': None, 'Course Name': 'Business Studies', 'Link': 'https://eduspiral.com/top-best-business-administration-degree-course-in-malaysia-at-the-best-university-college-in-malaysia/'}, {'Category': None, 'Course Name': 'Business Management', 'Link': 'https://eduspiral.com/about-us-eduspiral-consultant-services/advise-best-course-study-top-private-universities-malaysia/choosing-your-course/business-courses/best-business-administration-courses-top-universities-malaysia/top-best-business-administration-degree-course-in-malaysia-at-the-best-university-college-in-malaysia/best-business-administration-degree-at-top-private-universities-in-malaysia/'}, {'Category': None, 'Course Name': 'Business Administration', 'Link': 'http://eduspiral.com/best-universities-to-study-top-business-administration-degree-in-malaysia/'}, {'Category': None, 'Course Name': 'Business', 'Link': 'https://eduspiral.com/best-university-top-colleges-ranking-in-malaysia-offering-foundation-pre-university-degree-diploma-courses/top-ranking-list-private-university-colleges-malaysia/best-universities-in-malaysia-top-bachelor-of-business-administration-honours-degree/'}, {'Category': None, 'Course Name': 'Business & Knowledge Management', 'Link': 'https://eduspiral.com/best-business-knowledge-management-degree-sap-certificate-in-malaysia-at-top-ranked-multimedia-university-mmu-melaka/'}, {'Category': None, 'Course Name': 'Digital Marketing', 'Link': 'https://eduspiral.com/2020/05/06/digital-marketing-degree-course-malaysia/'}, {'Category': None, 'Course Name': 'eBusiness or e-Commerce', 'Link': 'https://eduspiral.com/2021/04/22/best-courses-to-study-in-malaysia-if-you-want-to-work-in-ecommerce/'}, {'Category': None, 'Course Name': 'Entrepreneurship', 'Link': 'https://eduspiral.com/about-us-eduspiral-consultant-services/advise-best-course-study-top-private-universities-malaysia/choosing-your-course/business-courses/best-business-administration-courses-top-universities-malaysia/top-best-business-administration-degree-course-in-malaysia-at-the-best-university-college-in-malaysia/best-business-administration-degree-at-top-private-universities-in-malaysia/best-university-malaysia-top-entrepreneurship-business-degree-help-university/'}, {'Category': None, 'Course Name': 'Human Resource Management (HRM)', 'Link': 'https://eduspiral.com/best-university-top-colleges-ranking-in-malaysia-offering-foundation-pre-university-degree-diploma-courses/top-ranking-list-private-university-colleges-malaysia/best-universities-in-malaysia-top-bachelor-of-business-administration-honours-degree/top-university-in-malaysia-for-best-human-resource-management-hrm-degree/'}, {'Category': None, 'Course Name': 'International Business Management (IBM)', 'Link': 'https://eduspiral.com/top-universities-in-malaysia-best-for-international-business-management/'}, {'Category': None, 'Course Name': 'Logistics Management', 'Link': 'http://eduspiral.com/best-university-logistics-management-diploma-degree-course-malaysia/'}, {'Category': None, 'Course Name': 'Marketing Management', 'Link': 'https://eduspiral.com/best-university-top-colleges-ranking-in-malaysia-offering-foundation-pre-university-degree-diploma-courses/top-ranking-list-private-university-colleges-malaysia/best-universities-in-malaysia-top-bachelor-of-business-administration-honours-degree/top-universities-in-malaysia-best-marketing-degree-course/'}, {'Category': None, 'Course Name': 'Sales & Marketing', 'Link': 'https://eduspiral.com/best-university-top-colleges-ranking-in-malaysia-offering-foundation-pre-university-degree-diploma-courses/top-ranking-list-private-university-colleges-malaysia/best-universities-in-malaysia-top-bachelor-of-business-administration-honours-degree/top-universities-in-malaysia-best-marketing-degree-course/best-marketing-courses-top-universities-malaysia/'}, {'Category': None, 'Course Name': 'Supply Chain Management', 'Link': 'https://eduspiral.com/about-us-eduspiral-consultant-services/advise-best-course-study-top-private-universities-malaysia/choosing-your-course/business-courses/best-logistics-supply-chain-management-courses-top-universities-malaysia/logistics-supply-chain-management-top-private-universities-in-malaysia/'}, {'Category': <strong>Best Engineering &amp; Built Environment Courses to Study in Malaysia</strong>, 'Course Name': 'Best Engineering & Built Environment Courses to Study in Malaysia\\n\\nEngineering\\nChemical Engineering\\nCivil Engineering\\nElectrical & Electronic Engineering\\n\\nNanotechnology\\nOptical Engineering\\nTelecommunication Engineering\\n\\n\\nMechanical Engineering\\nMechatronic Engineering\\n\\nRobotics & Automation Engineering\\n\\n\\nPetroleum Engineering\\nArchitecture\\nInterior Architecture\\nQuantity Surveying\\nConstruction Project Management\\nAircraft Maintenance\\n\\n', 'Link': 'https://eduspiral.com/top-courses-in-malaysia-high-job-in-demand/study-engineering-course-malaysia/top-engineering-courses-study-malaysia/'}, {'Category': None, 'Course Name': 'Engineering', 'Link': 'https://eduspiral.com/top-courses-in-malaysia-high-job-in-demand/study-engineering-course-malaysia/top-engineering-courses-study-malaysia/'}, {'Category': None, 'Course Name': 'Chemical Engineering', 'Link': 'https://eduspiral.com/about-us-eduspiral-consultant-services/advise-best-course-study-top-private-universities-malaysia/choosing-your-course/engineering-courses-universities-malaysia/best-chemical-engineering-courses-accredited-top-universities-malaysia/top-chemical-engineering-universities-in-malaysia-best-course/'}, {'Category': None, 'Course Name': 'Civil Engineering', 'Link': 'http://eduspiral.com/2014/11/18/study-civil-engineering-degree-course-in-malaysia-at-top-private-universities/'}, {'Category': None, 'Course Name': 'Electrical & Electronic Engineering\\n\\nNanotechnology\\nOptical Engineering\\nTelecommunication Engineering\\n\\n', 'Link': 'http://eduspiral.com/2017/02/13/top-university-in-malaysia-for-best-electrical-electronic-engineering-accredited-by-board-of-engineers-malaysia-bem/'}, {'Category': None, 'Course Name': 'Nanotechnology', 'Link': 'http://eduspiral.com/2017/11/24/best-nanotechnology-engineering-in-malaysia-top-world-rank-electronics-engineering-at-multimedia-university-mmu-cyberjaya/'}, {'Category': None, 'Course Name': 'Optical Engineering', 'Link': 'http://eduspiral.com/2017/11/24/best-optical-engineering-in-malaysia-top-world-rank-electronics-engineering-at-multimedia-university-mmu-cyberjaya/'}, {'Category': None, 'Course Name': 'Telecommunication Engineering', 'Link': 'https://eduspiral.com/about-us-eduspiral-consultant-services/advise-best-course-study-top-private-universities-malaysia/choosing-your-course/engineering-courses-universities-malaysia/best-telecommunication-engineering-courses-accredited-top-universities-malaysia/top-best-university-in-malaysia-to-study-telecommunications-engineering/'}, {'Category': None, 'Course Name': 'Mechanical Engineering', 'Link': 'http://eduspiral.com/2014/10/14/the-best-universities-in-malaysia-for-mechanical-engineering/'}, {'Category': None, 'Course Name': 'Mechatronic Engineering\\n\\nRobotics & Automation Engineering\\n\\n', 'Link': 'https://eduspiral.com/about-us-eduspiral-consultant-services/advise-best-course-study-top-private-universities-malaysia/choosing-your-course/engineering-courses-universities-malaysia/best-mechatronic-engineering-courses-accredited-top-universities-malaysia/top-mechatronic-engineering-university-malaysia/'}, {'Category': None, 'Course Name': 'Robotics & Automation Engineering', 'Link': 'http://eduspiral.com/2017/11/22/best-engineering-electronics-robotics-automation-automotive-mechatronics-in-malaysia-top-rank-multimedia-university-mmu-melaka-accredited-by-board-of-engineers-malaysia-bem/'}, {'Category': None, 'Course Name': 'Petroleum Engineering', 'Link': 'https://eduspiral.com/about-us-eduspiral-consultant-services/advise-best-course-study-top-private-universities-malaysia/choosing-your-course/engineering-courses-universities-malaysia/petroleum-engineering/malaysia-top-universities-best-petroleum-engineering-degree-course/'}, {'Category': None, 'Course Name': 'Architecture', 'Link': 'https://eduspiral.com/about-us-eduspiral-consultant-services/advise-best-course-study-top-private-universities-malaysia/choosing-your-course/best-architecture-built-environment-courses-top-universities-malaysia/top-private-universities-in-malaysia-for-best-architecture-degree-accredited-by-lembaga-arkitek-malaysia-lam/top-university-in-malaysia-for-best-cheap-bachelor-science-honours-architecture-degree-accredited-by-lembaga-arkitek-malaysia-lam/architecture-degree-pathway-best-university/best-architecture-degree-in-malaysia-accredited-by-board-of-architects-malaysia-lam-part-1-at-top-private-universities/'}, {'Category': None, 'Course Name': 'Interior Architecture', 'Link': 'http://eduspiral.com/2016/04/28/best-colleges-top-private-university-in-malaysia-for-diploma-interior-design-or-interior-architecture-degree-cheapest-study-after-spm-olevels-uec/'}, {'Category': None, 'Course Name': 'Quantity Surveying', 'Link': 'http://eduspiral.com/best-accredited-quantity-survey-degree-in-malaysia-at-top-universities/'}, {'Category': None, 'Course Name': 'Construction Project Management', 'Link': 'http://eduspiral.com/top-construction-project-management-degree-at-the-best-university-in-malaysia-top-ranked-heriot-watt-university-malaysia/'}, {'Category': None, 'Course Name': 'Aircraft Maintenance', 'Link': 'http://eduspiral.com/2013/06/07/diploma-in-aircraft-maintenance-engineering/'}, {'Category': <strong>Best Mass Communication </strong>, 'Course Name': 'Best Mass Communication\\xa0Courses to Study in Malaysia\\n\\nMass Communication\\nDigital Marketing\\nBranding & Advertising\\nBroadcasting\\nMedia Studies\\nPublic Relations\\n\\nPublic Relations & Marketing\\nPublic Relations & Event Management\\n\\n\\nMarketing Communications\\nEvents Management\\n\\n', 'Link': 'https://eduspiral.com/top-courses-in-malaysia-high-job-in-demand/best-mass-communication-course-at-top-universities-in-malaysia/'}, {'Category': None, 'Course Name': 'Mass Communication', 'Link': 'https://eduspiral.com/top-courses-in-malaysia-high-job-in-demand/best-mass-communication-course-at-top-universities-in-malaysia/'}, {'Category': None, 'Course Name': 'Digital Marketing', 'Link': 'https://eduspiral.com/about-us-eduspiral-consultant-services/advise-best-course-study-top-private-universities-malaysia/choosing-your-course/business-courses/best-marketing-courses-top-universities-malaysia/top-private-universities-malaysia-digital-marketing/'}, {'Category': None, 'Course Name': 'Branding & Advertising', 'Link': 'https://eduspiral.com/best-private-universities-colleges-in-malaysia-to-study-advertising-brand-management/'}, {'Category': None, 'Course Name': 'Broadcasting', 'Link': 'https://eduspiral.com/best-private-universities-top-colleges-in-malaysia-to-study-film-broadcasting/'}, {'Category': None, 'Course Name': 'Media Studies', 'Link': 'https://eduspiral.com/about-us-eduspiral-consultant-services/advise-best-course-study-top-private-universities-malaysia/choosing-your-course/communication/media-studies/best-media-communication-studies-at-top-universities-colleges-in-malaysia/'}, {'Category': None, 'Course Name': 'Public Relations\\n\\nPublic Relations & Marketing\\nPublic Relations & Event Management\\n\\n', 'Link': 'https://eduspiral.com/list-of-the-best-private-universities-in-malaysia-to-study-top-public-relations-pr-degree-courses/'}, {'Category': None, 'Course Name': 'Public Relations & Marketing', 'Link': 'https://eduspiral.com/best-university-top-colleges-ranking-in-malaysia-offering-foundation-pre-university-degree-diploma-courses/top-ranking-list-private-university-colleges-malaysia/study-mass-communication-at-the-best-universities-colleges-in-malaysia/best-mass-communication-in-malaysia-top-uk-dual-award-degree-programmes-at-taylors-university-lakeside-campus/best-public-relations-top-mass-communication-marketing-taylors-university-malaysia/'}, {'Category': None, 'Course Name': 'Public Relations & Event Management', 'Link': 'https://eduspiral.com/best-university-top-colleges-ranking-in-malaysia-offering-foundation-pre-university-degree-diploma-courses/top-ranking-list-private-university-colleges-malaysia/study-mass-communication-at-the-best-universities-colleges-in-malaysia/best-public-relations-pr-event-management-degree-malaysia-top-ranked-taylors-university/'}, {'Category': None, 'Course Name': 'Marketing Communications', 'Link': 'https://eduspiral.com/2014/03/13/study-at-the-best-university-in-malaysia-for-public-relations/'}, {'Category': None, 'Course Name': 'Events Management', 'Link': 'http://eduspiral.com/best-events-management-degree-in-malaysia-at-top-private-universities/'}, {'Category': <strong>Best Hospitality, Tourism &amp; Culinary Arts </strong>, 'Course Name': 'Best Hospitality, Tourism & Culinary Arts\\xa0Courses to Study in Malaysia\\n\\nHotel Management\\nHospitality Management\\nCulinary Arts\\nPatisserie\\nBaking\\nTourism Management\\nEvents Management\\n\\n', 'Link': 'https://eduspiral.com/best-university-top-colleges-ranking-in-malaysia-offering-foundation-pre-university-degree-diploma-courses/top-ranking-list-private-university-colleges-malaysia/top-colleges-universities-in-malaysia-best-hotel-management-top-hospitality-management-course/'}, {'Category': None, 'Course Name': 'Hotel Management', 'Link': 'https://eduspiral.com/best-university-top-colleges-ranking-in-malaysia-offering-foundation-pre-university-degree-diploma-courses/top-ranking-list-private-university-colleges-malaysia/top-colleges-universities-in-malaysia-best-hotel-management-top-hospitality-management-course/'}, {'Category': None, 'Course Name': 'Hospitality Management', 'Link': 'https://eduspiral.com/best-hotel-hospitality-tourism-management-diploma-degree-course-malaysia/'}, {'Category': None, 'Course Name': 'Culinary Arts', 'Link': 'https://eduspiral.com/best-university-top-colleges-ranking-in-malaysia-offering-foundation-pre-university-degree-diploma-courses/top-ranking-list-private-university-colleges-malaysia/top-universities-colleges-malaysia-culinary-arts-baking/top-ten-best-culinary-arts-university-college-schools-in-malaysia/'}, {'Category': None, 'Course Name': 'Patisserie', 'Link': 'https://eduspiral.com/best-university-colleges-malaysia-diploma-patisserie-baking-degree/'}, {'Category': None, 'Course Name': 'Baking', 'Link': 'https://eduspiral.com/best-university-top-colleges-ranking-in-malaysia-offering-foundation-pre-university-degree-diploma-courses/top-ranking-list-private-university-colleges-malaysia/top-universities-colleges-malaysia-culinary-arts-baking/'}, {'Category': None, 'Course Name': 'Tourism Management', 'Link': 'https://eduspiral.com/top-hospitality-university-best-hotel-management-universities-malaysia-tourism-management-colleges-in-malaysia/'}, {'Category': None, 'Course Name': 'Events Management', 'Link': 'https://eduspiral.com/best-university-top-colleges-ranking-in-malaysia-offering-foundation-pre-university-degree-diploma-courses/top-ranking-list-private-university-colleges-malaysia/top-colleges-universities-in-malaysia-best-hotel-management-top-hospitality-management-course/best-university-in-malaysia-top-events-management/'}, {'Category': <strong>Best Art and Design </strong>, 'Course Name': 'Best Art and Design\\xa0Courses to Study in Malaysia\\n\\nDesign\\nGraphic Design\\nMultimedia Design\\nFashion Design\\nProduct Design\\nInterior Design\\n3D Animation\\nEntertainment Arts\\nFilm, Broadcasting & Cinematic Arts\\nVisual Effects\\nVirtual Reality (VR) / Augmented Reality (AR)\\n\\n', 'Link': 'http://eduspiral.com/best-design-courses-at-top-colleges-and-universities-in-malaysia/'}, {'Category': None, 'Course Name': 'Design', 'Link': 'http://eduspiral.com/best-design-courses-at-top-colleges-and-universities-in-malaysia/'}, {'Category': None, 'Course Name': 'Graphic Design', 'Link': 'http://eduspiral.com/top-best-colleges-in-malaysia-for-graphic-design-diploma-degree/'}, {'Category': None, 'Course Name': 'Multimedia Design', 'Link': 'http://eduspiral.com/best-universities-colleges-for-multimedia-design-courses-in-malaysia/'}, {'Category': None, 'Course Name': 'Fashion Design', 'Link': 'https://eduspiral.com/best-university-top-colleges-ranking-in-malaysia-offering-foundation-pre-university-degree-diploma-courses/top-ranking-list-private-university-colleges-malaysia/top-10-best-design-colleges-universities-in-malaysia/best-design-courses-at-top-colleges-and-universities-in-malaysia/top-colleges-universities-in-malaysia-best-for-diploma-in-fashion-design/'}, {'Category': None, 'Course Name': 'Product Design', 'Link': 'https://eduspiral.com/about-us-eduspiral-consultant-services/advise-best-course-study-top-private-universities-malaysia/choosing-your-course/best-design-courses-top-universities-malaysia/interior-design-architecture/kbu-international-college-best-in-design/best-university-in-malaysia-for-top-furniture-product-design-at-first-city-university-college/'}, {'Category': None, 'Course Name': 'Interior Design', 'Link': 'https://eduspiral.com/about-us-eduspiral-consultant-services/advise-best-course-study-top-private-universities-malaysia/choosing-your-course/best-design-courses-top-universities-malaysia/interior-design-architecture/top-university-malaysia-interior-design-interior-architecture/'}, {'Category': None, 'Course Name': '3D Animation', 'Link': 'https://eduspiral.com/about-us-eduspiral-consultant-services/advise-best-course-study-top-private-universities-malaysia/choosing-your-course/best-design-courses-top-universities-malaysia/animation/top-universities-study-3d-animation-design-malaysia/'}, {'Category': None, 'Course Name': 'Entertainment Arts', 'Link': 'http://eduspiral.com/study-at-the-best-university-in-malaysia-for-entertainment-arts/'}, {'Category': None, 'Course Name': 'Film, Broadcasting & Cinematic Arts', 'Link': 'https://eduspiral.com/best-private-universities-top-colleges-in-malaysia-to-study-film-broadcasting/'}, {'Category': None, 'Course Name': 'Visual Effects', 'Link': 'https://eduspiral.com/best-university-top-colleges-ranking-in-malaysia-offering-foundation-pre-university-degree-diploma-courses/top-ranking-list-private-university-colleges-malaysia/top-10-best-design-colleges-universities-in-malaysia/top-universities-colleges-malaysia-3d-animation-design/best-animation-visual-effects-degree-course-in-malaysia-top-multimedia-university-mmu-cyberjaya/'}, {'Category': None, 'Course Name': 'Virtual Reality (VR) / Augmented Reality (AR)', 'Link': 'https://eduspiral.com/about-us-eduspiral-consultant-services/advise-best-course-study-top-private-universities-malaysia/choosing-your-course/best-design-courses-top-universities-malaysia/animation/top-universities-virtual-reality-augmented-reality-vr-ar-courses-malaysia/'}, {'Category': <strong>Best Health Science </strong>, 'Course Name': 'Best Health Science\\xa0Courses to Study in Malaysia\\n\\nMedicine\\nDentistry\\nNursing\\nPhysiotherapy\\nMedical Imaging\\nMedical Lab Technology\\nPharmacy\\n\\n', 'Link': 'http://eduspiral.com/affordable-medical-programme-accredited-by-the-malaysian-medical-council-that-best-fits-your-needs/'}, {'Category': None, 'Course Name': 'Medicine', 'Link': 'http://eduspiral.com/affordable-medical-programme-accredited-by-the-malaysian-medical-council-that-best-fits-your-needs/'}, {'Category': None, 'Course Name': 'Dentistry', 'Link': 'http://eduspiral.com/2017/06/19/top-affordable-dentistry-degree-recognised-by-dental-council-malaysia-at-mahsa-university-best-for-health-sciences/'}, {'Category': None, 'Course Name': 'Nursing', 'Link': 'http://eduspiral.com/2016/06/10/best-university-study-top-diploma-in-nursing-bachelor-nursing-in-malaysia/'}, {'Category': None, 'Course Name': 'Physiotherapy', 'Link': 'http://eduspiral.com/2017/06/24/best-physiotherapy-degree-in-malaysia-top-mahsa-university/'}, {'Category': None, 'Course Name': 'Medical Imaging', 'Link': 'http://eduspiral.com/2017/06/26/best-medical-imaging-radiography-degree-in-malaysia-top-mahsa-university/'}, {'Category': None, 'Course Name': 'Medical Lab Technology', 'Link': 'http://eduspiral.com/2017/07/08/best-university-in-malaysia-diploma-in-medical-laboratory-technology-top-mahsa-university/'}, {'Category': None, 'Course Name': 'Pharmacy', 'Link': 'http://eduspiral.com/best-universities-in-malaysia-for-top-pharmacy-degree/'}, {'Category': <strong>Best Applied Science </strong>, 'Course Name': 'Best Applied Science\\xa0Courses to Study in Malaysia\\n\\nBiotechnology\\nCulinology®\\nFood Science\\nBiomedical Science\\nBioinformatics\\n\\n', 'Link': 'https://eduspiral.com/top-universities-in-malaysia-best-for-biotechnology-degree/'}, {'Category': None, 'Course Name': 'Biotechnology', 'Link': 'https://eduspiral.com/top-universities-in-malaysia-best-for-biotechnology-degree/'}, {'Category': None, 'Course Name': 'Culinology®', 'Link': 'http://eduspiral.com/2017/03/07/best-culinology-university-malaysia-top-food-science-taylors-university'}, {'Category': None, 'Course Name': 'Food Science', 'Link': 'http://eduspiral.com/study-at-the-best-university-in-malaysia-for-food-science-and-nutrition/'}, {'Category': None, 'Course Name': 'Biomedical Science', 'Link': 'https://eduspiral.com/about-us-eduspiral-consultant-services/advise-best-course-study-top-private-universities-malaysia/choosing-your-course/best-health-science-courses-top-universities-malaysia/top-private-universities-malaysia-biomedical-science/'}, {'Category': None, 'Course Name': 'Bioinformatics', 'Link': 'https://eduspiral.com/best-bioinformatics-degree-in-malaysia-at-top-multimedia-university-mmu-melaka/'}, {'Category': <strong>Best Humanities &amp; Social Science </strong>, 'Course Name': 'Best Humanities & Social Science\\xa0Courses to Study in Malaysia\\n\\nLaw\\nTeaching English as a Second Language (TESL)\\nPsychology\\n\\n', 'Link': 'https://eduspiral.com/best-university-top-colleges-ranking-in-malaysia-offering-foundation-pre-university-degree-diploma-courses/top-ranking-list-private-university-colleges-malaysia/best-top-university-in-malaysia-for-recognised-law-degree/'}, {'Category': None, 'Course Name': 'Law', 'Link': 'https://eduspiral.com/best-university-top-colleges-ranking-in-malaysia-offering-foundation-pre-university-degree-diploma-courses/top-ranking-list-private-university-colleges-malaysia/best-top-university-in-malaysia-for-recognised-law-degree/'}, {'Category': None, 'Course Name': 'Teaching English as a Second Language (TESL)', 'Link': 'https://eduspiral.com/best-university-top-colleges-ranking-in-malaysia-offering-foundation-pre-university-degree-diploma-courses/top-ranking-list-private-university-colleges-malaysia/top-universities-in-malaysia-best-for-teaching-english-as-a-second-language-tesl/'}, {'Category': None, 'Course Name': 'Psychology', 'Link': 'https://eduspiral.com/about-us-eduspiral-consultant-services/advise-best-course-study-top-private-universities-malaysia/choosing-your-course/psychology/psychology-diploma-program-degree-course/top-private-universities-in-malaysia-to-study-psychology-degree/'}]\n"
          ]
        }
      ]
    },
    {
      "cell_type": "markdown",
      "source": [
        "Save into Pandas Data Frame"
      ],
      "metadata": {
        "id": "izEiNyzUqiQf"
      }
    },
    {
      "cell_type": "code",
      "source": [
        "#Pandas DataFrame\n",
        "df = pd.DataFrame(courses)\n",
        "df"
      ],
      "metadata": {
        "colab": {
          "base_uri": "https://localhost:8080/",
          "height": 424
        },
        "id": "FUnAEFrhepp1",
        "outputId": "eb525b6d-fef8-4ad3-e5a0-801dd2652276"
      },
      "execution_count": 143,
      "outputs": [
        {
          "output_type": "execute_result",
          "data": {
            "text/plain": [
              "                                              Category  \\\n",
              "0    [Best Computer Science, Computing & Informatio...   \n",
              "1                                                 None   \n",
              "2                                                 None   \n",
              "3                                                 None   \n",
              "4                                                 None   \n",
              "..                                                 ...   \n",
              "105                                               None   \n",
              "106                [Best Humanities & Social Science ]   \n",
              "107                                               None   \n",
              "108                                               None   \n",
              "109                                               None   \n",
              "\n",
              "                                           Course Name  \\\n",
              "0    Best Computer Science, Computing & Information...   \n",
              "1                                            Computing   \n",
              "2                                     Computer Science   \n",
              "3         Software Engineering or Computer Programming   \n",
              "4    Information Technology (IT) or Information Com...   \n",
              "..                                                 ...   \n",
              "105                                     Bioinformatics   \n",
              "106  Best Humanities & Social Science Courses to St...   \n",
              "107                                                Law   \n",
              "108       Teaching English as a Second Language (TESL)   \n",
              "109                                         Psychology   \n",
              "\n",
              "                                                  Link  \n",
              "0    https://eduspiral.com/best-university-top-coll...  \n",
              "1    https://eduspiral.com/about-us-eduspiral-consu...  \n",
              "2    https://eduspiral.com/top-courses-in-malaysia-...  \n",
              "3    https://eduspiral.com/best-university-top-coll...  \n",
              "4    https://eduspiral.com/2019/03/30/top-10-privat...  \n",
              "..                                                 ...  \n",
              "105  https://eduspiral.com/best-bioinformatics-degr...  \n",
              "106  https://eduspiral.com/best-university-top-coll...  \n",
              "107  https://eduspiral.com/best-university-top-coll...  \n",
              "108  https://eduspiral.com/best-university-top-coll...  \n",
              "109  https://eduspiral.com/about-us-eduspiral-consu...  \n",
              "\n",
              "[110 rows x 3 columns]"
            ],
            "text/html": [
              "\n",
              "  <div id=\"df-bb65654d-0d81-4291-be58-7285c08fdc5c\">\n",
              "    <div class=\"colab-df-container\">\n",
              "      <div>\n",
              "<style scoped>\n",
              "    .dataframe tbody tr th:only-of-type {\n",
              "        vertical-align: middle;\n",
              "    }\n",
              "\n",
              "    .dataframe tbody tr th {\n",
              "        vertical-align: top;\n",
              "    }\n",
              "\n",
              "    .dataframe thead th {\n",
              "        text-align: right;\n",
              "    }\n",
              "</style>\n",
              "<table border=\"1\" class=\"dataframe\">\n",
              "  <thead>\n",
              "    <tr style=\"text-align: right;\">\n",
              "      <th></th>\n",
              "      <th>Category</th>\n",
              "      <th>Course Name</th>\n",
              "      <th>Link</th>\n",
              "    </tr>\n",
              "  </thead>\n",
              "  <tbody>\n",
              "    <tr>\n",
              "      <th>0</th>\n",
              "      <td>[Best Computer Science, Computing &amp; Informatio...</td>\n",
              "      <td>Best Computer Science, Computing &amp; Information...</td>\n",
              "      <td>https://eduspiral.com/best-university-top-coll...</td>\n",
              "    </tr>\n",
              "    <tr>\n",
              "      <th>1</th>\n",
              "      <td>None</td>\n",
              "      <td>Computing</td>\n",
              "      <td>https://eduspiral.com/about-us-eduspiral-consu...</td>\n",
              "    </tr>\n",
              "    <tr>\n",
              "      <th>2</th>\n",
              "      <td>None</td>\n",
              "      <td>Computer Science</td>\n",
              "      <td>https://eduspiral.com/top-courses-in-malaysia-...</td>\n",
              "    </tr>\n",
              "    <tr>\n",
              "      <th>3</th>\n",
              "      <td>None</td>\n",
              "      <td>Software Engineering or Computer Programming</td>\n",
              "      <td>https://eduspiral.com/best-university-top-coll...</td>\n",
              "    </tr>\n",
              "    <tr>\n",
              "      <th>4</th>\n",
              "      <td>None</td>\n",
              "      <td>Information Technology (IT) or Information Com...</td>\n",
              "      <td>https://eduspiral.com/2019/03/30/top-10-privat...</td>\n",
              "    </tr>\n",
              "    <tr>\n",
              "      <th>...</th>\n",
              "      <td>...</td>\n",
              "      <td>...</td>\n",
              "      <td>...</td>\n",
              "    </tr>\n",
              "    <tr>\n",
              "      <th>105</th>\n",
              "      <td>None</td>\n",
              "      <td>Bioinformatics</td>\n",
              "      <td>https://eduspiral.com/best-bioinformatics-degr...</td>\n",
              "    </tr>\n",
              "    <tr>\n",
              "      <th>106</th>\n",
              "      <td>[Best Humanities &amp; Social Science ]</td>\n",
              "      <td>Best Humanities &amp; Social Science Courses to St...</td>\n",
              "      <td>https://eduspiral.com/best-university-top-coll...</td>\n",
              "    </tr>\n",
              "    <tr>\n",
              "      <th>107</th>\n",
              "      <td>None</td>\n",
              "      <td>Law</td>\n",
              "      <td>https://eduspiral.com/best-university-top-coll...</td>\n",
              "    </tr>\n",
              "    <tr>\n",
              "      <th>108</th>\n",
              "      <td>None</td>\n",
              "      <td>Teaching English as a Second Language (TESL)</td>\n",
              "      <td>https://eduspiral.com/best-university-top-coll...</td>\n",
              "    </tr>\n",
              "    <tr>\n",
              "      <th>109</th>\n",
              "      <td>None</td>\n",
              "      <td>Psychology</td>\n",
              "      <td>https://eduspiral.com/about-us-eduspiral-consu...</td>\n",
              "    </tr>\n",
              "  </tbody>\n",
              "</table>\n",
              "<p>110 rows × 3 columns</p>\n",
              "</div>\n",
              "      <button class=\"colab-df-convert\" onclick=\"convertToInteractive('df-bb65654d-0d81-4291-be58-7285c08fdc5c')\"\n",
              "              title=\"Convert this dataframe to an interactive table.\"\n",
              "              style=\"display:none;\">\n",
              "        \n",
              "  <svg xmlns=\"http://www.w3.org/2000/svg\" height=\"24px\"viewBox=\"0 0 24 24\"\n",
              "       width=\"24px\">\n",
              "    <path d=\"M0 0h24v24H0V0z\" fill=\"none\"/>\n",
              "    <path d=\"M18.56 5.44l.94 2.06.94-2.06 2.06-.94-2.06-.94-.94-2.06-.94 2.06-2.06.94zm-11 1L8.5 8.5l.94-2.06 2.06-.94-2.06-.94L8.5 2.5l-.94 2.06-2.06.94zm10 10l.94 2.06.94-2.06 2.06-.94-2.06-.94-.94-2.06-.94 2.06-2.06.94z\"/><path d=\"M17.41 7.96l-1.37-1.37c-.4-.4-.92-.59-1.43-.59-.52 0-1.04.2-1.43.59L10.3 9.45l-7.72 7.72c-.78.78-.78 2.05 0 2.83L4 21.41c.39.39.9.59 1.41.59.51 0 1.02-.2 1.41-.59l7.78-7.78 2.81-2.81c.8-.78.8-2.07 0-2.86zM5.41 20L4 18.59l7.72-7.72 1.47 1.35L5.41 20z\"/>\n",
              "  </svg>\n",
              "      </button>\n",
              "      \n",
              "  <style>\n",
              "    .colab-df-container {\n",
              "      display:flex;\n",
              "      flex-wrap:wrap;\n",
              "      gap: 12px;\n",
              "    }\n",
              "\n",
              "    .colab-df-convert {\n",
              "      background-color: #E8F0FE;\n",
              "      border: none;\n",
              "      border-radius: 50%;\n",
              "      cursor: pointer;\n",
              "      display: none;\n",
              "      fill: #1967D2;\n",
              "      height: 32px;\n",
              "      padding: 0 0 0 0;\n",
              "      width: 32px;\n",
              "    }\n",
              "\n",
              "    .colab-df-convert:hover {\n",
              "      background-color: #E2EBFA;\n",
              "      box-shadow: 0px 1px 2px rgba(60, 64, 67, 0.3), 0px 1px 3px 1px rgba(60, 64, 67, 0.15);\n",
              "      fill: #174EA6;\n",
              "    }\n",
              "\n",
              "    [theme=dark] .colab-df-convert {\n",
              "      background-color: #3B4455;\n",
              "      fill: #D2E3FC;\n",
              "    }\n",
              "\n",
              "    [theme=dark] .colab-df-convert:hover {\n",
              "      background-color: #434B5C;\n",
              "      box-shadow: 0px 1px 3px 1px rgba(0, 0, 0, 0.15);\n",
              "      filter: drop-shadow(0px 1px 2px rgba(0, 0, 0, 0.3));\n",
              "      fill: #FFFFFF;\n",
              "    }\n",
              "  </style>\n",
              "\n",
              "      <script>\n",
              "        const buttonEl =\n",
              "          document.querySelector('#df-bb65654d-0d81-4291-be58-7285c08fdc5c button.colab-df-convert');\n",
              "        buttonEl.style.display =\n",
              "          google.colab.kernel.accessAllowed ? 'block' : 'none';\n",
              "\n",
              "        async function convertToInteractive(key) {\n",
              "          const element = document.querySelector('#df-bb65654d-0d81-4291-be58-7285c08fdc5c');\n",
              "          const dataTable =\n",
              "            await google.colab.kernel.invokeFunction('convertToInteractive',\n",
              "                                                     [key], {});\n",
              "          if (!dataTable) return;\n",
              "\n",
              "          const docLinkHtml = 'Like what you see? Visit the ' +\n",
              "            '<a target=\"_blank\" href=https://colab.research.google.com/notebooks/data_table.ipynb>data table notebook</a>'\n",
              "            + ' to learn more about interactive tables.';\n",
              "          element.innerHTML = '';\n",
              "          dataTable['output_type'] = 'display_data';\n",
              "          await google.colab.output.renderOutput(dataTable, element);\n",
              "          const docLink = document.createElement('div');\n",
              "          docLink.innerHTML = docLinkHtml;\n",
              "          element.appendChild(docLink);\n",
              "        }\n",
              "      </script>\n",
              "    </div>\n",
              "  </div>\n",
              "  "
            ]
          },
          "metadata": {},
          "execution_count": 143
        }
      ]
    },
    {
      "cell_type": "code",
      "source": [
        "idx = df.index[df['Category'].isna() == False]\n",
        "idx"
      ],
      "metadata": {
        "colab": {
          "base_uri": "https://localhost:8080/"
        },
        "id": "1b37dGBeH-ud",
        "outputId": "6c579e6a-e8db-4a83-f2e9-c225f8657091"
      },
      "execution_count": 144,
      "outputs": [
        {
          "output_type": "execute_result",
          "data": {
            "text/plain": [
              "Int64Index([0, 18, 29, 44, 61, 72, 80, 92, 100, 106], dtype='int64')"
            ]
          },
          "metadata": {},
          "execution_count": 144
        }
      ]
    },
    {
      "cell_type": "markdown",
      "source": [
        "fill the missing values in the dataframe df with the forward fill method and make the changes in the same dataframe."
      ],
      "metadata": {
        "id": "5M1aMg1CgaOw"
      }
    },
    {
      "cell_type": "code",
      "source": [
        "df.fillna(method = 'ffill', inplace = True)\n",
        "df"
      ],
      "metadata": {
        "colab": {
          "base_uri": "https://localhost:8080/",
          "height": 424
        },
        "id": "Y86Y4kNgewnu",
        "outputId": "a981c178-3250-441e-f6e0-df8b22a9f600"
      },
      "execution_count": 145,
      "outputs": [
        {
          "output_type": "execute_result",
          "data": {
            "text/plain": [
              "                                              Category  \\\n",
              "0    [Best Computer Science, Computing & Informatio...   \n",
              "1    [Best Computer Science, Computing & Informatio...   \n",
              "2    [Best Computer Science, Computing & Informatio...   \n",
              "3    [Best Computer Science, Computing & Informatio...   \n",
              "4    [Best Computer Science, Computing & Informatio...   \n",
              "..                                                 ...   \n",
              "105                            [Best Applied Science ]   \n",
              "106                [Best Humanities & Social Science ]   \n",
              "107                [Best Humanities & Social Science ]   \n",
              "108                [Best Humanities & Social Science ]   \n",
              "109                [Best Humanities & Social Science ]   \n",
              "\n",
              "                                           Course Name  \\\n",
              "0    Best Computer Science, Computing & Information...   \n",
              "1                                            Computing   \n",
              "2                                     Computer Science   \n",
              "3         Software Engineering or Computer Programming   \n",
              "4    Information Technology (IT) or Information Com...   \n",
              "..                                                 ...   \n",
              "105                                     Bioinformatics   \n",
              "106  Best Humanities & Social Science Courses to St...   \n",
              "107                                                Law   \n",
              "108       Teaching English as a Second Language (TESL)   \n",
              "109                                         Psychology   \n",
              "\n",
              "                                                  Link  \n",
              "0    https://eduspiral.com/best-university-top-coll...  \n",
              "1    https://eduspiral.com/about-us-eduspiral-consu...  \n",
              "2    https://eduspiral.com/top-courses-in-malaysia-...  \n",
              "3    https://eduspiral.com/best-university-top-coll...  \n",
              "4    https://eduspiral.com/2019/03/30/top-10-privat...  \n",
              "..                                                 ...  \n",
              "105  https://eduspiral.com/best-bioinformatics-degr...  \n",
              "106  https://eduspiral.com/best-university-top-coll...  \n",
              "107  https://eduspiral.com/best-university-top-coll...  \n",
              "108  https://eduspiral.com/best-university-top-coll...  \n",
              "109  https://eduspiral.com/about-us-eduspiral-consu...  \n",
              "\n",
              "[110 rows x 3 columns]"
            ],
            "text/html": [
              "\n",
              "  <div id=\"df-d699f350-017d-415a-b7a3-ee5700e0c745\">\n",
              "    <div class=\"colab-df-container\">\n",
              "      <div>\n",
              "<style scoped>\n",
              "    .dataframe tbody tr th:only-of-type {\n",
              "        vertical-align: middle;\n",
              "    }\n",
              "\n",
              "    .dataframe tbody tr th {\n",
              "        vertical-align: top;\n",
              "    }\n",
              "\n",
              "    .dataframe thead th {\n",
              "        text-align: right;\n",
              "    }\n",
              "</style>\n",
              "<table border=\"1\" class=\"dataframe\">\n",
              "  <thead>\n",
              "    <tr style=\"text-align: right;\">\n",
              "      <th></th>\n",
              "      <th>Category</th>\n",
              "      <th>Course Name</th>\n",
              "      <th>Link</th>\n",
              "    </tr>\n",
              "  </thead>\n",
              "  <tbody>\n",
              "    <tr>\n",
              "      <th>0</th>\n",
              "      <td>[Best Computer Science, Computing &amp; Informatio...</td>\n",
              "      <td>Best Computer Science, Computing &amp; Information...</td>\n",
              "      <td>https://eduspiral.com/best-university-top-coll...</td>\n",
              "    </tr>\n",
              "    <tr>\n",
              "      <th>1</th>\n",
              "      <td>[Best Computer Science, Computing &amp; Informatio...</td>\n",
              "      <td>Computing</td>\n",
              "      <td>https://eduspiral.com/about-us-eduspiral-consu...</td>\n",
              "    </tr>\n",
              "    <tr>\n",
              "      <th>2</th>\n",
              "      <td>[Best Computer Science, Computing &amp; Informatio...</td>\n",
              "      <td>Computer Science</td>\n",
              "      <td>https://eduspiral.com/top-courses-in-malaysia-...</td>\n",
              "    </tr>\n",
              "    <tr>\n",
              "      <th>3</th>\n",
              "      <td>[Best Computer Science, Computing &amp; Informatio...</td>\n",
              "      <td>Software Engineering or Computer Programming</td>\n",
              "      <td>https://eduspiral.com/best-university-top-coll...</td>\n",
              "    </tr>\n",
              "    <tr>\n",
              "      <th>4</th>\n",
              "      <td>[Best Computer Science, Computing &amp; Informatio...</td>\n",
              "      <td>Information Technology (IT) or Information Com...</td>\n",
              "      <td>https://eduspiral.com/2019/03/30/top-10-privat...</td>\n",
              "    </tr>\n",
              "    <tr>\n",
              "      <th>...</th>\n",
              "      <td>...</td>\n",
              "      <td>...</td>\n",
              "      <td>...</td>\n",
              "    </tr>\n",
              "    <tr>\n",
              "      <th>105</th>\n",
              "      <td>[Best Applied Science ]</td>\n",
              "      <td>Bioinformatics</td>\n",
              "      <td>https://eduspiral.com/best-bioinformatics-degr...</td>\n",
              "    </tr>\n",
              "    <tr>\n",
              "      <th>106</th>\n",
              "      <td>[Best Humanities &amp; Social Science ]</td>\n",
              "      <td>Best Humanities &amp; Social Science Courses to St...</td>\n",
              "      <td>https://eduspiral.com/best-university-top-coll...</td>\n",
              "    </tr>\n",
              "    <tr>\n",
              "      <th>107</th>\n",
              "      <td>[Best Humanities &amp; Social Science ]</td>\n",
              "      <td>Law</td>\n",
              "      <td>https://eduspiral.com/best-university-top-coll...</td>\n",
              "    </tr>\n",
              "    <tr>\n",
              "      <th>108</th>\n",
              "      <td>[Best Humanities &amp; Social Science ]</td>\n",
              "      <td>Teaching English as a Second Language (TESL)</td>\n",
              "      <td>https://eduspiral.com/best-university-top-coll...</td>\n",
              "    </tr>\n",
              "    <tr>\n",
              "      <th>109</th>\n",
              "      <td>[Best Humanities &amp; Social Science ]</td>\n",
              "      <td>Psychology</td>\n",
              "      <td>https://eduspiral.com/about-us-eduspiral-consu...</td>\n",
              "    </tr>\n",
              "  </tbody>\n",
              "</table>\n",
              "<p>110 rows × 3 columns</p>\n",
              "</div>\n",
              "      <button class=\"colab-df-convert\" onclick=\"convertToInteractive('df-d699f350-017d-415a-b7a3-ee5700e0c745')\"\n",
              "              title=\"Convert this dataframe to an interactive table.\"\n",
              "              style=\"display:none;\">\n",
              "        \n",
              "  <svg xmlns=\"http://www.w3.org/2000/svg\" height=\"24px\"viewBox=\"0 0 24 24\"\n",
              "       width=\"24px\">\n",
              "    <path d=\"M0 0h24v24H0V0z\" fill=\"none\"/>\n",
              "    <path d=\"M18.56 5.44l.94 2.06.94-2.06 2.06-.94-2.06-.94-.94-2.06-.94 2.06-2.06.94zm-11 1L8.5 8.5l.94-2.06 2.06-.94-2.06-.94L8.5 2.5l-.94 2.06-2.06.94zm10 10l.94 2.06.94-2.06 2.06-.94-2.06-.94-.94-2.06-.94 2.06-2.06.94z\"/><path d=\"M17.41 7.96l-1.37-1.37c-.4-.4-.92-.59-1.43-.59-.52 0-1.04.2-1.43.59L10.3 9.45l-7.72 7.72c-.78.78-.78 2.05 0 2.83L4 21.41c.39.39.9.59 1.41.59.51 0 1.02-.2 1.41-.59l7.78-7.78 2.81-2.81c.8-.78.8-2.07 0-2.86zM5.41 20L4 18.59l7.72-7.72 1.47 1.35L5.41 20z\"/>\n",
              "  </svg>\n",
              "      </button>\n",
              "      \n",
              "  <style>\n",
              "    .colab-df-container {\n",
              "      display:flex;\n",
              "      flex-wrap:wrap;\n",
              "      gap: 12px;\n",
              "    }\n",
              "\n",
              "    .colab-df-convert {\n",
              "      background-color: #E8F0FE;\n",
              "      border: none;\n",
              "      border-radius: 50%;\n",
              "      cursor: pointer;\n",
              "      display: none;\n",
              "      fill: #1967D2;\n",
              "      height: 32px;\n",
              "      padding: 0 0 0 0;\n",
              "      width: 32px;\n",
              "    }\n",
              "\n",
              "    .colab-df-convert:hover {\n",
              "      background-color: #E2EBFA;\n",
              "      box-shadow: 0px 1px 2px rgba(60, 64, 67, 0.3), 0px 1px 3px 1px rgba(60, 64, 67, 0.15);\n",
              "      fill: #174EA6;\n",
              "    }\n",
              "\n",
              "    [theme=dark] .colab-df-convert {\n",
              "      background-color: #3B4455;\n",
              "      fill: #D2E3FC;\n",
              "    }\n",
              "\n",
              "    [theme=dark] .colab-df-convert:hover {\n",
              "      background-color: #434B5C;\n",
              "      box-shadow: 0px 1px 3px 1px rgba(0, 0, 0, 0.15);\n",
              "      filter: drop-shadow(0px 1px 2px rgba(0, 0, 0, 0.3));\n",
              "      fill: #FFFFFF;\n",
              "    }\n",
              "  </style>\n",
              "\n",
              "      <script>\n",
              "        const buttonEl =\n",
              "          document.querySelector('#df-d699f350-017d-415a-b7a3-ee5700e0c745 button.colab-df-convert');\n",
              "        buttonEl.style.display =\n",
              "          google.colab.kernel.accessAllowed ? 'block' : 'none';\n",
              "\n",
              "        async function convertToInteractive(key) {\n",
              "          const element = document.querySelector('#df-d699f350-017d-415a-b7a3-ee5700e0c745');\n",
              "          const dataTable =\n",
              "            await google.colab.kernel.invokeFunction('convertToInteractive',\n",
              "                                                     [key], {});\n",
              "          if (!dataTable) return;\n",
              "\n",
              "          const docLinkHtml = 'Like what you see? Visit the ' +\n",
              "            '<a target=\"_blank\" href=https://colab.research.google.com/notebooks/data_table.ipynb>data table notebook</a>'\n",
              "            + ' to learn more about interactive tables.';\n",
              "          element.innerHTML = '';\n",
              "          dataTable['output_type'] = 'display_data';\n",
              "          await google.colab.output.renderOutput(dataTable, element);\n",
              "          const docLink = document.createElement('div');\n",
              "          docLink.innerHTML = docLinkHtml;\n",
              "          element.appendChild(docLink);\n",
              "        }\n",
              "      </script>\n",
              "    </div>\n",
              "  </div>\n",
              "  "
            ]
          },
          "metadata": {},
          "execution_count": 145
        }
      ]
    },
    {
      "cell_type": "markdown",
      "source": [
        "**Drop the titles from the list**"
      ],
      "metadata": {
        "id": "-lKtALZ3SUTS"
      }
    },
    {
      "cell_type": "code",
      "source": [
        "df.drop(df.index[idx], inplace = True)"
      ],
      "metadata": {
        "id": "PpJB3LrxQtfb"
      },
      "execution_count": 139,
      "outputs": []
    },
    {
      "cell_type": "code",
      "source": [
        "df"
      ],
      "metadata": {
        "colab": {
          "base_uri": "https://localhost:8080/",
          "height": 424
        },
        "id": "icttuc7BSNS-",
        "outputId": "bb7b175c-8f03-4960-b34f-b478cb094531"
      },
      "execution_count": 141,
      "outputs": [
        {
          "output_type": "execute_result",
          "data": {
            "text/plain": [
              "                                              Category  \\\n",
              "1    [Best Computer Science, Computing & Informatio...   \n",
              "2    [Best Computer Science, Computing & Informatio...   \n",
              "3    [Best Computer Science, Computing & Informatio...   \n",
              "4    [Best Computer Science, Computing & Informatio...   \n",
              "5    [Best Computer Science, Computing & Informatio...   \n",
              "..                                                 ...   \n",
              "104                            [Best Applied Science ]   \n",
              "105                            [Best Applied Science ]   \n",
              "107                [Best Humanities & Social Science ]   \n",
              "108                [Best Humanities & Social Science ]   \n",
              "109                [Best Humanities & Social Science ]   \n",
              "\n",
              "                                           Course Name  \\\n",
              "1                                            Computing   \n",
              "2                                     Computer Science   \n",
              "3         Software Engineering or Computer Programming   \n",
              "4    Information Technology (IT) or Information Com...   \n",
              "5                         Artificial Intelligence (Ai)   \n",
              "..                                                 ...   \n",
              "104                                 Biomedical Science   \n",
              "105                                     Bioinformatics   \n",
              "107                                                Law   \n",
              "108       Teaching English as a Second Language (TESL)   \n",
              "109                                         Psychology   \n",
              "\n",
              "                                                  Link  \n",
              "1    https://eduspiral.com/about-us-eduspiral-consu...  \n",
              "2    https://eduspiral.com/top-courses-in-malaysia-...  \n",
              "3    https://eduspiral.com/best-university-top-coll...  \n",
              "4    https://eduspiral.com/2019/03/30/top-10-privat...  \n",
              "5    https://eduspiral.com/best-university-top-coll...  \n",
              "..                                                 ...  \n",
              "104  https://eduspiral.com/about-us-eduspiral-consu...  \n",
              "105  https://eduspiral.com/best-bioinformatics-degr...  \n",
              "107  https://eduspiral.com/best-university-top-coll...  \n",
              "108  https://eduspiral.com/best-university-top-coll...  \n",
              "109  https://eduspiral.com/about-us-eduspiral-consu...  \n",
              "\n",
              "[100 rows x 3 columns]"
            ],
            "text/html": [
              "\n",
              "  <div id=\"df-cec9eaa2-2189-435b-a778-d95a4121baf6\">\n",
              "    <div class=\"colab-df-container\">\n",
              "      <div>\n",
              "<style scoped>\n",
              "    .dataframe tbody tr th:only-of-type {\n",
              "        vertical-align: middle;\n",
              "    }\n",
              "\n",
              "    .dataframe tbody tr th {\n",
              "        vertical-align: top;\n",
              "    }\n",
              "\n",
              "    .dataframe thead th {\n",
              "        text-align: right;\n",
              "    }\n",
              "</style>\n",
              "<table border=\"1\" class=\"dataframe\">\n",
              "  <thead>\n",
              "    <tr style=\"text-align: right;\">\n",
              "      <th></th>\n",
              "      <th>Category</th>\n",
              "      <th>Course Name</th>\n",
              "      <th>Link</th>\n",
              "    </tr>\n",
              "  </thead>\n",
              "  <tbody>\n",
              "    <tr>\n",
              "      <th>1</th>\n",
              "      <td>[Best Computer Science, Computing &amp; Informatio...</td>\n",
              "      <td>Computing</td>\n",
              "      <td>https://eduspiral.com/about-us-eduspiral-consu...</td>\n",
              "    </tr>\n",
              "    <tr>\n",
              "      <th>2</th>\n",
              "      <td>[Best Computer Science, Computing &amp; Informatio...</td>\n",
              "      <td>Computer Science</td>\n",
              "      <td>https://eduspiral.com/top-courses-in-malaysia-...</td>\n",
              "    </tr>\n",
              "    <tr>\n",
              "      <th>3</th>\n",
              "      <td>[Best Computer Science, Computing &amp; Informatio...</td>\n",
              "      <td>Software Engineering or Computer Programming</td>\n",
              "      <td>https://eduspiral.com/best-university-top-coll...</td>\n",
              "    </tr>\n",
              "    <tr>\n",
              "      <th>4</th>\n",
              "      <td>[Best Computer Science, Computing &amp; Informatio...</td>\n",
              "      <td>Information Technology (IT) or Information Com...</td>\n",
              "      <td>https://eduspiral.com/2019/03/30/top-10-privat...</td>\n",
              "    </tr>\n",
              "    <tr>\n",
              "      <th>5</th>\n",
              "      <td>[Best Computer Science, Computing &amp; Informatio...</td>\n",
              "      <td>Artificial Intelligence (Ai)</td>\n",
              "      <td>https://eduspiral.com/best-university-top-coll...</td>\n",
              "    </tr>\n",
              "    <tr>\n",
              "      <th>...</th>\n",
              "      <td>...</td>\n",
              "      <td>...</td>\n",
              "      <td>...</td>\n",
              "    </tr>\n",
              "    <tr>\n",
              "      <th>104</th>\n",
              "      <td>[Best Applied Science ]</td>\n",
              "      <td>Biomedical Science</td>\n",
              "      <td>https://eduspiral.com/about-us-eduspiral-consu...</td>\n",
              "    </tr>\n",
              "    <tr>\n",
              "      <th>105</th>\n",
              "      <td>[Best Applied Science ]</td>\n",
              "      <td>Bioinformatics</td>\n",
              "      <td>https://eduspiral.com/best-bioinformatics-degr...</td>\n",
              "    </tr>\n",
              "    <tr>\n",
              "      <th>107</th>\n",
              "      <td>[Best Humanities &amp; Social Science ]</td>\n",
              "      <td>Law</td>\n",
              "      <td>https://eduspiral.com/best-university-top-coll...</td>\n",
              "    </tr>\n",
              "    <tr>\n",
              "      <th>108</th>\n",
              "      <td>[Best Humanities &amp; Social Science ]</td>\n",
              "      <td>Teaching English as a Second Language (TESL)</td>\n",
              "      <td>https://eduspiral.com/best-university-top-coll...</td>\n",
              "    </tr>\n",
              "    <tr>\n",
              "      <th>109</th>\n",
              "      <td>[Best Humanities &amp; Social Science ]</td>\n",
              "      <td>Psychology</td>\n",
              "      <td>https://eduspiral.com/about-us-eduspiral-consu...</td>\n",
              "    </tr>\n",
              "  </tbody>\n",
              "</table>\n",
              "<p>100 rows × 3 columns</p>\n",
              "</div>\n",
              "      <button class=\"colab-df-convert\" onclick=\"convertToInteractive('df-cec9eaa2-2189-435b-a778-d95a4121baf6')\"\n",
              "              title=\"Convert this dataframe to an interactive table.\"\n",
              "              style=\"display:none;\">\n",
              "        \n",
              "  <svg xmlns=\"http://www.w3.org/2000/svg\" height=\"24px\"viewBox=\"0 0 24 24\"\n",
              "       width=\"24px\">\n",
              "    <path d=\"M0 0h24v24H0V0z\" fill=\"none\"/>\n",
              "    <path d=\"M18.56 5.44l.94 2.06.94-2.06 2.06-.94-2.06-.94-.94-2.06-.94 2.06-2.06.94zm-11 1L8.5 8.5l.94-2.06 2.06-.94-2.06-.94L8.5 2.5l-.94 2.06-2.06.94zm10 10l.94 2.06.94-2.06 2.06-.94-2.06-.94-.94-2.06-.94 2.06-2.06.94z\"/><path d=\"M17.41 7.96l-1.37-1.37c-.4-.4-.92-.59-1.43-.59-.52 0-1.04.2-1.43.59L10.3 9.45l-7.72 7.72c-.78.78-.78 2.05 0 2.83L4 21.41c.39.39.9.59 1.41.59.51 0 1.02-.2 1.41-.59l7.78-7.78 2.81-2.81c.8-.78.8-2.07 0-2.86zM5.41 20L4 18.59l7.72-7.72 1.47 1.35L5.41 20z\"/>\n",
              "  </svg>\n",
              "      </button>\n",
              "      \n",
              "  <style>\n",
              "    .colab-df-container {\n",
              "      display:flex;\n",
              "      flex-wrap:wrap;\n",
              "      gap: 12px;\n",
              "    }\n",
              "\n",
              "    .colab-df-convert {\n",
              "      background-color: #E8F0FE;\n",
              "      border: none;\n",
              "      border-radius: 50%;\n",
              "      cursor: pointer;\n",
              "      display: none;\n",
              "      fill: #1967D2;\n",
              "      height: 32px;\n",
              "      padding: 0 0 0 0;\n",
              "      width: 32px;\n",
              "    }\n",
              "\n",
              "    .colab-df-convert:hover {\n",
              "      background-color: #E2EBFA;\n",
              "      box-shadow: 0px 1px 2px rgba(60, 64, 67, 0.3), 0px 1px 3px 1px rgba(60, 64, 67, 0.15);\n",
              "      fill: #174EA6;\n",
              "    }\n",
              "\n",
              "    [theme=dark] .colab-df-convert {\n",
              "      background-color: #3B4455;\n",
              "      fill: #D2E3FC;\n",
              "    }\n",
              "\n",
              "    [theme=dark] .colab-df-convert:hover {\n",
              "      background-color: #434B5C;\n",
              "      box-shadow: 0px 1px 3px 1px rgba(0, 0, 0, 0.15);\n",
              "      filter: drop-shadow(0px 1px 2px rgba(0, 0, 0, 0.3));\n",
              "      fill: #FFFFFF;\n",
              "    }\n",
              "  </style>\n",
              "\n",
              "      <script>\n",
              "        const buttonEl =\n",
              "          document.querySelector('#df-cec9eaa2-2189-435b-a778-d95a4121baf6 button.colab-df-convert');\n",
              "        buttonEl.style.display =\n",
              "          google.colab.kernel.accessAllowed ? 'block' : 'none';\n",
              "\n",
              "        async function convertToInteractive(key) {\n",
              "          const element = document.querySelector('#df-cec9eaa2-2189-435b-a778-d95a4121baf6');\n",
              "          const dataTable =\n",
              "            await google.colab.kernel.invokeFunction('convertToInteractive',\n",
              "                                                     [key], {});\n",
              "          if (!dataTable) return;\n",
              "\n",
              "          const docLinkHtml = 'Like what you see? Visit the ' +\n",
              "            '<a target=\"_blank\" href=https://colab.research.google.com/notebooks/data_table.ipynb>data table notebook</a>'\n",
              "            + ' to learn more about interactive tables.';\n",
              "          element.innerHTML = '';\n",
              "          dataTable['output_type'] = 'display_data';\n",
              "          await google.colab.output.renderOutput(dataTable, element);\n",
              "          const docLink = document.createElement('div');\n",
              "          docLink.innerHTML = docLinkHtml;\n",
              "          element.appendChild(docLink);\n",
              "        }\n",
              "      </script>\n",
              "    </div>\n",
              "  </div>\n",
              "  "
            ]
          },
          "metadata": {},
          "execution_count": 141
        }
      ]
    },
    {
      "cell_type": "markdown",
      "source": [
        "**Get all the categories**"
      ],
      "metadata": {
        "id": "NEl-mz-doR0O"
      }
    },
    {
      "cell_type": "code",
      "source": [
        "cat = df['Category'].unique()\n",
        "cat"
      ],
      "metadata": {
        "colab": {
          "base_uri": "https://localhost:8080/"
        },
        "id": "zMrldSybhAmO",
        "outputId": "a88e100e-b16d-44b1-cbce-dd9f69f65626"
      },
      "execution_count": 118,
      "outputs": [
        {
          "output_type": "execute_result",
          "data": {
            "text/plain": [
              "array([<strong>Best Computer Science, Computing &amp; Information Technology (IT) </strong>,\n",
              "       <strong>Best Accounting, Finance &amp; Quantitative Studies </strong>,\n",
              "       <strong>Best Business Management </strong>,\n",
              "       <strong>Best Engineering &amp; Built Environment Courses to Study in Malaysia</strong>,\n",
              "       <strong>Best Mass Communication </strong>,\n",
              "       <strong>Best Hospitality, Tourism &amp; Culinary Arts </strong>,\n",
              "       <strong>Best Art and Design </strong>,\n",
              "       <strong>Best Health Science </strong>,\n",
              "       <strong>Best Applied Science </strong>,\n",
              "       <strong>Best Humanities &amp; Social Science </strong>],\n",
              "      dtype=object)"
            ]
          },
          "metadata": {},
          "execution_count": 118
        }
      ]
    },
    {
      "cell_type": "markdown",
      "source": [
        "Saves the dataframe in two files, one is a csv file named 'courses_data.csv' and another is an excel file named 'courses_data.xlsx' in the local system, with the option of index=False which prevent the writing of index."
      ],
      "metadata": {
        "id": "DRn2qA8ogoJ_"
      }
    },
    {
      "cell_type": "code",
      "source": [
        "# to save the dataframe in a csv file\n",
        "df.to_csv('courses_data.csv', index=False)\n",
        "\n",
        "# to save the dataframe in an excel file\n",
        "df.to_excel('courses_data.xlsx', index=False)"
      ],
      "metadata": {
        "id": "EYjTnkNrPDR_"
      },
      "execution_count": 146,
      "outputs": []
    }
  ]
}