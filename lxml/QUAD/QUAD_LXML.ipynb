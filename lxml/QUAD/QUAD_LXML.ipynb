{
  "nbformat": 4,
  "nbformat_minor": 0,
  "metadata": {
    "colab": {
      "provenance": [],
      "authorship_tag": "ABX9TyMeLqJzqtUB9f6IYkOxydJM",
      "include_colab_link": true
    },
    "kernelspec": {
      "name": "python3",
      "display_name": "Python 3"
    },
    "language_info": {
      "name": "python"
    }
  },
  "cells": [
    {
      "cell_type": "markdown",
      "metadata": {
        "id": "view-in-github",
        "colab_type": "text"
      },
      "source": [
        "<a href=\"https://colab.research.google.com/github/drshahizan/python-web/blob/main/lxml/QUAD/QUAD_LXML.ipynb\" target=\"_parent\"><img src=\"https://colab.research.google.com/assets/colab-badge.svg\" alt=\"Open In Colab\"/></a>"
      ]
    },
    {
      "cell_type": "markdown",
      "source": [
        "## Web Scraping using LXML\n",
        "\n",
        "<br>\n",
        " <p align=\"center\">\n",
        "  <img src=\"https://raw.githubusercontent.com/Terence172/FirstR/main/Pictures/lxml.png\" height = \"150\"/>\n",
        " </p>\n",
        "</br>\n",
        "\n",
        "🚀 Group Members QUAD\n",
        "\n",
        "> 1. CHONG KAI ZHE\n",
        "> 2. TERENCE A/L LOORTHANATHAN\n",
        "> 3. RISHMA FATHIMA BINTI BASHER\n",
        "> 4. NUR SYAMALIA FAIQAH BINTI MOHD KAMAL"
      ],
      "metadata": {
        "id": "y5vCLNMhj4ae"
      }
    },
    {
      "cell_type": "markdown",
      "source": [
        "In this notebook, we will show you how to scrape a website using lxml. lxml is a Python library for parsing and manipulating XML and HTML documents. It provides a way to navigate, search, and modify the elements and attributes of an XML or HTML document using a simple and consistent API.\n",
        "\n",
        "The library is built on top of the libxml2 and libxslt C libraries, which provide fast and efficient parsing and manipulation of XML and HTML documents. lxml provides a Pythonic API that is easy to use and intuitive for Python programmers, while still being very powerful and flexible.\n",
        "\n",
        "<br>\n",
        "\n",
        "---\n",
        "<br>\n",
        "Why use lxml? <br>\n",
        "lxml is considered to be one of the most feature-rich and stable XML and HTML parsing libraries for Python. It's considered to be much faster than other libraries like BeautifulSoup, and it's more powerful when it comes to handling complex xpath and xslt.\n",
        "\n",
        "<br>\n",
        "For more information on lxml please go to this link https://lxml.de/ \n",
        "<br><br>\n",
        "\n",
        "---\n",
        "<br>\n",
        "\n",
        "<br>\n",
        " <p align=\"center\">\n",
        "  <img src=\"https://raw.githubusercontent.com/Terence172/FirstR/main/Pictures/jobstreet.jpg\" height = \"150\"/>\n",
        " </p>\n",
        "</br>\n",
        "\n",
        "What website we are trying to scrape?<br>\n",
        "We are going to use the most used online job search website in Malaysia, Jobstreet. Jobstreet operates primarily in Southeast Asia, including countries such as Malaysia, Singapore, Philippines, Indonesia, and Vietnam. However it has established its HQ in Malaysia.\n",
        "<br><br>\n",
        "\n",
        "---\n",
        "<br>\n",
        "What data we are going to scrape?<br>\n",
        "We are going to retrieve data of job offerings for Computer/Information technology specialists. We will get basic information of the job offering such as what company is offering it, what is the salary, and what is the job title.<br>\n"
      ],
      "metadata": {
        "id": "F2qu0IH6kE6o"
      }
    },
    {
      "cell_type": "markdown",
      "source": [
        "**First step** - Install all the required libraries.\n",
        "<br>\n",
        "Since lxml is not pre-installed, we have to install it manually by `!pip install lxml`. However why we need `!pip install requests`? well we need requests library to retrieve the HTML content of the website we are trying to scrape.\n",
        "\n"
      ],
      "metadata": {
        "id": "nj8BNPHYn3m8"
      }
    },
    {
      "cell_type": "code",
      "execution_count": null,
      "metadata": {
        "colab": {
          "base_uri": "https://localhost:8080/"
        },
        "id": "BEO6dzbHzZDR",
        "outputId": "33aa1b45-ac11-4061-e375-4cee6e1679ce"
      },
      "outputs": [
        {
          "output_type": "stream",
          "name": "stdout",
          "text": [
            "Looking in indexes: https://pypi.org/simple, https://us-python.pkg.dev/colab-wheels/public/simple/\n",
            "Requirement already satisfied: requests in /usr/local/lib/python3.8/dist-packages (2.25.1)\n",
            "Requirement already satisfied: urllib3<1.27,>=1.21.1 in /usr/local/lib/python3.8/dist-packages (from requests) (1.24.3)\n",
            "Requirement already satisfied: certifi>=2017.4.17 in /usr/local/lib/python3.8/dist-packages (from requests) (2022.12.7)\n",
            "Requirement already satisfied: chardet<5,>=3.0.2 in /usr/local/lib/python3.8/dist-packages (from requests) (4.0.0)\n",
            "Requirement already satisfied: idna<3,>=2.5 in /usr/local/lib/python3.8/dist-packages (from requests) (2.10)\n",
            "Looking in indexes: https://pypi.org/simple, https://us-python.pkg.dev/colab-wheels/public/simple/\n",
            "Requirement already satisfied: lxml in /usr/local/lib/python3.8/dist-packages (4.9.2)\n"
          ]
        }
      ],
      "source": [
        "!pip install requests\n",
        "!pip install lxml"
      ]
    },
    {
      "cell_type": "markdown",
      "source": [
        "**Second step** - Import required libraries that is going to be used\n",
        "<br>\n",
        "As explained we need requests library to to retrieve the HTML content of the website. We need lxml to parse the HTML and locate elements using the specified xpath. We also need dataframe functionality from pandas."
      ],
      "metadata": {
        "id": "2G-eIMYJq54f"
      }
    },
    {
      "cell_type": "code",
      "source": [
        "import requests\n",
        "from lxml import html\n",
        "import pandas as pd"
      ],
      "metadata": {
        "id": "io59fvug8dtZ"
      },
      "execution_count": null,
      "outputs": []
    },
    {
      "cell_type": "markdown",
      "source": [
        "**Third step** - Use the requests package to retrieve the HTML source for the first page of 30 job offerings"
      ],
      "metadata": {
        "id": "HTcVq3RDrW0-"
      }
    },
    {
      "cell_type": "code",
      "source": [
        "url = 'https://www.jobstreet.com.my/en/job-search/job-vacancy.php?specialization=191%2C192%2C193'\n",
        "\n",
        "response = requests.get(url)\n",
        "\n",
        "tree = html.fromstring(response.content)"
      ],
      "metadata": {
        "id": "wATQKytO8gu4"
      },
      "execution_count": null,
      "outputs": []
    },
    {
      "cell_type": "markdown",
      "source": [
        "**Fourth step** - create a variable and store the value retrieved from xpath `'//div[@class=\"sx2jih0 zcydq876 zcydq866 zcydq896 zcydq886 zcydq8n zcydq856 zcydq8f6 zcydq8eu\"]'` which finds all div elements with a class attribute whose value is `\"sx2jih0 zcydq876 zcydq866 zcydq896 zcydq886 zcydq8n zcydq856 zcydq8f6 zcydq8eu\"`. We then can use the variable to iterate and find information of each job offering."
      ],
      "metadata": {
        "id": "5HzZwOTisLb_"
      }
    },
    {
      "cell_type": "code",
      "source": [
        "elements = tree.xpath('//div[@class=\"sx2jih0 zcydq876 zcydq866 zcydq896 zcydq886 zcydq8n zcydq856 zcydq8f6 zcydq8eu\"]')"
      ],
      "metadata": {
        "id": "AOOXjiQ0ra2c"
      },
      "execution_count": null,
      "outputs": []
    },
    {
      "cell_type": "markdown",
      "source": [
        "**Fifth step** - Now we have to access specific sub-elements using the xpath from before<br><br>\n",
        "\n",
        "We can use a `for loop` to iterate through each element in the elements list, and for each element use the xpath() method with the specified xpath to locate the specific sub-elements. The xpath() method will then return a list of elements that match the specified xpath, so we then need to use indexing to access the first element in the list. \n",
        "\n",
        "> While looking through the job offerings, we figured that some companies prefer to not give full information of the job offering. This could be because of confidentiality issues, or the recruiter just simply forgot. Because of this  we have to make sure that if the list is empty (no element matched the xpath) it assigns an empty string.\n",
        "\n",
        "The extracted data has to be appended to the data list, which will be used to create a Pandas dataframe."
      ],
      "metadata": {
        "id": "t6cXp7fis_5C"
      }
    },
    {
      "cell_type": "code",
      "source": [
        "data = []\n",
        "\n",
        "for element in elements:\n",
        "    \n",
        "    #Get company name it is in span tag with class attribute value of sx2jih0\n",
        "    company_name = element.xpath('.//span[@class=\"sx2jih0\"]/text()')\n",
        "    company_name = company_name[0] if company_name else '' #If value is empty then make sure it is represented\n",
        "\n",
        "    #Get Job Title being offered it is in a tag with data-automation attribute value of jobCardCompanyLink\n",
        "    job_title = element.xpath('.//a[@data-automation=\"jobCardCompanyLink\"]/text()')\n",
        "    job_title = job_title[0] if job_title else 'Company Confidential' #If value is empty then company prefers to be confidentiality\n",
        "    \n",
        "    #Get Job Location being offered it is in a tag with data-automation attribute value of jobCardLocationLink\n",
        "    job_loc = element.xpath('.//a[@data-automation=\"jobCardLocationLink\"]/text()')\n",
        "    job_loc = job_loc[0] if job_loc else '' #If value is empty then make sure it is represented\n",
        "\n",
        "    #Get Salary being offered it is in span tag with class attribute value of sx2jih0 zcydq84u es8sxo0 es8sxo3 es8sxo21 es8sxoh   \n",
        "    salary = element.xpath('.//span[@class=\"sx2jih0 zcydq84u es8sxo0 es8sxo3 es8sxo21 es8sxoh\"]/text()')\n",
        "    salary = salary[0] if salary else 'Not Specified' #If value is empty then company did not specify salary\n",
        "\n",
        "    #Get the first Benefit being offered it is in span tag with class attribute value of sx2jih0 zcydq84u es8sxo0 es8sxo1 es8sxo21 _1d0g9qk4 es8sxo7   \n",
        "    benefit = element.xpath('.//span[@class=\"sx2jih0 zcydq84u es8sxo0 es8sxo1 es8sxo21 _1d0g9qk4 es8sxo7\"]/text()')\n",
        "    benefit = benefit[0] if benefit else 'Nothing' #If value is empty then company did not specify benefit\n",
        "\n",
        "    #Append value into list\n",
        "    data.append([company_name, job_title, job_loc, salary, benefit])"
      ],
      "metadata": {
        "id": "fRQLv7O-rlBG"
      },
      "execution_count": null,
      "outputs": []
    },
    {
      "cell_type": "markdown",
      "source": [
        "**Sixth step** - Convert the list to a dataframe, rename the columns as well"
      ],
      "metadata": {
        "id": "DehWo8GfuZNb"
      }
    },
    {
      "cell_type": "code",
      "source": [
        "df = pd.DataFrame(data, columns=['Job Title', 'Company Name', 'Job Location', 'Salary', 'Benefit'])\n",
        "df.head()"
      ],
      "metadata": {
        "colab": {
          "base_uri": "https://localhost:8080/",
          "height": 337
        },
        "id": "j6YgtN3-rnNC",
        "outputId": "3fa1db2d-1945-4010-ddd4-a32663f2ad33"
      },
      "execution_count": null,
      "outputs": [
        {
          "output_type": "execute_result",
          "data": {
            "text/plain": [
              "                                           Job Title  \\\n",
              "0  Senior Software Engineer / Software Engineer (...   \n",
              "1                        Software Developer ( Java )   \n",
              "2                                       Data Analyst   \n",
              "3                           Software Engineer (Java)   \n",
              "4  Internship for Information Technology (IT) Stu...   \n",
              "\n",
              "                               Company Name  Job Location  \\\n",
              "0                              Ideagen Plc.   Subang Jaya   \n",
              "1           Wiseview Information Technology  Kuala Lumpur   \n",
              "2                 Zempot Malaysia Sdn. Bhd.   Johor Bahru   \n",
              "3                              Ideagen Plc.   Subang Jaya   \n",
              "4  Infineon Technologies (Malaysia) Sdn Bhd        Melaka   \n",
              "\n",
              "                   Salary            Benefit  \n",
              "0           Not Specified    13 Month Salary  \n",
              "1  MYR 6K - 8,400 monthly            Nothing  \n",
              "2           Not Specified  Training Provided  \n",
              "3           Not Specified    13 Month Salary  \n",
              "4           Not Specified            Nothing  "
            ],
            "text/html": [
              "\n",
              "  <div id=\"df-4deaf896-69c4-43ff-aac7-12b244fe1557\">\n",
              "    <div class=\"colab-df-container\">\n",
              "      <div>\n",
              "<style scoped>\n",
              "    .dataframe tbody tr th:only-of-type {\n",
              "        vertical-align: middle;\n",
              "    }\n",
              "\n",
              "    .dataframe tbody tr th {\n",
              "        vertical-align: top;\n",
              "    }\n",
              "\n",
              "    .dataframe thead th {\n",
              "        text-align: right;\n",
              "    }\n",
              "</style>\n",
              "<table border=\"1\" class=\"dataframe\">\n",
              "  <thead>\n",
              "    <tr style=\"text-align: right;\">\n",
              "      <th></th>\n",
              "      <th>Job Title</th>\n",
              "      <th>Company Name</th>\n",
              "      <th>Job Location</th>\n",
              "      <th>Salary</th>\n",
              "      <th>Benefit</th>\n",
              "    </tr>\n",
              "  </thead>\n",
              "  <tbody>\n",
              "    <tr>\n",
              "      <th>0</th>\n",
              "      <td>Senior Software Engineer / Software Engineer (...</td>\n",
              "      <td>Ideagen Plc.</td>\n",
              "      <td>Subang Jaya</td>\n",
              "      <td>Not Specified</td>\n",
              "      <td>13 Month Salary</td>\n",
              "    </tr>\n",
              "    <tr>\n",
              "      <th>1</th>\n",
              "      <td>Software Developer ( Java )</td>\n",
              "      <td>Wiseview Information Technology</td>\n",
              "      <td>Kuala Lumpur</td>\n",
              "      <td>MYR 6K - 8,400 monthly</td>\n",
              "      <td>Nothing</td>\n",
              "    </tr>\n",
              "    <tr>\n",
              "      <th>2</th>\n",
              "      <td>Data Analyst</td>\n",
              "      <td>Zempot Malaysia Sdn. Bhd.</td>\n",
              "      <td>Johor Bahru</td>\n",
              "      <td>Not Specified</td>\n",
              "      <td>Training Provided</td>\n",
              "    </tr>\n",
              "    <tr>\n",
              "      <th>3</th>\n",
              "      <td>Software Engineer (Java)</td>\n",
              "      <td>Ideagen Plc.</td>\n",
              "      <td>Subang Jaya</td>\n",
              "      <td>Not Specified</td>\n",
              "      <td>13 Month Salary</td>\n",
              "    </tr>\n",
              "    <tr>\n",
              "      <th>4</th>\n",
              "      <td>Internship for Information Technology (IT) Stu...</td>\n",
              "      <td>Infineon Technologies (Malaysia) Sdn Bhd</td>\n",
              "      <td>Melaka</td>\n",
              "      <td>Not Specified</td>\n",
              "      <td>Nothing</td>\n",
              "    </tr>\n",
              "  </tbody>\n",
              "</table>\n",
              "</div>\n",
              "      <button class=\"colab-df-convert\" onclick=\"convertToInteractive('df-4deaf896-69c4-43ff-aac7-12b244fe1557')\"\n",
              "              title=\"Convert this dataframe to an interactive table.\"\n",
              "              style=\"display:none;\">\n",
              "        \n",
              "  <svg xmlns=\"http://www.w3.org/2000/svg\" height=\"24px\"viewBox=\"0 0 24 24\"\n",
              "       width=\"24px\">\n",
              "    <path d=\"M0 0h24v24H0V0z\" fill=\"none\"/>\n",
              "    <path d=\"M18.56 5.44l.94 2.06.94-2.06 2.06-.94-2.06-.94-.94-2.06-.94 2.06-2.06.94zm-11 1L8.5 8.5l.94-2.06 2.06-.94-2.06-.94L8.5 2.5l-.94 2.06-2.06.94zm10 10l.94 2.06.94-2.06 2.06-.94-2.06-.94-.94-2.06-.94 2.06-2.06.94z\"/><path d=\"M17.41 7.96l-1.37-1.37c-.4-.4-.92-.59-1.43-.59-.52 0-1.04.2-1.43.59L10.3 9.45l-7.72 7.72c-.78.78-.78 2.05 0 2.83L4 21.41c.39.39.9.59 1.41.59.51 0 1.02-.2 1.41-.59l7.78-7.78 2.81-2.81c.8-.78.8-2.07 0-2.86zM5.41 20L4 18.59l7.72-7.72 1.47 1.35L5.41 20z\"/>\n",
              "  </svg>\n",
              "      </button>\n",
              "      \n",
              "  <style>\n",
              "    .colab-df-container {\n",
              "      display:flex;\n",
              "      flex-wrap:wrap;\n",
              "      gap: 12px;\n",
              "    }\n",
              "\n",
              "    .colab-df-convert {\n",
              "      background-color: #E8F0FE;\n",
              "      border: none;\n",
              "      border-radius: 50%;\n",
              "      cursor: pointer;\n",
              "      display: none;\n",
              "      fill: #1967D2;\n",
              "      height: 32px;\n",
              "      padding: 0 0 0 0;\n",
              "      width: 32px;\n",
              "    }\n",
              "\n",
              "    .colab-df-convert:hover {\n",
              "      background-color: #E2EBFA;\n",
              "      box-shadow: 0px 1px 2px rgba(60, 64, 67, 0.3), 0px 1px 3px 1px rgba(60, 64, 67, 0.15);\n",
              "      fill: #174EA6;\n",
              "    }\n",
              "\n",
              "    [theme=dark] .colab-df-convert {\n",
              "      background-color: #3B4455;\n",
              "      fill: #D2E3FC;\n",
              "    }\n",
              "\n",
              "    [theme=dark] .colab-df-convert:hover {\n",
              "      background-color: #434B5C;\n",
              "      box-shadow: 0px 1px 3px 1px rgba(0, 0, 0, 0.15);\n",
              "      filter: drop-shadow(0px 1px 2px rgba(0, 0, 0, 0.3));\n",
              "      fill: #FFFFFF;\n",
              "    }\n",
              "  </style>\n",
              "\n",
              "      <script>\n",
              "        const buttonEl =\n",
              "          document.querySelector('#df-4deaf896-69c4-43ff-aac7-12b244fe1557 button.colab-df-convert');\n",
              "        buttonEl.style.display =\n",
              "          google.colab.kernel.accessAllowed ? 'block' : 'none';\n",
              "\n",
              "        async function convertToInteractive(key) {\n",
              "          const element = document.querySelector('#df-4deaf896-69c4-43ff-aac7-12b244fe1557');\n",
              "          const dataTable =\n",
              "            await google.colab.kernel.invokeFunction('convertToInteractive',\n",
              "                                                     [key], {});\n",
              "          if (!dataTable) return;\n",
              "\n",
              "          const docLinkHtml = 'Like what you see? Visit the ' +\n",
              "            '<a target=\"_blank\" href=https://colab.research.google.com/notebooks/data_table.ipynb>data table notebook</a>'\n",
              "            + ' to learn more about interactive tables.';\n",
              "          element.innerHTML = '';\n",
              "          dataTable['output_type'] = 'display_data';\n",
              "          await google.colab.output.renderOutput(dataTable, element);\n",
              "          const docLink = document.createElement('div');\n",
              "          docLink.innerHTML = docLinkHtml;\n",
              "          element.appendChild(docLink);\n",
              "        }\n",
              "      </script>\n",
              "    </div>\n",
              "  </div>\n",
              "  "
            ]
          },
          "metadata": {},
          "execution_count": 91
        }
      ]
    },
    {
      "cell_type": "markdown",
      "source": [
        "**Seventh step** - Make sure there are no null values\n",
        "<br><br>\n",
        "use `.isnull()` to check if there are null values"
      ],
      "metadata": {
        "id": "bMtSzPZXumH7"
      }
    },
    {
      "cell_type": "code",
      "source": [
        "df.isnull().sum()"
      ],
      "metadata": {
        "colab": {
          "base_uri": "https://localhost:8080/"
        },
        "id": "tWlwIxPzVnwH",
        "outputId": "4d45dfc2-389c-4852-ca7a-74489ee3dbb4"
      },
      "execution_count": null,
      "outputs": [
        {
          "output_type": "execute_result",
          "data": {
            "text/plain": [
              "Job Title       0\n",
              "Company Name    0\n",
              "Job Location    0\n",
              "Salary          0\n",
              "Benefit         0\n",
              "dtype: int64"
            ]
          },
          "metadata": {},
          "execution_count": 92
        }
      ]
    },
    {
      "cell_type": "markdown",
      "source": [
        "There is no null values. Therefore we do not have to take any action in terms of null values."
      ],
      "metadata": {
        "id": "gi7hKHqZuzbW"
      }
    },
    {
      "cell_type": "markdown",
      "source": [
        "**Last step** - Convert the result dataframe into a csv file"
      ],
      "metadata": {
        "id": "6_hgniXmu8mf"
      }
    },
    {
      "cell_type": "code",
      "source": [
        "# Convert the dataframe into a csv file\n",
        "df.to_csv('job_search.csv', index=False)"
      ],
      "metadata": {
        "id": "gP7dig9kayNW"
      },
      "execution_count": null,
      "outputs": []
    }
  ]
}