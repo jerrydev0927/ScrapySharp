{
 "cells": [
  {
   "cell_type": "markdown",
   "id": "e77fe466",
   "metadata": {},
   "source": [
    "## Selenium Web Scraping"
   ]
  },
  {
   "cell_type": "markdown",
   "id": "d877a199",
   "metadata": {},
   "source": [
    "### Web scraping E-commerce sites to compare prices with Python\n",
    "\n",
    "Shopee and Lazada are two e-commerce platforms that customers are likely to consider when making an online purchase. As the two largest e-commerce sites that are operating in Malaysia, they are both excellent places to start looking for a deal. It is a common belief that, of the two e-commerce platforms in Malaysia, one is typically more affordable and caters to people who are looking for deals, while the other platform serves customers who are less concerned about prices.\n",
    "\n",
    "This study will determine whether one of the e-commerce websites is in fact less expensive than the other. Using a Python script with Selenium and the Chrome web driver, we will automate the scraping process and generate our dataset. Here, we will be scraping the product's name and price. Then, we will perform some basic data analysis with Pandas on the scraped dataset. We will conclude the price comparison using Matplotlib and Seaborn to create a simple visual chart."
   ]
  },
  {
   "cell_type": "markdown",
   "id": "338d1017",
   "metadata": {},
   "source": [
    "#### By: Group 9\n",
    "#### Team Members: \n",
    "\n",
    "<table>\n",
    "  <tr>\n",
    "    <th>Name</th>\n",
    "    <th>Matric No</th>\n",
    "  </tr>\n",
    "  <tr>\n",
    "    <th>Eddie Wong Chung Pheng </th>\n",
    "    <th>A20EC0031</th>\n",
    "  </tr>\n",
    "  <tr>\n",
    "    <th>Madihah Binti Che Zabri </th>\n",
    "    <th>A20EC0074</th>\n",
    "  </tr>\n",
    "  <tr>\n",
    "    <th>Nurarissa Dayana Binti Mohd Sukri</th>\n",
    "    <th>A20EC0120</th>\n",
    "  </tr>\n",
    "  <tr> \n",
    "    <th>Vincent Boo Ee Khai</th>\n",
    "    <th>A20EC0231</th>\n",
    "  </tr>\n",
    "</table>\n",
    "<br></br>"
   ]
  },
  {
   "cell_type": "markdown",
   "id": "167a1642",
   "metadata": {},
   "source": [
    "### 1. Install Webdriver Manager\n",
    "WebDriverManager is an open-source Java library that automates the management (i.e., download, installation, and maintenance) of the Selenium WebDriver drivers (e.g., chromedriver, geckodriver, msedgedriver, etc.)."
   ]
  },
  {
   "cell_type": "code",
   "execution_count": 1,
   "id": "a974918d",
   "metadata": {},
   "outputs": [
    {
     "name": "stdout",
     "output_type": "stream",
     "text": [
      "Requirement already satisfied: webdriver-manager in c:\\users\\madih\\anaconda3\\lib\\site-packages (3.8.5)\n",
      "Requirement already satisfied: packaging in c:\\users\\madih\\anaconda3\\lib\\site-packages (from webdriver-manager) (21.3)\n",
      "Requirement already satisfied: requests in c:\\users\\madih\\anaconda3\\lib\\site-packages (from webdriver-manager) (2.28.1)\n",
      "Requirement already satisfied: python-dotenv in c:\\users\\madih\\anaconda3\\lib\\site-packages (from webdriver-manager) (0.21.1)\n",
      "Requirement already satisfied: tqdm in c:\\users\\madih\\anaconda3\\lib\\site-packages (from webdriver-manager) (4.64.1)\n",
      "Requirement already satisfied: pyparsing!=3.0.5,>=2.0.2 in c:\\users\\madih\\anaconda3\\lib\\site-packages (from packaging->webdriver-manager) (3.0.9)\n",
      "Requirement already satisfied: urllib3<1.27,>=1.21.1 in c:\\users\\madih\\anaconda3\\lib\\site-packages (from requests->webdriver-manager) (1.26.11)\n",
      "Requirement already satisfied: charset-normalizer<3,>=2 in c:\\users\\madih\\anaconda3\\lib\\site-packages (from requests->webdriver-manager) (2.0.4)\n",
      "Requirement already satisfied: certifi>=2017.4.17 in c:\\users\\madih\\anaconda3\\lib\\site-packages (from requests->webdriver-manager) (2022.9.14)\n",
      "Requirement already satisfied: idna<4,>=2.5 in c:\\users\\madih\\anaconda3\\lib\\site-packages (from requests->webdriver-manager) (3.3)\n",
      "Requirement already satisfied: colorama in c:\\users\\madih\\anaconda3\\lib\\site-packages (from tqdm->webdriver-manager) (0.4.5)\n",
      "Requirement already satisfied: selenium in c:\\users\\madih\\anaconda3\\lib\\site-packages (4.8.0)\n",
      "Requirement already satisfied: trio-websocket~=0.9 in c:\\users\\madih\\anaconda3\\lib\\site-packages (from selenium) (0.9.2)\n",
      "Requirement already satisfied: urllib3[socks]~=1.26 in c:\\users\\madih\\anaconda3\\lib\\site-packages (from selenium) (1.26.11)\n",
      "Requirement already satisfied: certifi>=2021.10.8 in c:\\users\\madih\\anaconda3\\lib\\site-packages (from selenium) (2022.9.14)\n",
      "Requirement already satisfied: trio~=0.17 in c:\\users\\madih\\anaconda3\\lib\\site-packages (from selenium) (0.22.0)\n",
      "Requirement already satisfied: attrs>=19.2.0 in c:\\users\\madih\\anaconda3\\lib\\site-packages (from trio~=0.17->selenium) (21.4.0)\n",
      "Requirement already satisfied: async-generator>=1.9 in c:\\users\\madih\\anaconda3\\lib\\site-packages (from trio~=0.17->selenium) (1.10)\n",
      "Requirement already satisfied: sortedcontainers in c:\\users\\madih\\anaconda3\\lib\\site-packages (from trio~=0.17->selenium) (2.4.0)\n",
      "Requirement already satisfied: outcome in c:\\users\\madih\\anaconda3\\lib\\site-packages (from trio~=0.17->selenium) (1.2.0)\n",
      "Requirement already satisfied: idna in c:\\users\\madih\\anaconda3\\lib\\site-packages (from trio~=0.17->selenium) (3.3)\n",
      "Requirement already satisfied: sniffio in c:\\users\\madih\\anaconda3\\lib\\site-packages (from trio~=0.17->selenium) (1.2.0)\n",
      "Requirement already satisfied: exceptiongroup>=1.0.0rc9 in c:\\users\\madih\\anaconda3\\lib\\site-packages (from trio~=0.17->selenium) (1.1.0)\n",
      "Requirement already satisfied: cffi>=1.14 in c:\\users\\madih\\anaconda3\\lib\\site-packages (from trio~=0.17->selenium) (1.15.1)\n",
      "Requirement already satisfied: wsproto>=0.14 in c:\\users\\madih\\anaconda3\\lib\\site-packages (from trio-websocket~=0.9->selenium) (1.2.0)\n",
      "Requirement already satisfied: PySocks!=1.5.7,<2.0,>=1.5.6 in c:\\users\\madih\\anaconda3\\lib\\site-packages (from urllib3[socks]~=1.26->selenium) (1.7.1)\n",
      "Requirement already satisfied: pycparser in c:\\users\\madih\\anaconda3\\lib\\site-packages (from cffi>=1.14->trio~=0.17->selenium) (2.21)\n",
      "Requirement already satisfied: h11<1,>=0.9.0 in c:\\users\\madih\\anaconda3\\lib\\site-packages (from wsproto>=0.14->trio-websocket~=0.9->selenium) (0.14.0)\n"
     ]
    }
   ],
   "source": [
    "!pip install webdriver-manager\n",
    "!pip install selenium"
   ]
  },
  {
   "cell_type": "markdown",
   "id": "5167a60e",
   "metadata": {},
   "source": [
    "### 2. Web Scrapping with Selenium\n",
    "Import all the necessary libraries. Pandas and the Selenium webdriver are the main libraries for simple web scraping."
   ]
  },
  {
   "cell_type": "code",
   "execution_count": 2,
   "id": "5fbbac5d",
   "metadata": {},
   "outputs": [],
   "source": [
    "from selenium import webdriver\n",
    "from selenium.webdriver.chrome.service import Service\n",
    "from webdriver_manager.chrome import ChromeDriverManager\n",
    "from selenium.webdriver.common.by import By\n",
    "from selenium.common.exceptions import *\n",
    "\n",
    "#Data manipulation\n",
    "import pandas as pd\n",
    "\n",
    "# Visualization\n",
    "import matplotlib.pyplot as plt\n",
    "import seaborn as sns"
   ]
  },
  {
   "cell_type": "markdown",
   "id": "820eeb9b",
   "metadata": {},
   "source": [
    "After importing the libraries, the next step is to initiate the Chrome driver. The Chrome browser should open in a new empty window since there is no feed URL."
   ]
  },
  {
   "cell_type": "code",
   "execution_count": 3,
   "id": "796cf79d",
   "metadata": {},
   "outputs": [],
   "source": [
    "driver = webdriver.Chrome(service=Service(ChromeDriverManager().install()))"
   ]
  },
  {
   "cell_type": "markdown",
   "id": "9be0dbb5",
   "metadata": {},
   "source": [
    "The target feed URL is saved as `Lazada_url`. It will open Lazada e-commerce platform and search for the item specified."
   ]
  },
  {
   "cell_type": "code",
   "execution_count": 4,
   "id": "a45d8d94",
   "metadata": {},
   "outputs": [],
   "source": [
    "Lazada_url = 'https://www.lazada.com.my'\n",
    "search_item = 'Nestle Honey Stars 150g'\n",
    "driver.get(Lazada_url)"
   ]
  },
  {
   "cell_type": "code",
   "execution_count": 5,
   "id": "95a5b03a",
   "metadata": {},
   "outputs": [],
   "source": [
    "p = driver.find_element(By.ID, 'q')\n",
    "p.send_keys(search_item)\n",
    "p.submit()"
   ]
  },
  {
   "cell_type": "markdown",
   "id": "068410b3",
   "metadata": {},
   "source": [
    "Once the feed URL is entered, the target website will be opened. The following process is to find the name and price of our search item. In Selenium, you can find the HTML elements by the using Class name methods."
   ]
  },
  {
   "cell_type": "code",
   "execution_count": 6,
   "id": "c4d06bc5",
   "metadata": {},
   "outputs": [],
   "source": [
    "item_titles = driver.find_elements(By.CLASS_NAME, 'RfADt')\n",
    "item_prices = driver.find_elements(By.CLASS_NAME, 'ooOxS')"
   ]
  },
  {
   "cell_type": "code",
   "execution_count": 7,
   "id": "32ce44cb",
   "metadata": {},
   "outputs": [],
   "source": [
    "# Initialize empty lists\n",
    "titles_list = []\n",
    "prices_list = []\n",
    "\n",
    "# Loop over the item_titles and item_prices\n",
    "for title in item_titles:\n",
    "    titles_list.append(title.text)\n",
    "for price in item_prices:\n",
    "    prices_list.append(price.text)"
   ]
  },
  {
   "cell_type": "markdown",
   "id": "27c4602e",
   "metadata": {},
   "source": [
    "After scraping this page, we will proceed to the next page. XPath is used because the next page button has two classes and the find element by class name method only finds elements from one class. We must also tell the browser what to do if the next page button is disabled. If the button is disabled, the browser closes. If not disabled, it will move to the next page, requiring another scrape. Our search yielded 25 results on one page, thus concluding our scraping procedure."
   ]
  },
  {
   "cell_type": "code",
   "execution_count": 8,
   "id": "6ba4203a",
   "metadata": {},
   "outputs": [],
   "source": [
    "try:\n",
    "    driver.find_element('xpath','//*[@id=\"root\"]/div/div[2]/div[1]/div/div[1]/div[3]/div/ul/li[3]/button/span/svg').click()\n",
    "except NoSuchElementException: \n",
    "    driver.quit()"
   ]
  },
  {
   "cell_type": "markdown",
   "id": "396d2673",
   "metadata": {},
   "source": [
    "Lastly, save the data in the data frame."
   ]
  },
  {
   "cell_type": "code",
   "execution_count": 9,
   "id": "8c41fc09",
   "metadata": {},
   "outputs": [
    {
     "data": {
      "text/html": [
       "<div>\n",
       "<style scoped>\n",
       "    .dataframe tbody tr th:only-of-type {\n",
       "        vertical-align: middle;\n",
       "    }\n",
       "\n",
       "    .dataframe tbody tr th {\n",
       "        vertical-align: top;\n",
       "    }\n",
       "\n",
       "    .dataframe thead th {\n",
       "        text-align: right;\n",
       "    }\n",
       "</style>\n",
       "<table border=\"1\" class=\"dataframe\">\n",
       "  <thead>\n",
       "    <tr style=\"text-align: right;\">\n",
       "      <th></th>\n",
       "      <th>ItemName</th>\n",
       "      <th>Price</th>\n",
       "    </tr>\n",
       "  </thead>\n",
       "  <tbody>\n",
       "    <tr>\n",
       "      <th>0</th>\n",
       "      <td>NESTLE HONEY STARS Cereal 150g</td>\n",
       "      <td>RM7.19</td>\n",
       "    </tr>\n",
       "    <tr>\n",
       "      <th>1</th>\n",
       "      <td>Nestle Honey Stars (150g)</td>\n",
       "      <td>RM7.34</td>\n",
       "    </tr>\n",
       "    <tr>\n",
       "      <th>2</th>\n",
       "      <td>HONEY STAR CEREAL 150G #Okborong #Borong #Brea...</td>\n",
       "      <td>RM6.35</td>\n",
       "    </tr>\n",
       "    <tr>\n",
       "      <th>3</th>\n",
       "      <td>Nestle Honey Stars(150g)</td>\n",
       "      <td>RM10.90</td>\n",
       "    </tr>\n",
       "    <tr>\n",
       "      <th>4</th>\n",
       "      <td>Nestle Honey Stars (150g)</td>\n",
       "      <td>RM7.45</td>\n",
       "    </tr>\n",
       "    <tr>\n",
       "      <th>5</th>\n",
       "      <td>NESTLE Koko Krunch 330g , Honey Star 150g , Go...</td>\n",
       "      <td>RM6.00</td>\n",
       "    </tr>\n",
       "    <tr>\n",
       "      <th>6</th>\n",
       "      <td>Nestle Whole grain 全麦谷粮 Milo 170g/ Honey stars...</td>\n",
       "      <td>RM6.90</td>\n",
       "    </tr>\n",
       "    <tr>\n",
       "      <th>7</th>\n",
       "      <td>Nestle Honey Stars(150g)</td>\n",
       "      <td>RM8.50</td>\n",
       "    </tr>\n",
       "    <tr>\n",
       "      <th>8</th>\n",
       "      <td>Nestle - Honey Stars Cereal 150g</td>\n",
       "      <td>RM7.45</td>\n",
       "    </tr>\n",
       "    <tr>\n",
       "      <th>9</th>\n",
       "      <td>Nestle - Honey Stars Honey Coated Wheat and Co...</td>\n",
       "      <td>RM9.69</td>\n",
       "    </tr>\n",
       "    <tr>\n",
       "      <th>10</th>\n",
       "      <td>Nestle Honey Stars Whole Grain (150G)</td>\n",
       "      <td>RM8.92</td>\n",
       "    </tr>\n",
       "    <tr>\n",
       "      <th>11</th>\n",
       "      <td>[SALE] Nestle Honey Star Cereal 150g Huat Tiong</td>\n",
       "      <td>RM9.57</td>\n",
       "    </tr>\n",
       "    <tr>\n",
       "      <th>12</th>\n",
       "      <td>KELLOGG'S CORNFLAKES 150G #Okborong #Borong #B...</td>\n",
       "      <td>RM8.50</td>\n",
       "    </tr>\n",
       "    <tr>\n",
       "      <th>13</th>\n",
       "      <td>NESTLE FITNESSE CEREAL FRUITS 450G + FREE HONE...</td>\n",
       "      <td>RM6.99</td>\n",
       "    </tr>\n",
       "    <tr>\n",
       "      <th>14</th>\n",
       "      <td>Nestle Honey Stars Honey-Coated Wheat and Corn...</td>\n",
       "      <td>RM20.10</td>\n",
       "    </tr>\n",
       "    <tr>\n",
       "      <th>15</th>\n",
       "      <td>Starbucks Caramel Latte Premium Instant Coffee...</td>\n",
       "      <td>RM5.80</td>\n",
       "    </tr>\n",
       "    <tr>\n",
       "      <th>16</th>\n",
       "      <td>Starbucks Caffè Mocha Premium Instant Coffee M...</td>\n",
       "      <td>RM18.00</td>\n",
       "    </tr>\n",
       "    <tr>\n",
       "      <th>17</th>\n",
       "      <td>Starbucks Caffè Latte Premium Instant Coffee M...</td>\n",
       "      <td>RM18.00</td>\n",
       "    </tr>\n",
       "    <tr>\n",
       "      <th>18</th>\n",
       "      <td>Starbucks Toffee Nut Latte Instant Coffee Mixe...</td>\n",
       "      <td>RM18.00</td>\n",
       "    </tr>\n",
       "    <tr>\n",
       "      <th>19</th>\n",
       "      <td>Nestle Honey Stars Cereal 150g / 300g</td>\n",
       "      <td>RM19.00</td>\n",
       "    </tr>\n",
       "    <tr>\n",
       "      <th>20</th>\n",
       "      <td>Nestle Honey Star 150g / 300g</td>\n",
       "      <td>RM6.99</td>\n",
       "    </tr>\n",
       "    <tr>\n",
       "      <th>21</th>\n",
       "      <td>Nestle Honey Stars Cereal With Whole Grain 150g</td>\n",
       "      <td>RM7.90</td>\n",
       "    </tr>\n",
       "    <tr>\n",
       "      <th>22</th>\n",
       "      <td>HONEY STAR CEREAL 150G x 6 BOX #Okborong #Boro...</td>\n",
       "      <td>RM7.50</td>\n",
       "    </tr>\n",
       "    <tr>\n",
       "      <th>23</th>\n",
       "      <td>Nestle Honey Stars Cereal 150G</td>\n",
       "      <td>RM49.80</td>\n",
       "    </tr>\n",
       "    <tr>\n",
       "      <th>24</th>\n",
       "      <td>READY STOCK MALAYSIA - Nestle Honey Star 150g</td>\n",
       "      <td>RM8.59</td>\n",
       "    </tr>\n",
       "    <tr>\n",
       "      <th>25</th>\n",
       "      <td>Nestle Cereal Gold Cornflakes (275g) FOC Nestl...</td>\n",
       "      <td>RM7.00</td>\n",
       "    </tr>\n",
       "    <tr>\n",
       "      <th>26</th>\n",
       "      <td>Starbucks Cappuccino Premium Instant Coffee Mi...</td>\n",
       "      <td>RM29.70</td>\n",
       "    </tr>\n",
       "    <tr>\n",
       "      <th>27</th>\n",
       "      <td>Nestle - Honey Stars Honey Coated Wheat and Co...</td>\n",
       "      <td>RM59.39</td>\n",
       "    </tr>\n",
       "  </tbody>\n",
       "</table>\n",
       "</div>"
      ],
      "text/plain": [
       "                                             ItemName    Price\n",
       "0                      NESTLE HONEY STARS Cereal 150g   RM7.19\n",
       "1                           Nestle Honey Stars (150g)   RM7.34\n",
       "2   HONEY STAR CEREAL 150G #Okborong #Borong #Brea...   RM6.35\n",
       "3                            Nestle Honey Stars(150g)  RM10.90\n",
       "4                           Nestle Honey Stars (150g)   RM7.45\n",
       "5   NESTLE Koko Krunch 330g , Honey Star 150g , Go...   RM6.00\n",
       "6   Nestle Whole grain 全麦谷粮 Milo 170g/ Honey stars...   RM6.90\n",
       "7                            Nestle Honey Stars(150g)   RM8.50\n",
       "8                    Nestle - Honey Stars Cereal 150g   RM7.45\n",
       "9   Nestle - Honey Stars Honey Coated Wheat and Co...   RM9.69\n",
       "10              Nestle Honey Stars Whole Grain (150G)   RM8.92\n",
       "11    [SALE] Nestle Honey Star Cereal 150g Huat Tiong   RM9.57\n",
       "12  KELLOGG'S CORNFLAKES 150G #Okborong #Borong #B...   RM8.50\n",
       "13  NESTLE FITNESSE CEREAL FRUITS 450G + FREE HONE...   RM6.99\n",
       "14  Nestle Honey Stars Honey-Coated Wheat and Corn...  RM20.10\n",
       "15  Starbucks Caramel Latte Premium Instant Coffee...   RM5.80\n",
       "16  Starbucks Caffè Mocha Premium Instant Coffee M...  RM18.00\n",
       "17  Starbucks Caffè Latte Premium Instant Coffee M...  RM18.00\n",
       "18  Starbucks Toffee Nut Latte Instant Coffee Mixe...  RM18.00\n",
       "19              Nestle Honey Stars Cereal 150g / 300g  RM19.00\n",
       "20                      Nestle Honey Star 150g / 300g   RM6.99\n",
       "21    Nestle Honey Stars Cereal With Whole Grain 150g   RM7.90\n",
       "22  HONEY STAR CEREAL 150G x 6 BOX #Okborong #Boro...   RM7.50\n",
       "23                     Nestle Honey Stars Cereal 150G  RM49.80\n",
       "24      READY STOCK MALAYSIA - Nestle Honey Star 150g   RM8.59\n",
       "25  Nestle Cereal Gold Cornflakes (275g) FOC Nestl...   RM7.00\n",
       "26  Starbucks Cappuccino Premium Instant Coffee Mi...  RM29.70\n",
       "27  Nestle - Honey Stars Honey Coated Wheat and Co...  RM59.39"
      ]
     },
     "execution_count": 9,
     "metadata": {},
     "output_type": "execute_result"
    }
   ],
   "source": [
    "dfL = pd.DataFrame(zip(titles_list, prices_list), columns=['ItemName', 'Price'])\n",
    "dfL"
   ]
  },
  {
   "cell_type": "markdown",
   "id": "a9ff3df0",
   "metadata": {},
   "source": [
    "### 3. Data Cleaning and Preparation"
   ]
  },
  {
   "cell_type": "markdown",
   "id": "f03a9c5d",
   "metadata": {},
   "source": [
    "`dfL.info()` shows that the Price column type is object, not float as each Price column entry contains the currency symbol \"RM\" (Malaysian Ringgit). If the Price column is not integer or float, we cannot extract statistical features from it. We will also change the ItemName column to string."
   ]
  },
  {
   "cell_type": "code",
   "execution_count": 10,
   "id": "73fcfc19",
   "metadata": {},
   "outputs": [
    {
     "name": "stdout",
     "output_type": "stream",
     "text": [
      "<class 'pandas.core.frame.DataFrame'>\n",
      "RangeIndex: 28 entries, 0 to 27\n",
      "Data columns (total 2 columns):\n",
      " #   Column    Non-Null Count  Dtype \n",
      "---  ------    --------------  ----- \n",
      " 0   ItemName  28 non-null     object\n",
      " 1   Price     28 non-null     object\n",
      "dtypes: object(2)\n",
      "memory usage: 576.0+ bytes\n"
     ]
    }
   ],
   "source": [
    "dfL.info()"
   ]
  },
  {
   "cell_type": "markdown",
   "id": "90a9475b",
   "metadata": {},
   "source": [
    "We need to remove the currency symbol and convert the entire column into a float type"
   ]
  },
  {
   "cell_type": "code",
   "execution_count": 11,
   "id": "819b8bbe",
   "metadata": {},
   "outputs": [],
   "source": [
    "dfL['Price'] = dfL['Price'].str.replace('RM', '').astype(float)"
   ]
  },
  {
   "cell_type": "markdown",
   "id": "1a55b809",
   "metadata": {},
   "source": [
    "Then we will remove any irrelevant entries"
   ]
  },
  {
   "cell_type": "code",
   "execution_count": 12,
   "id": "8109c58f",
   "metadata": {},
   "outputs": [],
   "source": [
    "dfL = dfL[dfL['ItemName'].str.contains('Starbucks') == False]\n",
    "dfL = dfL[dfL['ItemName'].str.contains('Cornflake') == False]\n",
    "dfL = dfL[dfL['ItemName'].str.contains('CORNFLAKE') == False]"
   ]
  },
  {
   "cell_type": "markdown",
   "id": "2428d799",
   "metadata": {},
   "source": [
    "Additionally, we will create a column titled `Platform` and assign \"Lazada\" to each entry in this column. This is done so that we can group the entries by platform (Lazada and Shopee) when we compare prices between the two platforms later."
   ]
  },
  {
   "cell_type": "code",
   "execution_count": 13,
   "id": "76d5aa42",
   "metadata": {},
   "outputs": [],
   "source": [
    "dfL['Platform'] = 'Lazada'"
   ]
  },
  {
   "cell_type": "markdown",
   "id": "701832f8",
   "metadata": {},
   "source": [
    "We export the data to a csv file."
   ]
  },
  {
   "cell_type": "code",
   "execution_count": 16,
   "id": "5fa19446",
   "metadata": {},
   "outputs": [],
   "source": [
    "dfL.to_csv('Lazada_Nestle Honey Stars',index=False)\n"
   ]
  },
  {
   "cell_type": "markdown",
   "id": "3d0608c3",
   "metadata": {},
   "source": [
    "### 4. Visualization and Analysis"
   ]
  },
  {
   "cell_type": "code",
   "execution_count": 17,
   "id": "79d319a0",
   "metadata": {},
   "outputs": [
    {
     "data": {
      "image/png": "[encoded data removed]",
      "text/plain": [
       "<Figure size 640x480 with 1 Axes>"
      ]
     },
     "metadata": {},
     "output_type": "display_data"
    }
   ],
   "source": [
    "# Plot the chart\n",
    "sns.set()\n",
    "_ = sns.boxplot(x='Platform', y='Price', data=dfL)\n",
    "_ = plt.title('Comparison of Nestle Honey Stars 150g prices between e-commerce platforms in Malaysia')\n",
    "_ = plt.ylabel('Price (RM)')\n",
    "_ = plt.xlabel('E-commerce Platform')\n",
    "# Show the plot\n",
    "plt.show()"
   ]
  },
  {
   "cell_type": "markdown",
   "id": "d181894b",
   "metadata": {},
   "source": [
    "For Lazada, the prices of the items range from RM6 to RM20, with the median price falling between RM7 and RM8. The box also has slightly longer whiskers, indicating that the prices are relatively inconsistent with significant outliers. "
   ]
  },
  {
   "cell_type": "markdown",
   "id": "9dd1098e",
   "metadata": {},
   "source": [
    "### References\n",
    "* https://medium.com/@zfwong.wilson/web-scraping-e-commerce-sites-to-compare-prices-with-python-part-1-360509ee5c62"
   ]
  }
 ],
 "metadata": {
  "kernelspec": {
   "display_name": "Python 3 (ipykernel)",
   "language": "python",
   "name": "python3"
  },
  "language_info": {
   "codemirror_mode": {
    "name": "ipython",
    "version": 3
   },
   "file_extension": ".py",
   "mimetype": "text/x-python",
   "name": "python",
   "nbconvert_exporter": "python",
   "pygments_lexer": "ipython3",
   "version": "3.9.13"
  }
 },
 "nbformat": 4,
 "nbformat_minor": 5
}
