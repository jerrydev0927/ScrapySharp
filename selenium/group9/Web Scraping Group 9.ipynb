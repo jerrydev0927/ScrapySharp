{
 "cells": [
  {
   "cell_type": "markdown",
   "id": "e77fe466",
   "metadata": {},
   "source": [
    "## Selenium Web Scraping"
   ]
  },
  {
   "cell_type": "markdown",
   "id": "d877a199",
   "metadata": {},
   "source": [
    "### Web scraping E-commerce sites to compare prices with Python\n",
    "\n",
    "Shopee and Lazada are two e-commerce platforms that customers are likely to consider when making an online purchase. As the two largest e-commerce sites that are operating in Malaysia, they are both excellent places to start looking for a deal. It is a common belief that, of the two e-commerce platforms in Malaysia, one is typically more affordable and caters to people who are looking for deals, while the other platform serves customers who are less concerned about prices.\n",
    "\n",
    "This study will determine whether one of the e-commerce websites is in fact less expensive than the other. Using a Python script with Selenium and the Chrome web driver, we will automate the scraping process and generate our dataset. Here, we will be scraping the product's name and price. Then, we will perform some basic data analysis with Pandas on the scraped dataset. We will conclude the price comparison using Matplotlib and Seaborn to create a simple visual chart."
   ]
  },
  {
   "cell_type": "markdown",
   "id": "338d1017",
   "metadata": {},
   "source": [
    "#### By: Group 9\n",
    "#### Team Members: \n",
    "\n",
    "<table>\n",
    "  <tr>\n",
    "    <th>Name</th>\n",
    "    <th>Matric No</th>\n",
    "  </tr>\n",
    "  <tr>\n",
    "    <th>Eddie Wong Chung Pheng </th>\n",
    "    <th>A20EC0031</th>\n",
    "  </tr>\n",
    "  <tr>\n",
    "    <th>Madihah Binti Che Zabri </th>\n",
    "    <th>A20EC0074</th>\n",
    "  </tr>\n",
    "  <tr>\n",
    "    <th>Nurarissa Dayana Binti Mohd Sukri</th>\n",
    "    <th>A20EC0120</th>\n",
    "  </tr>\n",
    "  <tr> \n",
    "    <th>Vincent Boo Ee Khai</th>\n",
    "    <th>A20EC0231</th>\n",
    "  </tr>\n",
    "</table>\n",
    "<br></br>"
   ]
  },
  {
   "cell_type": "markdown",
   "id": "167a1642",
   "metadata": {},
   "source": [
    "### 1. Install Webdriver Manager\n",
    "WebDriverManager is an open-source Java library that automates the management (i.e., download, installation, and maintenance) of the Selenium WebDriver drivers (e.g., chromedriver, geckodriver, msedgedriver, etc.)."
   ]
  },
  {
   "cell_type": "code",
   "execution_count": 1,
   "id": "a974918d",
   "metadata": {},
   "outputs": [
    {
     "name": "stdout",
     "output_type": "stream",
     "text": [
      "Requirement already satisfied: webdriver-manager in /opt/homebrew/anaconda3/lib/python3.9/site-packages (3.8.5)\n",
      "Requirement already satisfied: python-dotenv in /opt/homebrew/anaconda3/lib/python3.9/site-packages (from webdriver-manager) (0.21.1)\n",
      "Requirement already satisfied: packaging in /opt/homebrew/anaconda3/lib/python3.9/site-packages (from webdriver-manager) (21.0)\n",
      "Requirement already satisfied: requests in /opt/homebrew/anaconda3/lib/python3.9/site-packages (from webdriver-manager) (2.26.0)\n",
      "Requirement already satisfied: tqdm in /opt/homebrew/anaconda3/lib/python3.9/site-packages (from webdriver-manager) (4.62.3)\n",
      "Requirement already satisfied: pyparsing>=2.0.2 in /opt/homebrew/anaconda3/lib/python3.9/site-packages (from packaging->webdriver-manager) (3.0.4)\n",
      "Requirement already satisfied: urllib3<1.27,>=1.21.1 in /opt/homebrew/anaconda3/lib/python3.9/site-packages (from requests->webdriver-manager) (1.26.7)\n",
      "Requirement already satisfied: certifi>=2017.4.17 in /opt/homebrew/anaconda3/lib/python3.9/site-packages (from requests->webdriver-manager) (2021.10.8)\n",
      "Requirement already satisfied: idna<4,>=2.5 in /opt/homebrew/anaconda3/lib/python3.9/site-packages (from requests->webdriver-manager) (3.2)\n",
      "Requirement already satisfied: charset-normalizer~=2.0.0 in /opt/homebrew/anaconda3/lib/python3.9/site-packages (from requests->webdriver-manager) (2.0.4)\n",
      "Note: you may need to restart the kernel to use updated packages.\n"
     ]
    }
   ],
   "source": [
    "pip install webdriver-manager"
   ]
  },
  {
   "cell_type": "markdown",
   "id": "5167a60e",
   "metadata": {},
   "source": [
    "### 2. Web Scrapping with Selenium\n",
    "Import all the necessary libraries. Pandas and the Selenium webdriver are the main libraries for simple web scraping."
   ]
  },
  {
   "cell_type": "code",
   "execution_count": 2,
   "id": "5fbbac5d",
   "metadata": {},
   "outputs": [],
   "source": [
    "from selenium import webdriver\n",
    "from selenium.webdriver.chrome.service import Service\n",
    "from webdriver_manager.chrome import ChromeDriverManager\n",
    "from selenium.webdriver.common.by import By\n",
    "from selenium.webdriver.support.wait import WebDriverWait\n",
    "from selenium.webdriver.support import expected_conditions as EC\n",
    "from selenium.common.exceptions import *\n",
    "\n",
    "#Data manipulation\n",
    "import pandas as pd\n",
    "import time\n",
    "\n",
    "# Visualization\n",
    "import matplotlib.pyplot as plt\n",
    "import seaborn as sns"
   ]
  },
  {
   "cell_type": "markdown",
   "id": "820eeb9b",
   "metadata": {},
   "source": [
    "After importing the libraries, the next step is to initiate the Chrome driver. The Chrome browser should open in a new empty window since there is no feed URL."
   ]
  },
  {
   "cell_type": "code",
   "execution_count": 3,
   "id": "796cf79d",
   "metadata": {},
   "outputs": [],
   "source": [
    "driver = webdriver.Chrome(service=Service(ChromeDriverManager().install()))"
   ]
  },
  {
   "cell_type": "markdown",
   "id": "8a32a56c",
   "metadata": {},
   "source": [
    "### Scraping Lazada"
   ]
  },
  {
   "cell_type": "markdown",
   "id": "9be0dbb5",
   "metadata": {},
   "source": [
    "The target feed URL is saved as `Lazada_url`. It will open Lazada e-commerce platform and search for the item specified."
   ]
  },
  {
   "cell_type": "code",
   "execution_count": 4,
   "id": "a45d8d94",
   "metadata": {},
   "outputs": [],
   "source": [
    "Lazada_url = 'https://www.lazada.com.my'\n",
    "search_item = 'Nestle Honey Stars 150g'\n",
    "driver.get(Lazada_url)"
   ]
  },
  {
   "cell_type": "code",
   "execution_count": 5,
   "id": "95a5b03a",
   "metadata": {},
   "outputs": [],
   "source": [
    "p = driver.find_element(By.ID, 'q')\n",
    "p.send_keys(search_item)\n",
    "p.submit()"
   ]
  },
  {
   "cell_type": "markdown",
   "id": "068410b3",
   "metadata": {},
   "source": [
    "Once the feed URL is entered, the target website will be opened. The following process is to find the name and price of our search item. In Selenium, you can find the HTML elements by the using Class name methods."
   ]
  },
  {
   "cell_type": "code",
   "execution_count": 6,
   "id": "c4d06bc5",
   "metadata": {},
   "outputs": [],
   "source": [
    "item_titles = driver.find_elements(By.CLASS_NAME, 'RfADt')\n",
    "item_prices = driver.find_elements(By.CLASS_NAME, 'ooOxS')"
   ]
  },
  {
   "cell_type": "code",
   "execution_count": 7,
   "id": "32ce44cb",
   "metadata": {},
   "outputs": [],
   "source": [
    "# Initialize empty lists\n",
    "titles_list = []\n",
    "prices_list = []\n",
    "\n",
    "# Loop over the item_titles and item_prices\n",
    "for title in item_titles:\n",
    "    titles_list.append(title.text)\n",
    "for price in item_prices:\n",
    "    prices_list.append(price.text)"
   ]
  },
  {
   "cell_type": "markdown",
   "id": "27c4602e",
   "metadata": {},
   "source": [
    "After scraping this page, we will proceed to the next page. XPath is used because the next page button has two classes and the find element by class name method only finds elements from one class. We must also tell the browser what to do if the next page button is disabled. If the button is disabled, the browser closes. If not disabled, it will move to the next page, requiring another scrape. Our search yielded 25 results on one page, thus concluding our scraping procedure."
   ]
  },
  {
   "cell_type": "code",
   "execution_count": 8,
   "id": "6ba4203a",
   "metadata": {},
   "outputs": [],
   "source": [
    "try:\n",
    "    driver.find_element('xpath','//*[@id=\"root\"]/div/div[2]/div[1]/div/div[1]/div[3]/div/ul/li[3]/button/span/svg').click()\n",
    "except NoSuchElementException: \n",
    "    driver.quit()"
   ]
  },
  {
   "cell_type": "markdown",
   "id": "396d2673",
   "metadata": {},
   "source": [
    "Lastly, save the data in the data frame."
   ]
  },
  {
   "cell_type": "code",
   "execution_count": 10,
   "id": "8c41fc09",
   "metadata": {},
   "outputs": [
    {
     "data": {
      "text/html": [
       "<div>\n",
       "<style scoped>\n",
       "    .dataframe tbody tr th:only-of-type {\n",
       "        vertical-align: middle;\n",
       "    }\n",
       "\n",
       "    .dataframe tbody tr th {\n",
       "        vertical-align: top;\n",
       "    }\n",
       "\n",
       "    .dataframe thead th {\n",
       "        text-align: right;\n",
       "    }\n",
       "</style>\n",
       "<table border=\"1\" class=\"dataframe\">\n",
       "  <thead>\n",
       "    <tr style=\"text-align: right;\">\n",
       "      <th></th>\n",
       "      <th>ItemName</th>\n",
       "      <th>Price</th>\n",
       "    </tr>\n",
       "  </thead>\n",
       "  <tbody>\n",
       "    <tr>\n",
       "      <th>0</th>\n",
       "      <td>NESTLE HONEY STARS Cereal 150g</td>\n",
       "      <td>RM7.19</td>\n",
       "    </tr>\n",
       "    <tr>\n",
       "      <th>1</th>\n",
       "      <td>Nestle Honey Stars Cereal With Whole Grain 150g</td>\n",
       "      <td>RM7.34</td>\n",
       "    </tr>\n",
       "    <tr>\n",
       "      <th>2</th>\n",
       "      <td>HONEY STAR CEREAL 150G #Okborong #Borong #Brea...</td>\n",
       "      <td>RM7.50</td>\n",
       "    </tr>\n",
       "    <tr>\n",
       "      <th>3</th>\n",
       "      <td>HONEY STAR CEREAL 150G x 6 BOX #Okborong #Boro...</td>\n",
       "      <td>RM10.90</td>\n",
       "    </tr>\n",
       "    <tr>\n",
       "      <th>4</th>\n",
       "      <td>Nestle Honey Stars Cereal 150G</td>\n",
       "      <td>RM49.80</td>\n",
       "    </tr>\n",
       "  </tbody>\n",
       "</table>\n",
       "</div>"
      ],
      "text/plain": [
       "                                            ItemName    Price\n",
       "0                     NESTLE HONEY STARS Cereal 150g   RM7.19\n",
       "1    Nestle Honey Stars Cereal With Whole Grain 150g   RM7.34\n",
       "2  HONEY STAR CEREAL 150G #Okborong #Borong #Brea...   RM7.50\n",
       "3  HONEY STAR CEREAL 150G x 6 BOX #Okborong #Boro...  RM10.90\n",
       "4                     Nestle Honey Stars Cereal 150G  RM49.80"
      ]
     },
     "execution_count": 10,
     "metadata": {},
     "output_type": "execute_result"
    }
   ],
   "source": [
    "dfL = pd.DataFrame(zip(titles_list, prices_list), columns=['ItemName', 'Price'])\n",
    "dfL.head()"
   ]
  },
  {
   "cell_type": "markdown",
   "id": "cbbdcee9",
   "metadata": {},
   "source": [
    "### Scraping Shopee"
   ]
  },
  {
   "cell_type": "code",
   "execution_count": 29,
   "id": "d263a759",
   "metadata": {},
   "outputs": [],
   "source": [
    "driver = webdriver.Chrome(service=Service(ChromeDriverManager().install()))\n",
    "Shopee_url = 'https://shopee.com.my/'\n",
    "driver.get(Shopee_url)"
   ]
  },
  {
   "cell_type": "code",
   "execution_count": 30,
   "id": "5830306b",
   "metadata": {},
   "outputs": [],
   "source": [
    "WebDriverWait(driver, 20).until(EC.element_to_be_clickable(\n",
    "    (By.XPATH,'//*[@id=\"modal\"]/div[1]/div[1]/div/div[3]/div[1]/button'))).click()"
   ]
  },
  {
   "cell_type": "code",
   "execution_count": 31,
   "id": "ab66f1eb",
   "metadata": {},
   "outputs": [],
   "source": [
    "try:\n",
    "    time.sleep(3)\n",
    "    close_btn = driver.execute_script('return document.querySelector(\"#shopee-banner-popup-stateful\").shadowRoot.querySelector(\"div.home-popup__close-area div.shopee-popup__close-btn\")')\n",
    "    close_btn.click()\n",
    "except:\n",
    "    pass"
   ]
  },
  {
   "cell_type": "code",
   "execution_count": 32,
   "id": "d186c645",
   "metadata": {},
   "outputs": [],
   "source": [
    "p = driver.find_element(By.CLASS_NAME, 'shopee-searchbar-input__input')\n",
    "p.send_keys(search_item)\n",
    "driver.find_element('xpath', '//*[@id=\"main\"]/div/header/div[2]/div/div[1]/div[1]/button').click()"
   ]
  },
  {
   "cell_type": "code",
   "execution_count": 35,
   "id": "4ec44e68",
   "metadata": {},
   "outputs": [],
   "source": [
    "item_titles2 = driver.find_elements(By.CLASS_NAME, 'dpiR4u')\n",
    "item_prices2 = driver.find_elements(By.CLASS_NAME, 'ZEgDH9')\n",
    "\n",
    "#Initialize empty lists\n",
    "titles_list2 = []\n",
    "prices_list2 = []\n",
    "\n",
    "#Loop over the item_titles and item_prices\n",
    "for title in item_titles2:\n",
    "    titles_list2.append(title.text)\n",
    "for price in item_prices2:\n",
    "    prices_list2.append(price.text)"
   ]
  },
  {
   "cell_type": "code",
   "execution_count": 34,
   "id": "5ea460ca",
   "metadata": {},
   "outputs": [],
   "source": [
    "scroll_pause_time = 1\n",
    "\n",
    "while True:\n",
    "    last_height = driver.execute_script(\"return document.body.scrollHeight\")\n",
    "    driver.execute_script(\"window.scrollTo(0, window.scrollY + 500);\")\n",
    "    time.sleep(scroll_pause_time)\n",
    "    new_height = driver.execute_script(\"return document.body.scrollHeight\")\n",
    " \n",
    "    if new_height == last_height:\n",
    "        driver.execute_script(\"window.scrollTo(0, window.scrollY + 500);\")\n",
    "        time.sleep(scroll_pause_time)\n",
    "        new_height = driver.execute_script(\"return document.body.scrollHeight\")\n",
    "        if new_height == last_height:\n",
    "            break\n",
    "        else:\n",
    "            last_height = new_height\n",
    "            continue"
   ]
  },
  {
   "cell_type": "code",
   "execution_count": 36,
   "id": "88ffb49c",
   "metadata": {},
   "outputs": [],
   "source": [
    "#close driver\n",
    "try:\n",
    "    driver.find_element('xpath','//*[@id=\"main\"]/div/div[2]/div/div/div[2]/div[2]/div[3]/div/button[3]/svg').click()\n",
    "except NoSuchElementException: \n",
    "    driver.quit()"
   ]
  },
  {
   "cell_type": "code",
   "execution_count": 39,
   "id": "9d4cbf38",
   "metadata": {},
   "outputs": [
    {
     "data": {
      "text/html": [
       "<div>\n",
       "<style scoped>\n",
       "    .dataframe tbody tr th:only-of-type {\n",
       "        vertical-align: middle;\n",
       "    }\n",
       "\n",
       "    .dataframe tbody tr th {\n",
       "        vertical-align: top;\n",
       "    }\n",
       "\n",
       "    .dataframe thead th {\n",
       "        text-align: right;\n",
       "    }\n",
       "</style>\n",
       "<table border=\"1\" class=\"dataframe\">\n",
       "  <thead>\n",
       "    <tr style=\"text-align: right;\">\n",
       "      <th></th>\n",
       "      <th>ItemName</th>\n",
       "      <th>Price</th>\n",
       "    </tr>\n",
       "  </thead>\n",
       "  <tbody>\n",
       "    <tr>\n",
       "      <th>0</th>\n",
       "      <td>Nestle Honey Stars Cereal (150g)\\n50% off\\nLoc...</td>\n",
       "      <td>6.80</td>\n",
       "    </tr>\n",
       "    <tr>\n",
       "      <th>1</th>\n",
       "      <td>Nestle Honey Stars Cereal (300g/150g)\\nLocal S...</td>\n",
       "      <td>6.40</td>\n",
       "    </tr>\n",
       "    <tr>\n",
       "      <th>2</th>\n",
       "      <td>Nestle Honey Stars Cereal 450g\\n2 Feb Only | R...</td>\n",
       "      <td>8.90</td>\n",
       "    </tr>\n",
       "    <tr>\n",
       "      <th>3</th>\n",
       "      <td>Nestle Honey Stars Cereal Econopack (450g x 2 ...</td>\n",
       "      <td>16.55</td>\n",
       "    </tr>\n",
       "    <tr>\n",
       "      <th>4</th>\n",
       "      <td>Nestle Honey Stars Cereal (300g)\\n50% off\\nLoc...</td>\n",
       "      <td>29.35</td>\n",
       "    </tr>\n",
       "  </tbody>\n",
       "</table>\n",
       "</div>"
      ],
      "text/plain": [
       "                                            ItemName  Price\n",
       "0  Nestle Honey Stars Cereal (150g)\\n50% off\\nLoc...   6.80\n",
       "1  Nestle Honey Stars Cereal (300g/150g)\\nLocal S...   6.40\n",
       "2  Nestle Honey Stars Cereal 450g\\n2 Feb Only | R...   8.90\n",
       "3  Nestle Honey Stars Cereal Econopack (450g x 2 ...  16.55\n",
       "4  Nestle Honey Stars Cereal (300g)\\n50% off\\nLoc...  29.35"
      ]
     },
     "execution_count": 39,
     "metadata": {},
     "output_type": "execute_result"
    }
   ],
   "source": [
    "dfS = pd.DataFrame(zip(titles_list2, prices_list2), columns=['ItemName', 'Price'])\n",
    "dfS.head()"
   ]
  },
  {
   "cell_type": "markdown",
   "id": "71703d80",
   "metadata": {},
   "source": [
    "### 3. Data Cleaning and Preparation"
   ]
  },
  {
   "cell_type": "markdown",
   "id": "f03a9c5d",
   "metadata": {},
   "source": [
    "`dfL.info()` shows that the Price column type is object, not float as each Price column entry contains the currency symbol \"RM\" (Malaysian Ringgit). If the Price column is not integer or float, we cannot extract statistical features from it. We will also change the ItemName column to string."
   ]
  },
  {
   "cell_type": "code",
   "execution_count": 38,
   "id": "73fcfc19",
   "metadata": {},
   "outputs": [
    {
     "name": "stdout",
     "output_type": "stream",
     "text": [
      "<class 'pandas.core.frame.DataFrame'>\n",
      "Int64Index: 21 entries, 0 to 27\n",
      "Data columns (total 3 columns):\n",
      " #   Column    Non-Null Count  Dtype  \n",
      "---  ------    --------------  -----  \n",
      " 0   ItemName  21 non-null     object \n",
      " 1   Price     21 non-null     float64\n",
      " 2   Platform  21 non-null     object \n",
      "dtypes: float64(1), object(2)\n",
      "memory usage: 672.0+ bytes\n"
     ]
    }
   ],
   "source": [
    "dfL.info()"
   ]
  },
  {
   "cell_type": "markdown",
   "id": "90a9475b",
   "metadata": {},
   "source": [
    "We need to remove the currency symbol and convert the entire column into a float type"
   ]
  },
  {
   "cell_type": "code",
   "execution_count": 19,
   "id": "819b8bbe",
   "metadata": {},
   "outputs": [],
   "source": [
    "dfL['Price'] = dfL['Price'].str.replace('RM', '').astype(float)"
   ]
  },
  {
   "cell_type": "code",
   "execution_count": 49,
   "id": "d312b2a5",
   "metadata": {},
   "outputs": [],
   "source": [
    "dfS['Price'] = dfS['Price'].astype(float)"
   ]
  },
  {
   "cell_type": "markdown",
   "id": "1a55b809",
   "metadata": {},
   "source": [
    "Then we will remove any irrelevant entries"
   ]
  },
  {
   "cell_type": "code",
   "execution_count": 20,
   "id": "8109c58f",
   "metadata": {},
   "outputs": [],
   "source": [
    "dfL = dfL[dfL['ItemName'].str.contains('Starbucks') == False]\n",
    "dfL = dfL[dfL['ItemName'].str.contains('Cornflake') == False]\n",
    "dfL = dfL[dfL['ItemName'].str.contains('CORNFLAKE') == False]"
   ]
  },
  {
   "cell_type": "code",
   "execution_count": 40,
   "id": "98fbbd64",
   "metadata": {},
   "outputs": [],
   "source": [
    "i=0\n",
    "for x in dfS['ItemName']:\n",
    "    dfS['ItemName'][i] = dfS['ItemName'].str.rsplit('\\n')[i][:-2]   \n",
    "    if dfS['ItemName'][i] == []:\n",
    "        dfS['ItemName'][i] = 'Nestle Honey Stars 150g'\n",
    "    \n",
    "    i+=1"
   ]
  },
  {
   "cell_type": "markdown",
   "id": "2428d799",
   "metadata": {},
   "source": [
    "Additionally, we will create a column titled `Platform` and assign \"Lazada\" and \"Shopee\" respectively to each entry in this column. This is done so that we can group the entries by platform (Lazada and Shopee) when we compare prices between the two platforms later."
   ]
  },
  {
   "cell_type": "code",
   "execution_count": 21,
   "id": "76d5aa42",
   "metadata": {},
   "outputs": [],
   "source": [
    "dfL['Platform'] = 'Lazada'"
   ]
  },
  {
   "cell_type": "code",
   "execution_count": 43,
   "id": "0a53f56c",
   "metadata": {},
   "outputs": [],
   "source": [
    "dfS['Platform'] = 'Shopee'"
   ]
  },
  {
   "cell_type": "markdown",
   "id": "154c7e38",
   "metadata": {},
   "source": [
    "We export the data to a csv file."
   ]
  },
  {
   "cell_type": "code",
   "execution_count": 44,
   "id": "a480adbf",
   "metadata": {},
   "outputs": [],
   "source": [
    "dfL.to_csv('Honey Stars Lazada.csv')"
   ]
  },
  {
   "cell_type": "code",
   "execution_count": 45,
   "id": "138add7f",
   "metadata": {},
   "outputs": [],
   "source": [
    "dfS.to_csv('Honey Stars Shopee.csv')"
   ]
  },
  {
   "cell_type": "markdown",
   "id": "3d0608c3",
   "metadata": {},
   "source": [
    "### 4. Visualization and Analysis"
   ]
  },
  {
   "cell_type": "code",
   "execution_count": 46,
   "id": "79d319a0",
   "metadata": {},
   "outputs": [
    {
     "data": {
      "image/png": "[encoded data removed]",
      "text/plain": [
       "<Figure size 432x288 with 1 Axes>"
      ]
     },
     "metadata": {},
     "output_type": "display_data"
    }
   ],
   "source": [
    "# Plot the chart\n",
    "sns.set()\n",
    "_ = sns.boxplot(x='Platform', y='Price', data=dfL)\n",
    "_ = plt.title('Comparison of Nestle Honey Stars 150g prices between e-commerce platforms in Malaysia')\n",
    "_ = plt.ylabel('Price (RM)')\n",
    "_ = plt.xlabel('E-commerce Platform')\n",
    "# Show the plot\n",
    "plt.show()"
   ]
  },
  {
   "cell_type": "markdown",
   "id": "d181894b",
   "metadata": {},
   "source": [
    "For Lazada, the prices of the items range from RM6 to RM20, with the median price falling between RM7 and RM8. The box also has slightly longer whiskers, indicating that the prices are relatively inconsistent with significant outliers. \n"
   ]
  },
  {
   "cell_type": "code",
   "execution_count": 51,
   "id": "bb20b2c0",
   "metadata": {},
   "outputs": [
    {
     "data": {
      "image/png": "[encoded data removed]",
      "text/plain": [
       "<Figure size 432x288 with 1 Axes>"
      ]
     },
     "metadata": {},
     "output_type": "display_data"
    }
   ],
   "source": [
    "# Plot the chart\n",
    "sns.set()\n",
    "_ = sns.boxplot(x='Platform', y='Price', data=dfS)\n",
    "_ = plt.title('Comparison of Nestle Honey Stars 150g prices between e-commerce platforms in Malaysia')\n",
    "_ = plt.ylabel('Price (RM)')\n",
    "_ = plt.xlabel('E-commerce Platform')\n",
    "# Show the plot\n",
    "plt.show()"
   ]
  },
  {
   "cell_type": "markdown",
   "id": "9dd1098e",
   "metadata": {},
   "source": [
    "### References\n",
    "* https://medium.com/@zfwong.wilson/web-scraping-e-commerce-sites-to-compare-prices-with-python-part-1-360509ee5c62"
   ]
  }
 ],
 "metadata": {
  "kernelspec": {
   "display_name": "Python 3 (ipykernel)",
   "language": "python",
   "name": "python3"
  },
  "language_info": {
   "codemirror_mode": {
    "name": "ipython",
    "version": 3
   },
   "file_extension": ".py",
   "mimetype": "text/x-python",
   "name": "python",
   "nbconvert_exporter": "python",
   "pygments_lexer": "ipython3",
   "version": "3.9.7"
  }
 },
 "nbformat": 4,
 "nbformat_minor": 5
}
