{
 "cells": [
  {
   "cell_type": "markdown",
   "id": "cf69b245",
   "metadata": {},
   "source": [
    "# WEB SCRAPING GE-15 WITH SELENIUM\n",
    "\n",
    "For this assignment, we will be doing web scraping by using a library called Selenium. The website that we have chosen is the official website of Berita Harian regarding the results of PRU15 in Malaysia. It contains the name of the party, the parliment and the number of votes.\n",
    "\n",
    "#### Group Members:\n",
    "|Name |Matric|\n",
    "|:---:|:---:|\n",
    "|LUQMAN ARIFF BIN NOOR AZHAR |A20EC0202|\n",
    "|AHMAD AIMAN HAFIZI BIN MUHAMMAD\t| A20EC0177|\n",
    "|LEE CAI XUAN\t| A20EC0062|\n",
    "|MYZA NAZIFA BINTI NAZRY\t| A20EC0219|"
   ]
  },
  {
   "cell_type": "markdown",
   "id": "b7b589ee",
   "metadata": {},
   "source": [
    "First, we will install the Selenium package."
   ]
  },
  {
   "cell_type": "code",
   "execution_count": 1,
   "id": "ae1892ef",
   "metadata": {},
   "outputs": [
    {
     "name": "stdout",
     "output_type": "stream",
     "text": [
      "Requirement already satisfied: selenium in c:\\users\\hp\\anaconda3\\lib\\site-packages (4.7.2)\n",
      "Requirement already satisfied: trio-websocket~=0.9 in c:\\users\\hp\\anaconda3\\lib\\site-packages (from selenium) (0.9.2)\n",
      "Requirement already satisfied: urllib3[socks]~=1.26 in c:\\users\\hp\\anaconda3\\lib\\site-packages (from selenium) (1.26.11)\n",
      "Requirement already satisfied: trio~=0.17 in c:\\users\\hp\\anaconda3\\lib\\site-packages (from selenium) (0.22.0)\n",
      "Requirement already satisfied: certifi>=2021.10.8 in c:\\users\\hp\\anaconda3\\lib\\site-packages (from selenium) (2022.9.14)\n",
      "Requirement already satisfied: exceptiongroup>=1.0.0rc9 in c:\\users\\hp\\anaconda3\\lib\\site-packages (from trio~=0.17->selenium) (1.1.0)\n",
      "Requirement already satisfied: sniffio in c:\\users\\hp\\anaconda3\\lib\\site-packages (from trio~=0.17->selenium) (1.2.0)\n",
      "Requirement already satisfied: idna in c:\\users\\hp\\anaconda3\\lib\\site-packages (from trio~=0.17->selenium) (3.3)\n",
      "Requirement already satisfied: sortedcontainers in c:\\users\\hp\\anaconda3\\lib\\site-packages (from trio~=0.17->selenium) (2.4.0)\n",
      "Requirement already satisfied: outcome in c:\\users\\hp\\anaconda3\\lib\\site-packages (from trio~=0.17->selenium) (1.2.0)\n",
      "Requirement already satisfied: attrs>=19.2.0 in c:\\users\\hp\\anaconda3\\lib\\site-packages (from trio~=0.17->selenium) (21.4.0)\n",
      "Requirement already satisfied: cffi>=1.14 in c:\\users\\hp\\anaconda3\\lib\\site-packages (from trio~=0.17->selenium) (1.15.1)\n",
      "Requirement already satisfied: async-generator>=1.9 in c:\\users\\hp\\anaconda3\\lib\\site-packages (from trio~=0.17->selenium) (1.10)\n",
      "Requirement already satisfied: wsproto>=0.14 in c:\\users\\hp\\anaconda3\\lib\\site-packages (from trio-websocket~=0.9->selenium) (1.2.0)\n",
      "Requirement already satisfied: PySocks!=1.5.7,<2.0,>=1.5.6 in c:\\users\\hp\\anaconda3\\lib\\site-packages (from urllib3[socks]~=1.26->selenium) (1.7.1)\n",
      "Requirement already satisfied: pycparser in c:\\users\\hp\\anaconda3\\lib\\site-packages (from cffi>=1.14->trio~=0.17->selenium) (2.21)\n",
      "Requirement already satisfied: h11<1,>=0.9.0 in c:\\users\\hp\\anaconda3\\lib\\site-packages (from wsproto>=0.14->trio-websocket~=0.9->selenium) (0.14.0)\n"
     ]
    }
   ],
   "source": [
    "!pip install selenium"
   ]
  },
  {
   "cell_type": "markdown",
   "id": "8e39d720",
   "metadata": {},
   "source": [
    "Then, we will import all the necessary libraries for web-scraping."
   ]
  },
  {
   "cell_type": "code",
   "execution_count": 2,
   "id": "13af71b3",
   "metadata": {},
   "outputs": [],
   "source": [
    "from selenium import webdriver\n",
    "from selenium.webdriver.chrome.options import Options\n",
    "from selenium.webdriver.chrome.service import Service\n",
    "from selenium.webdriver.common.by import By\n",
    "from selenium.webdriver.support.ui import WebDriverWait\n",
    "from selenium.webdriver.support import expected_conditions as EC"
   ]
  },
  {
   "cell_type": "markdown",
   "id": "9932258e",
   "metadata": {},
   "source": [
    "Once we have imported the libraries, we will then get the data by connecting to the Chrome webdriver."
   ]
  },
  {
   "cell_type": "code",
   "execution_count": 3,
   "id": "39e49850",
   "metadata": {},
   "outputs": [],
   "source": [
    "#get the data\n",
    "#define the browser\n",
    "\n",
    "chrome_opts = Options()\n",
    "chrome_opts.add_argument(\"--disable-notifications\")\n",
    "driver = webdriver.Chrome(service=Service(\"chromedriver.exe\"),options=chrome_opts)\n",
    "#open the browser and go to the page\n",
    "driver.get(\"https://www.bharian.com.my/berita/nasional/2022/11/1028360/keputusan-rasmi-pru15\")\n",
    "#get the section of website with the information\n",
    "content = WebDriverWait(driver,20).until(EC.presence_of_element_located((By.CLASS_NAME,'dable-content-wrapper')))\n",
    "text = content.text\n",
    "#close the browser\n",
    "driver.close()"
   ]
  },
  {
   "cell_type": "markdown",
   "id": "c0ce62f6",
   "metadata": {},
   "source": [
    "Then, we will do data cleaning such as split by space, extracting matching patterns and others. After we finished with the data cleaning, we will combined the data into a sorted pandas data frame."
   ]
  },
  {
   "cell_type": "code",
   "execution_count": 4,
   "id": "c65cbf15",
   "metadata": {},
   "outputs": [],
   "source": [
    "import re \n",
    "import pandas as pd\n",
    "#split the content into lines\n",
    "lines = [l for l in text.split('\\n')]\n",
    "#only extract all winners (there are many different patterns)\n",
    "patt = \"^P*\\d+\\:* .+\" #pattern to get the parliment number and names\n",
    "#except P17 PADANG SERAI because not contested\n",
    "parliments = [(i,x) for i, x in enumerate(lines)\n",
    "                 if re.match(patt,x)\n",
    "                 and \"P17 PADANG SERAI\" not in x]\n",
    "\n",
    "# sepecific because no 'MENANG' mentioned in line\n",
    "#selayang and bandar tun razak wrong winners stated in the article\n",
    "special = [(i,x) for i,x in enumerate(lines)\n",
    "          if '1. DATUK ANYI NGAU (GPS-PDP)' in x or #baram\n",
    "          '2. DATUK SERI AZALINA OTHMAN SAID (BN-UMNO)' in x or #pengerang\n",
    "          '1. Wan Azizah Wan Ismail (PH-PKR)' in x or #bandar tun razak\n",
    "          '5. William Leong (PH-PKR)' in x] #selayang\n",
    "\n",
    "#contains menang except bandar tun razak and selayang\n",
    "members = [(i,x) for i,x in enumerate(lines)\n",
    "          if \"menang\" in x.lower() and\n",
    "          '2. KAMARUDIN JAFFAR (PN-BERSATU)' not in x and #bandar tun razak\n",
    "          '1. ABDUL RASHID ASARI (PN-BERSATU)' not in x] #selayang\n",
    "\n",
    "#keep data into dataframes\n",
    "ps = pd.DataFrame(parliments, columns=['line', 'item'])\n",
    "sp = pd.DataFrame(special, columns=['line','item'])\n",
    "ms = pd.DataFrame(members, columns=['line','item'])"
   ]
  },
  {
   "cell_type": "code",
   "execution_count": 5,
   "id": "724e257a",
   "metadata": {},
   "outputs": [],
   "source": [
    "#put all the result back into one dataframe\n",
    "sorted_results = pd.concat([ps,ms,sp]).sort_values('line').reset_index(drop=True)\n",
    "#index odd is parliment and index even is winner\n",
    "plms = sorted_results[sorted_results.index%2 == 0].reset_index(drop=True)\n",
    "mems = sorted_results[sorted_results.index%2 == 1].reset_index(drop=True)\n",
    "results = plms.join(mems, lsuffix='_').drop(['line_','line'],axis=1)\n",
    "results.columns = ['p','m']"
   ]
  },
  {
   "cell_type": "code",
   "execution_count": 6,
   "id": "ac0ea482",
   "metadata": {
    "scrolled": false
   },
   "outputs": [
    {
     "data": {
      "text/html": [
       "<div>\n",
       "<style scoped>\n",
       "    .dataframe tbody tr th:only-of-type {\n",
       "        vertical-align: middle;\n",
       "    }\n",
       "\n",
       "    .dataframe tbody tr th {\n",
       "        vertical-align: top;\n",
       "    }\n",
       "\n",
       "    .dataframe thead th {\n",
       "        text-align: right;\n",
       "    }\n",
       "</style>\n",
       "<table border=\"1\" class=\"dataframe\">\n",
       "  <thead>\n",
       "    <tr style=\"text-align: right;\">\n",
       "      <th></th>\n",
       "      <th>p</th>\n",
       "      <th>m</th>\n",
       "    </tr>\n",
       "  </thead>\n",
       "  <tbody>\n",
       "    <tr>\n",
       "      <th>0</th>\n",
       "      <td>P1 PADANG BESAR</td>\n",
       "      <td>3. RUSHDAN RUSMI (PN-PAS) 24,267 MENANG</td>\n",
       "    </tr>\n",
       "    <tr>\n",
       "      <th>1</th>\n",
       "      <td>P2 KANGAR</td>\n",
       "      <td>1.  ZAKRI HASSAN (PN-BERSATU) 24,562 MENANG</td>\n",
       "    </tr>\n",
       "    <tr>\n",
       "      <th>2</th>\n",
       "      <td>P3 ARAU</td>\n",
       "      <td>2. SHAHIDAN  KASSIM (PN- BERSATU) 31,458 MENANG</td>\n",
       "    </tr>\n",
       "    <tr>\n",
       "      <th>3</th>\n",
       "      <td>P4 LANGKAWI</td>\n",
       "      <td>3. SUHAIMI ABDULLAH (PN-BERSATU) 25,463 MENANG</td>\n",
       "    </tr>\n",
       "    <tr>\n",
       "      <th>4</th>\n",
       "      <td>P5 JERLUN</td>\n",
       "      <td>1. ABD GHANI AHMAD (PN-PAS) 31,685 MENANG</td>\n",
       "    </tr>\n",
       "  </tbody>\n",
       "</table>\n",
       "</div>"
      ],
      "text/plain": [
       "                 p                                                m\n",
       "0  P1 PADANG BESAR          3. RUSHDAN RUSMI (PN-PAS) 24,267 MENANG\n",
       "1        P2 KANGAR      1.  ZAKRI HASSAN (PN-BERSATU) 24,562 MENANG\n",
       "2          P3 ARAU  2. SHAHIDAN  KASSIM (PN- BERSATU) 31,458 MENANG\n",
       "3      P4 LANGKAWI   3. SUHAIMI ABDULLAH (PN-BERSATU) 25,463 MENANG\n",
       "4        P5 JERLUN        1. ABD GHANI AHMAD (PN-PAS) 31,685 MENANG"
      ]
     },
     "execution_count": 6,
     "metadata": {},
     "output_type": "execute_result"
    }
   ],
   "source": [
    "results.head()"
   ]
  },
  {
   "cell_type": "code",
   "execution_count": 7,
   "id": "bb57eb43",
   "metadata": {},
   "outputs": [],
   "source": [
    "#extract parliment numbers and parliment names\n",
    "pnum = results['p'].apply(lambda x: x.split(\" \",1)[0])\n",
    "pname = results['p'].apply(lambda x: x.split(\" \",1)[1])\n",
    "# extract member's names, party, and their received votes\n",
    "mname = results['m'].apply(lambda x: re.match('^\\d*.(.+)\\((.+)\\)\\s?(.+)',x).groups()[0] if re.match('^\\d*.(.+)\\((.+)\\)\\s?(.+)',x) else None).astype(str)\n",
    "mparty = results['m'].apply(lambda x: re.match('^\\d*.(.+)\\((.+)\\)\\s?(.+)',x).groups()[1] if re.match('^\\d*.(.+)\\((.+)\\)\\s?(.+)',x) else None).astype(str)\n",
    "mvotes = results['m'].apply(lambda x: re.match('^\\d*.(.+)\\((.+)\\)\\s?(.+)',x).groups()[2] if re.match('^\\d*.(.+)\\((.+)\\)\\s?(.+)',x) else None).astype(str)\n",
    "# clean the text votes and turn to integer\n",
    "mvotes = (\n",
    "        mvotes.str.replace('.','',regex=False)\n",
    "        .str.replace(',','', regex=False)\n",
    "        .str.replace('MENANG','',regex=False)\n",
    "        .str.replace('menang','',regex=False)\n",
    "        .str.replace('-','',regex=False)\n",
    "        .str.replace(':','',regex=False)\n",
    "        .str.replace(' ','',regex=False)\n",
    ")"
   ]
  },
  {
   "cell_type": "markdown",
   "id": "39bab463",
   "metadata": {},
   "source": [
    "The newly extracted columns will now be combined into a single dataframe with appropriate column names."
   ]
  },
  {
   "cell_type": "code",
   "execution_count": 8,
   "id": "ae14a76d",
   "metadata": {},
   "outputs": [],
   "source": [
    "#combine all the extracted data back into a dataframe\n",
    "df = pd.concat([pnum,pname,mname,mparty,mvotes],axis=1)\n",
    "df.columns = ['pnum','parliment','mp','party','votes']"
   ]
  },
  {
   "cell_type": "code",
   "execution_count": 9,
   "id": "80d6eda8",
   "metadata": {},
   "outputs": [],
   "source": [
    "#name the coalition\n",
    "def coalition(party):\n",
    "    for x in ['PN','BN','PH', 'GPS','GRS','BEBAS']:\n",
    "        if x in party:\n",
    "            return x\n",
    "    for x in ['Warisan', 'WARISAN']:\n",
    "        if x in party:\n",
    "            return 'Warisan'\n",
    "    for x in ['PAS', 'BERSATU']:\n",
    "        if x in party:\n",
    "            return 'PN'\n",
    "    if 'DAP' in party:\n",
    "        return 'PH'\n",
    "    return 'OTHER'\n",
    "\n",
    "df['coalition'] = df['party'].apply(coalition)"
   ]
  },
  {
   "cell_type": "markdown",
   "id": "17838c93",
   "metadata": {},
   "source": [
    "The newly cleaned data will look like below:"
   ]
  },
  {
   "cell_type": "code",
   "execution_count": 10,
   "id": "8c2d3251",
   "metadata": {},
   "outputs": [
    {
     "data": {
      "text/html": [
       "<div>\n",
       "<style scoped>\n",
       "    .dataframe tbody tr th:only-of-type {\n",
       "        vertical-align: middle;\n",
       "    }\n",
       "\n",
       "    .dataframe tbody tr th {\n",
       "        vertical-align: top;\n",
       "    }\n",
       "\n",
       "    .dataframe thead th {\n",
       "        text-align: right;\n",
       "    }\n",
       "</style>\n",
       "<table border=\"1\" class=\"dataframe\">\n",
       "  <thead>\n",
       "    <tr style=\"text-align: right;\">\n",
       "      <th></th>\n",
       "      <th>pnum</th>\n",
       "      <th>parliment</th>\n",
       "      <th>mp</th>\n",
       "      <th>party</th>\n",
       "      <th>votes</th>\n",
       "      <th>coalition</th>\n",
       "    </tr>\n",
       "  </thead>\n",
       "  <tbody>\n",
       "    <tr>\n",
       "      <th>0</th>\n",
       "      <td>P1</td>\n",
       "      <td>PADANG BESAR</td>\n",
       "      <td>RUSHDAN RUSMI</td>\n",
       "      <td>PN-PAS</td>\n",
       "      <td>24267</td>\n",
       "      <td>PN</td>\n",
       "    </tr>\n",
       "    <tr>\n",
       "      <th>1</th>\n",
       "      <td>P2</td>\n",
       "      <td>KANGAR</td>\n",
       "      <td>ZAKRI HASSAN</td>\n",
       "      <td>PN-BERSATU</td>\n",
       "      <td>24562</td>\n",
       "      <td>PN</td>\n",
       "    </tr>\n",
       "    <tr>\n",
       "      <th>2</th>\n",
       "      <td>P3</td>\n",
       "      <td>ARAU</td>\n",
       "      <td>SHAHIDAN  KASSIM</td>\n",
       "      <td>PN- BERSATU</td>\n",
       "      <td>31458</td>\n",
       "      <td>PN</td>\n",
       "    </tr>\n",
       "    <tr>\n",
       "      <th>3</th>\n",
       "      <td>P4</td>\n",
       "      <td>LANGKAWI</td>\n",
       "      <td>SUHAIMI ABDULLAH</td>\n",
       "      <td>PN-BERSATU</td>\n",
       "      <td>25463</td>\n",
       "      <td>PN</td>\n",
       "    </tr>\n",
       "    <tr>\n",
       "      <th>4</th>\n",
       "      <td>P5</td>\n",
       "      <td>JERLUN</td>\n",
       "      <td>ABD GHANI AHMAD</td>\n",
       "      <td>PN-PAS</td>\n",
       "      <td>31685</td>\n",
       "      <td>PN</td>\n",
       "    </tr>\n",
       "  </tbody>\n",
       "</table>\n",
       "</div>"
      ],
      "text/plain": [
       "  pnum     parliment                  mp        party  votes coalition\n",
       "0   P1  PADANG BESAR      RUSHDAN RUSMI        PN-PAS  24267        PN\n",
       "1   P2        KANGAR       ZAKRI HASSAN    PN-BERSATU  24562        PN\n",
       "2   P3          ARAU   SHAHIDAN  KASSIM   PN- BERSATU  31458        PN\n",
       "3   P4      LANGKAWI   SUHAIMI ABDULLAH    PN-BERSATU  25463        PN\n",
       "4   P5        JERLUN    ABD GHANI AHMAD        PN-PAS  31685        PN"
      ]
     },
     "execution_count": 10,
     "metadata": {},
     "output_type": "execute_result"
    }
   ],
   "source": [
    "df.head()"
   ]
  },
  {
   "cell_type": "markdown",
   "id": "296cf4e9",
   "metadata": {},
   "source": [
    "Lastly, export the dataframe into a CSV file"
   ]
  },
  {
   "cell_type": "code",
   "execution_count": 11,
   "id": "3742682b",
   "metadata": {},
   "outputs": [],
   "source": [
    "df.to_csv('PRU15_Results.csv', index=False)"
   ]
  }
 ],
 "metadata": {
  "kernelspec": {
   "display_name": "Python 3 (ipykernel)",
   "language": "python",
   "name": "python3"
  },
  "language_info": {
   "codemirror_mode": {
    "name": "ipython",
    "version": 3
   },
   "file_extension": ".py",
   "mimetype": "text/x-python",
   "name": "python",
   "nbconvert_exporter": "python",
   "pygments_lexer": "ipython3",
   "version": "3.9.13"
  }
 },
 "nbformat": 4,
 "nbformat_minor": 5
}
